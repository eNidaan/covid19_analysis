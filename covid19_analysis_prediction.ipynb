{
  "nbformat": 4,
  "nbformat_minor": 0,
  "metadata": {
    "colab": {
      "name": "covid19_analysis",
      "provenance": [],
      "collapsed_sections": []
    },
    "kernelspec": {
      "name": "python3",
      "display_name": "Python 3"
    },
    "accelerator": "GPU"
  },
  "cells": [
    {
      "cell_type": "markdown",
      "metadata": {
        "id": "oWel-KudctR3"
      },
      "source": [
        "# Covid 19 Analysis\n",
        "**Data by** Nexoid\n",
        "\n",
        "**Author** Vishal Sharma\n",
        "\n",
        "**Predicting Covid-19 risk infection**\n",
        "\n",
        "NB: Built from scratch, no other references required"
      ]
    },
    {
      "cell_type": "code",
      "metadata": {
        "id": "jpK4tamUnIcI"
      },
      "source": [
        "import pandas as pd\n",
        "import numpy as np\n",
        "import matplotlib.pyplot as plt\n",
        "import seaborn as sns\n",
        "from scipy.stats import chi2_contingency\n",
        "import scipy.stats as stats\n",
        "%matplotlib inline"
      ],
      "execution_count": null,
      "outputs": []
    },
    {
      "cell_type": "markdown",
      "metadata": {
        "id": "SS1Hp4UCPIIP"
      },
      "source": [
        "## Data processing"
      ]
    },
    {
      "cell_type": "code",
      "metadata": {
        "id": "mXx2Cl7vRrh7",
        "outputId": "afac15b3-8ca6-4aac-de18-0550bbb213a3",
        "colab": {
          "base_uri": "https://localhost:8080/"
        }
      },
      "source": [
        "from google.colab import drive\n",
        "drive.mount('/content/drive')"
      ],
      "execution_count": null,
      "outputs": [
        {
          "output_type": "stream",
          "text": [
            "Mounted at /content/drive\n"
          ],
          "name": "stdout"
        }
      ]
    },
    {
      "cell_type": "code",
      "metadata": {
        "id": "MKYp_n9s9LV2",
        "outputId": "a8a2dbce-add7-40db-9744-f5b79cf63bc5",
        "colab": {
          "base_uri": "https://localhost:8080/"
        }
      },
      "source": [
        "data = pd.read_csv(\"/content/drive/My Drive/Colab Notebooks/master_dataset.csv\")"
      ],
      "execution_count": null,
      "outputs": [
        {
          "output_type": "stream",
          "text": [
            "/usr/local/lib/python3.6/dist-packages/IPython/core/interactiveshell.py:2718: DtypeWarning: Columns (8,9,12,13,14,15,36) have mixed types.Specify dtype option on import or set low_memory=False.\n",
            "  interactivity=interactivity, compiler=compiler, result=result)\n"
          ],
          "name": "stderr"
        }
      ]
    },
    {
      "cell_type": "code",
      "metadata": {
        "id": "m0mCwf7p9YO4",
        "outputId": "7cd353e1-6146-4037-9f52-45f616eb650d",
        "colab": {
          "base_uri": "https://localhost:8080/",
          "height": 226
        }
      },
      "source": [
        "pd.set_option('display.max_rows', None)\n",
        "data.head()"
      ],
      "execution_count": null,
      "outputs": [
        {
          "output_type": "execute_result",
          "data": {
            "text/html": [
              "<div>\n",
              "<style scoped>\n",
              "    .dataframe tbody tr th:only-of-type {\n",
              "        vertical-align: middle;\n",
              "    }\n",
              "\n",
              "    .dataframe tbody tr th {\n",
              "        vertical-align: top;\n",
              "    }\n",
              "\n",
              "    .dataframe thead th {\n",
              "        text-align: right;\n",
              "    }\n",
              "</style>\n",
              "<table border=\"1\" class=\"dataframe\">\n",
              "  <thead>\n",
              "    <tr style=\"text-align: right;\">\n",
              "      <th></th>\n",
              "      <th>survey_date</th>\n",
              "      <th>region</th>\n",
              "      <th>country</th>\n",
              "      <th>ip_latitude</th>\n",
              "      <th>ip_longitude</th>\n",
              "      <th>ip_accuracy</th>\n",
              "      <th>sex</th>\n",
              "      <th>age</th>\n",
              "      <th>height</th>\n",
              "      <th>weight</th>\n",
              "      <th>bmi</th>\n",
              "      <th>blood_type</th>\n",
              "      <th>insurance</th>\n",
              "      <th>income</th>\n",
              "      <th>race</th>\n",
              "      <th>immigrant</th>\n",
              "      <th>smoking</th>\n",
              "      <th>alcohol</th>\n",
              "      <th>cannabis</th>\n",
              "      <th>amphetamines</th>\n",
              "      <th>cocaine</th>\n",
              "      <th>lsd</th>\n",
              "      <th>mdma</th>\n",
              "      <th>contacts_count</th>\n",
              "      <th>house_count</th>\n",
              "      <th>public_transport_count</th>\n",
              "      <th>working</th>\n",
              "      <th>worried</th>\n",
              "      <th>rate_reducing_risk_single</th>\n",
              "      <th>rate_reducing_risk_single_social_distancing</th>\n",
              "      <th>rate_reducing_risk_single_washing_hands</th>\n",
              "      <th>rate_reducing_risk_house</th>\n",
              "      <th>rate_reducing_risk_house_social_distancing</th>\n",
              "      <th>rate_reducing_risk_house_washing_hands</th>\n",
              "      <th>rate_reducing_risk_single_sanitizer</th>\n",
              "      <th>rate_reducing_mask</th>\n",
              "      <th>rate_reducing_mask_type</th>\n",
              "      <th>rate_government_action</th>\n",
              "      <th>rate_government_control</th>\n",
              "      <th>rate_government_spend</th>\n",
              "      <th>covid19_positive</th>\n",
              "      <th>covid19_symptoms</th>\n",
              "      <th>covid19_contact</th>\n",
              "      <th>asthma</th>\n",
              "      <th>kidney_disease</th>\n",
              "      <th>liver_disease</th>\n",
              "      <th>compromised_immune</th>\n",
              "      <th>heart_disease</th>\n",
              "      <th>lung_disease</th>\n",
              "      <th>diabetes</th>\n",
              "      <th>hiv_positive</th>\n",
              "      <th>hypertension</th>\n",
              "      <th>other_chronic</th>\n",
              "      <th>nursing_home</th>\n",
              "      <th>health_worker</th>\n",
              "      <th>prescription_medication</th>\n",
              "      <th>opinion_infection</th>\n",
              "      <th>opinion_mortality</th>\n",
              "      <th>risk_infection</th>\n",
              "      <th>risk_mortality</th>\n",
              "    </tr>\n",
              "  </thead>\n",
              "  <tbody>\n",
              "    <tr>\n",
              "      <th>2020-03-25</th>\n",
              "      <td>NaN</td>\n",
              "      <td>CA</td>\n",
              "      <td>43.7597</td>\n",
              "      <td>-79.2985</td>\n",
              "      <td>100.0</td>\n",
              "      <td>male</td>\n",
              "      <td>20_30</td>\n",
              "      <td>178</td>\n",
              "      <td>88</td>\n",
              "      <td>27.7</td>\n",
              "      <td>bn</td>\n",
              "      <td>NaN</td>\n",
              "      <td>NaN</td>\n",
              "      <td>NaN</td>\n",
              "      <td>NaN</td>\n",
              "      <td>NaN</td>\n",
              "      <td>NaN</td>\n",
              "      <td>NaN</td>\n",
              "      <td>NaN</td>\n",
              "      <td>NaN</td>\n",
              "      <td>NaN</td>\n",
              "      <td>NaN</td>\n",
              "      <td>NaN</td>\n",
              "      <td>4.0</td>\n",
              "      <td>NaN</td>\n",
              "      <td>NaN</td>\n",
              "      <td>NaN</td>\n",
              "      <td>0</td>\n",
              "      <td>0</td>\n",
              "      <td>0</td>\n",
              "      <td>0</td>\n",
              "      <td>0</td>\n",
              "      <td>0</td>\n",
              "      <td>0</td>\n",
              "      <td>NaN</td>\n",
              "      <td>NaN</td>\n",
              "      <td>1</td>\n",
              "      <td>0</td>\n",
              "      <td>0</td>\n",
              "      <td>0</td>\n",
              "      <td>0</td>\n",
              "      <td>0</td>\n",
              "      <td>0</td>\n",
              "      <td>0</td>\n",
              "      <td>0</td>\n",
              "      <td>0</td>\n",
              "      <td>0</td>\n",
              "      <td>0</td>\n",
              "      <td>0</td>\n",
              "      <td>0</td>\n",
              "      <td>0</td>\n",
              "      <td>0</td>\n",
              "      <td>0</td>\n",
              "      <td>0</td>\n",
              "      <td>NaN</td>\n",
              "      <td>NaN</td>\n",
              "      <td>NaN</td>\n",
              "      <td>5.0</td>\n",
              "      <td>0.050</td>\n",
              "      <td>NaN</td>\n",
              "    </tr>\n",
              "    <tr>\n",
              "      <th>2020-03-26</th>\n",
              "      <td>NaN</td>\n",
              "      <td>CA</td>\n",
              "      <td>51.1443</td>\n",
              "      <td>-114.0953</td>\n",
              "      <td>5.0</td>\n",
              "      <td>female</td>\n",
              "      <td>30_40</td>\n",
              "      <td>158</td>\n",
              "      <td>54</td>\n",
              "      <td>21.6</td>\n",
              "      <td>unknown</td>\n",
              "      <td>NaN</td>\n",
              "      <td>NaN</td>\n",
              "      <td>NaN</td>\n",
              "      <td>NaN</td>\n",
              "      <td>NaN</td>\n",
              "      <td>NaN</td>\n",
              "      <td>NaN</td>\n",
              "      <td>NaN</td>\n",
              "      <td>NaN</td>\n",
              "      <td>NaN</td>\n",
              "      <td>NaN</td>\n",
              "      <td>NaN</td>\n",
              "      <td>2.0</td>\n",
              "      <td>NaN</td>\n",
              "      <td>NaN</td>\n",
              "      <td>NaN</td>\n",
              "      <td>0</td>\n",
              "      <td>0</td>\n",
              "      <td>0</td>\n",
              "      <td>0</td>\n",
              "      <td>0</td>\n",
              "      <td>0</td>\n",
              "      <td>0</td>\n",
              "      <td>NaN</td>\n",
              "      <td>NaN</td>\n",
              "      <td>0</td>\n",
              "      <td>0</td>\n",
              "      <td>0</td>\n",
              "      <td>0</td>\n",
              "      <td>0</td>\n",
              "      <td>0</td>\n",
              "      <td>0</td>\n",
              "      <td>0</td>\n",
              "      <td>0</td>\n",
              "      <td>0</td>\n",
              "      <td>0</td>\n",
              "      <td>0</td>\n",
              "      <td>0</td>\n",
              "      <td>0</td>\n",
              "      <td>0</td>\n",
              "      <td>0</td>\n",
              "      <td>0</td>\n",
              "      <td>0</td>\n",
              "      <td>NaN</td>\n",
              "      <td>NaN</td>\n",
              "      <td>NaN</td>\n",
              "      <td>5.0</td>\n",
              "      <td>0.050</td>\n",
              "      <td>NaN</td>\n",
              "    </tr>\n",
              "    <tr>\n",
              "      <th>2020-03-25</th>\n",
              "      <td>NaN</td>\n",
              "      <td>CA</td>\n",
              "      <td>43.2322</td>\n",
              "      <td>-79.8854</td>\n",
              "      <td>100.0</td>\n",
              "      <td>male</td>\n",
              "      <td>90_100</td>\n",
              "      <td>184</td>\n",
              "      <td>94</td>\n",
              "      <td>27.7</td>\n",
              "      <td>an</td>\n",
              "      <td>NaN</td>\n",
              "      <td>NaN</td>\n",
              "      <td>NaN</td>\n",
              "      <td>NaN</td>\n",
              "      <td>NaN</td>\n",
              "      <td>NaN</td>\n",
              "      <td>NaN</td>\n",
              "      <td>NaN</td>\n",
              "      <td>NaN</td>\n",
              "      <td>NaN</td>\n",
              "      <td>NaN</td>\n",
              "      <td>NaN</td>\n",
              "      <td>4.0</td>\n",
              "      <td>NaN</td>\n",
              "      <td>NaN</td>\n",
              "      <td>NaN</td>\n",
              "      <td>0</td>\n",
              "      <td>0</td>\n",
              "      <td>0</td>\n",
              "      <td>0</td>\n",
              "      <td>0</td>\n",
              "      <td>0</td>\n",
              "      <td>0</td>\n",
              "      <td>NaN</td>\n",
              "      <td>NaN</td>\n",
              "      <td>1</td>\n",
              "      <td>0</td>\n",
              "      <td>0</td>\n",
              "      <td>0</td>\n",
              "      <td>0</td>\n",
              "      <td>0</td>\n",
              "      <td>0</td>\n",
              "      <td>0</td>\n",
              "      <td>0</td>\n",
              "      <td>1</td>\n",
              "      <td>0</td>\n",
              "      <td>1</td>\n",
              "      <td>1</td>\n",
              "      <td>0</td>\n",
              "      <td>1</td>\n",
              "      <td>0</td>\n",
              "      <td>0</td>\n",
              "      <td>0</td>\n",
              "      <td>NaN</td>\n",
              "      <td>NaN</td>\n",
              "      <td>NaN</td>\n",
              "      <td>12.0</td>\n",
              "      <td>14.701</td>\n",
              "      <td>NaN</td>\n",
              "    </tr>\n",
              "    <tr>\n",
              "      <th>2020-03-25</th>\n",
              "      <td>NaN</td>\n",
              "      <td>CA</td>\n",
              "      <td>45.6766</td>\n",
              "      <td>-73.8329</td>\n",
              "      <td>5.0</td>\n",
              "      <td>male</td>\n",
              "      <td>60_70</td>\n",
              "      <td>172</td>\n",
              "      <td>96</td>\n",
              "      <td>32.4</td>\n",
              "      <td>unknown</td>\n",
              "      <td>NaN</td>\n",
              "      <td>NaN</td>\n",
              "      <td>NaN</td>\n",
              "      <td>NaN</td>\n",
              "      <td>NaN</td>\n",
              "      <td>NaN</td>\n",
              "      <td>NaN</td>\n",
              "      <td>NaN</td>\n",
              "      <td>NaN</td>\n",
              "      <td>NaN</td>\n",
              "      <td>NaN</td>\n",
              "      <td>NaN</td>\n",
              "      <td>5.0</td>\n",
              "      <td>NaN</td>\n",
              "      <td>NaN</td>\n",
              "      <td>NaN</td>\n",
              "      <td>0</td>\n",
              "      <td>0</td>\n",
              "      <td>0</td>\n",
              "      <td>0</td>\n",
              "      <td>0</td>\n",
              "      <td>0</td>\n",
              "      <td>0</td>\n",
              "      <td>NaN</td>\n",
              "      <td>NaN</td>\n",
              "      <td>0</td>\n",
              "      <td>0</td>\n",
              "      <td>0</td>\n",
              "      <td>0</td>\n",
              "      <td>0</td>\n",
              "      <td>0</td>\n",
              "      <td>0</td>\n",
              "      <td>0</td>\n",
              "      <td>0</td>\n",
              "      <td>0</td>\n",
              "      <td>0</td>\n",
              "      <td>0</td>\n",
              "      <td>1</td>\n",
              "      <td>0</td>\n",
              "      <td>1</td>\n",
              "      <td>0</td>\n",
              "      <td>0</td>\n",
              "      <td>0</td>\n",
              "      <td>NaN</td>\n",
              "      <td>NaN</td>\n",
              "      <td>NaN</td>\n",
              "      <td>6.0</td>\n",
              "      <td>2.250</td>\n",
              "      <td>NaN</td>\n",
              "    </tr>\n",
              "    <tr>\n",
              "      <th>2020-03-26</th>\n",
              "      <td>NaN</td>\n",
              "      <td>CA</td>\n",
              "      <td>49.1839</td>\n",
              "      <td>-123.1285</td>\n",
              "      <td>1.0</td>\n",
              "      <td>male</td>\n",
              "      <td>30_40</td>\n",
              "      <td>166</td>\n",
              "      <td>70</td>\n",
              "      <td>25.4</td>\n",
              "      <td>abp</td>\n",
              "      <td>NaN</td>\n",
              "      <td>NaN</td>\n",
              "      <td>NaN</td>\n",
              "      <td>NaN</td>\n",
              "      <td>NaN</td>\n",
              "      <td>NaN</td>\n",
              "      <td>NaN</td>\n",
              "      <td>NaN</td>\n",
              "      <td>NaN</td>\n",
              "      <td>NaN</td>\n",
              "      <td>NaN</td>\n",
              "      <td>NaN</td>\n",
              "      <td>7.0</td>\n",
              "      <td>NaN</td>\n",
              "      <td>NaN</td>\n",
              "      <td>NaN</td>\n",
              "      <td>0</td>\n",
              "      <td>0</td>\n",
              "      <td>0</td>\n",
              "      <td>0</td>\n",
              "      <td>0</td>\n",
              "      <td>0</td>\n",
              "      <td>0</td>\n",
              "      <td>NaN</td>\n",
              "      <td>NaN</td>\n",
              "      <td>1</td>\n",
              "      <td>0</td>\n",
              "      <td>0</td>\n",
              "      <td>0</td>\n",
              "      <td>0</td>\n",
              "      <td>0</td>\n",
              "      <td>0</td>\n",
              "      <td>0</td>\n",
              "      <td>0</td>\n",
              "      <td>0</td>\n",
              "      <td>0</td>\n",
              "      <td>0</td>\n",
              "      <td>0</td>\n",
              "      <td>0</td>\n",
              "      <td>0</td>\n",
              "      <td>0</td>\n",
              "      <td>0</td>\n",
              "      <td>0</td>\n",
              "      <td>NaN</td>\n",
              "      <td>NaN</td>\n",
              "      <td>NaN</td>\n",
              "      <td>5.0</td>\n",
              "      <td>0.050</td>\n",
              "      <td>NaN</td>\n",
              "    </tr>\n",
              "  </tbody>\n",
              "</table>\n",
              "</div>"
            ],
            "text/plain": [
              "           survey_date region  ...  risk_infection  risk_mortality\n",
              "2020-03-25         NaN     CA  ...           0.050             NaN\n",
              "2020-03-26         NaN     CA  ...           0.050             NaN\n",
              "2020-03-25         NaN     CA  ...          14.701             NaN\n",
              "2020-03-25         NaN     CA  ...           2.250             NaN\n",
              "2020-03-26         NaN     CA  ...           0.050             NaN\n",
              "\n",
              "[5 rows x 60 columns]"
            ]
          },
          "metadata": {
            "tags": []
          },
          "execution_count": 4
        }
      ]
    },
    {
      "cell_type": "code",
      "metadata": {
        "id": "oRUPMG_CX4qw"
      },
      "source": [
        "data = data.shift(1, axis = 1) "
      ],
      "execution_count": null,
      "outputs": []
    },
    {
      "cell_type": "code",
      "metadata": {
        "id": "hD5UJ_opYHdr"
      },
      "source": [
        "data['survey_date'] = data.index"
      ],
      "execution_count": null,
      "outputs": []
    },
    {
      "cell_type": "code",
      "metadata": {
        "id": "ZbHZWfeHOFw-"
      },
      "source": [
        "data['ID'] = range(1, len(data) + 1)"
      ],
      "execution_count": null,
      "outputs": []
    },
    {
      "cell_type": "code",
      "metadata": {
        "id": "6H5n41B9VAn4",
        "outputId": "2389b6e1-0c5c-4b24-974b-a3373af3189c",
        "colab": {
          "base_uri": "https://localhost:8080/",
          "height": 226
        }
      },
      "source": [
        "data.head()"
      ],
      "execution_count": null,
      "outputs": [
        {
          "output_type": "execute_result",
          "data": {
            "text/html": [
              "<div>\n",
              "<style scoped>\n",
              "    .dataframe tbody tr th:only-of-type {\n",
              "        vertical-align: middle;\n",
              "    }\n",
              "\n",
              "    .dataframe tbody tr th {\n",
              "        vertical-align: top;\n",
              "    }\n",
              "\n",
              "    .dataframe thead th {\n",
              "        text-align: right;\n",
              "    }\n",
              "</style>\n",
              "<table border=\"1\" class=\"dataframe\">\n",
              "  <thead>\n",
              "    <tr style=\"text-align: right;\">\n",
              "      <th></th>\n",
              "      <th>survey_date</th>\n",
              "      <th>region</th>\n",
              "      <th>country</th>\n",
              "      <th>ip_latitude</th>\n",
              "      <th>ip_longitude</th>\n",
              "      <th>ip_accuracy</th>\n",
              "      <th>sex</th>\n",
              "      <th>age</th>\n",
              "      <th>height</th>\n",
              "      <th>weight</th>\n",
              "      <th>bmi</th>\n",
              "      <th>blood_type</th>\n",
              "      <th>insurance</th>\n",
              "      <th>income</th>\n",
              "      <th>race</th>\n",
              "      <th>immigrant</th>\n",
              "      <th>smoking</th>\n",
              "      <th>alcohol</th>\n",
              "      <th>cannabis</th>\n",
              "      <th>amphetamines</th>\n",
              "      <th>cocaine</th>\n",
              "      <th>lsd</th>\n",
              "      <th>mdma</th>\n",
              "      <th>contacts_count</th>\n",
              "      <th>house_count</th>\n",
              "      <th>public_transport_count</th>\n",
              "      <th>working</th>\n",
              "      <th>worried</th>\n",
              "      <th>rate_reducing_risk_single</th>\n",
              "      <th>rate_reducing_risk_single_social_distancing</th>\n",
              "      <th>rate_reducing_risk_single_washing_hands</th>\n",
              "      <th>rate_reducing_risk_house</th>\n",
              "      <th>rate_reducing_risk_house_social_distancing</th>\n",
              "      <th>rate_reducing_risk_house_washing_hands</th>\n",
              "      <th>rate_reducing_risk_single_sanitizer</th>\n",
              "      <th>rate_reducing_mask</th>\n",
              "      <th>rate_reducing_mask_type</th>\n",
              "      <th>rate_government_action</th>\n",
              "      <th>rate_government_control</th>\n",
              "      <th>rate_government_spend</th>\n",
              "      <th>covid19_positive</th>\n",
              "      <th>covid19_symptoms</th>\n",
              "      <th>covid19_contact</th>\n",
              "      <th>asthma</th>\n",
              "      <th>kidney_disease</th>\n",
              "      <th>liver_disease</th>\n",
              "      <th>compromised_immune</th>\n",
              "      <th>heart_disease</th>\n",
              "      <th>lung_disease</th>\n",
              "      <th>diabetes</th>\n",
              "      <th>hiv_positive</th>\n",
              "      <th>hypertension</th>\n",
              "      <th>other_chronic</th>\n",
              "      <th>nursing_home</th>\n",
              "      <th>health_worker</th>\n",
              "      <th>prescription_medication</th>\n",
              "      <th>opinion_infection</th>\n",
              "      <th>opinion_mortality</th>\n",
              "      <th>risk_infection</th>\n",
              "      <th>risk_mortality</th>\n",
              "      <th>ID</th>\n",
              "    </tr>\n",
              "  </thead>\n",
              "  <tbody>\n",
              "    <tr>\n",
              "      <th>2020-03-25</th>\n",
              "      <td>2020-03-25</td>\n",
              "      <td>NaN</td>\n",
              "      <td>CA</td>\n",
              "      <td>43.7597</td>\n",
              "      <td>-79.2985</td>\n",
              "      <td>100.0</td>\n",
              "      <td>male</td>\n",
              "      <td>20_30</td>\n",
              "      <td>178</td>\n",
              "      <td>88</td>\n",
              "      <td>27.7</td>\n",
              "      <td>bn</td>\n",
              "      <td>NaN</td>\n",
              "      <td>NaN</td>\n",
              "      <td>NaN</td>\n",
              "      <td>NaN</td>\n",
              "      <td>NaN</td>\n",
              "      <td>NaN</td>\n",
              "      <td>NaN</td>\n",
              "      <td>NaN</td>\n",
              "      <td>NaN</td>\n",
              "      <td>NaN</td>\n",
              "      <td>NaN</td>\n",
              "      <td>NaN</td>\n",
              "      <td>4.0</td>\n",
              "      <td>NaN</td>\n",
              "      <td>NaN</td>\n",
              "      <td>NaN</td>\n",
              "      <td>0</td>\n",
              "      <td>0</td>\n",
              "      <td>0</td>\n",
              "      <td>0</td>\n",
              "      <td>0</td>\n",
              "      <td>0</td>\n",
              "      <td>0</td>\n",
              "      <td>NaN</td>\n",
              "      <td>NaN</td>\n",
              "      <td>1</td>\n",
              "      <td>0</td>\n",
              "      <td>0</td>\n",
              "      <td>0</td>\n",
              "      <td>0</td>\n",
              "      <td>0</td>\n",
              "      <td>0</td>\n",
              "      <td>0</td>\n",
              "      <td>0</td>\n",
              "      <td>0</td>\n",
              "      <td>0</td>\n",
              "      <td>0</td>\n",
              "      <td>0</td>\n",
              "      <td>0</td>\n",
              "      <td>0</td>\n",
              "      <td>0</td>\n",
              "      <td>0</td>\n",
              "      <td>0</td>\n",
              "      <td>NaN</td>\n",
              "      <td>NaN</td>\n",
              "      <td>NaN</td>\n",
              "      <td>5.0</td>\n",
              "      <td>0.050</td>\n",
              "      <td>1</td>\n",
              "    </tr>\n",
              "    <tr>\n",
              "      <th>2020-03-26</th>\n",
              "      <td>2020-03-26</td>\n",
              "      <td>NaN</td>\n",
              "      <td>CA</td>\n",
              "      <td>51.1443</td>\n",
              "      <td>-114.0953</td>\n",
              "      <td>5.0</td>\n",
              "      <td>female</td>\n",
              "      <td>30_40</td>\n",
              "      <td>158</td>\n",
              "      <td>54</td>\n",
              "      <td>21.6</td>\n",
              "      <td>unknown</td>\n",
              "      <td>NaN</td>\n",
              "      <td>NaN</td>\n",
              "      <td>NaN</td>\n",
              "      <td>NaN</td>\n",
              "      <td>NaN</td>\n",
              "      <td>NaN</td>\n",
              "      <td>NaN</td>\n",
              "      <td>NaN</td>\n",
              "      <td>NaN</td>\n",
              "      <td>NaN</td>\n",
              "      <td>NaN</td>\n",
              "      <td>NaN</td>\n",
              "      <td>2.0</td>\n",
              "      <td>NaN</td>\n",
              "      <td>NaN</td>\n",
              "      <td>NaN</td>\n",
              "      <td>0</td>\n",
              "      <td>0</td>\n",
              "      <td>0</td>\n",
              "      <td>0</td>\n",
              "      <td>0</td>\n",
              "      <td>0</td>\n",
              "      <td>0</td>\n",
              "      <td>NaN</td>\n",
              "      <td>NaN</td>\n",
              "      <td>0</td>\n",
              "      <td>0</td>\n",
              "      <td>0</td>\n",
              "      <td>0</td>\n",
              "      <td>0</td>\n",
              "      <td>0</td>\n",
              "      <td>0</td>\n",
              "      <td>0</td>\n",
              "      <td>0</td>\n",
              "      <td>0</td>\n",
              "      <td>0</td>\n",
              "      <td>0</td>\n",
              "      <td>0</td>\n",
              "      <td>0</td>\n",
              "      <td>0</td>\n",
              "      <td>0</td>\n",
              "      <td>0</td>\n",
              "      <td>0</td>\n",
              "      <td>NaN</td>\n",
              "      <td>NaN</td>\n",
              "      <td>NaN</td>\n",
              "      <td>5.0</td>\n",
              "      <td>0.050</td>\n",
              "      <td>2</td>\n",
              "    </tr>\n",
              "    <tr>\n",
              "      <th>2020-03-25</th>\n",
              "      <td>2020-03-25</td>\n",
              "      <td>NaN</td>\n",
              "      <td>CA</td>\n",
              "      <td>43.2322</td>\n",
              "      <td>-79.8854</td>\n",
              "      <td>100.0</td>\n",
              "      <td>male</td>\n",
              "      <td>90_100</td>\n",
              "      <td>184</td>\n",
              "      <td>94</td>\n",
              "      <td>27.7</td>\n",
              "      <td>an</td>\n",
              "      <td>NaN</td>\n",
              "      <td>NaN</td>\n",
              "      <td>NaN</td>\n",
              "      <td>NaN</td>\n",
              "      <td>NaN</td>\n",
              "      <td>NaN</td>\n",
              "      <td>NaN</td>\n",
              "      <td>NaN</td>\n",
              "      <td>NaN</td>\n",
              "      <td>NaN</td>\n",
              "      <td>NaN</td>\n",
              "      <td>NaN</td>\n",
              "      <td>4.0</td>\n",
              "      <td>NaN</td>\n",
              "      <td>NaN</td>\n",
              "      <td>NaN</td>\n",
              "      <td>0</td>\n",
              "      <td>0</td>\n",
              "      <td>0</td>\n",
              "      <td>0</td>\n",
              "      <td>0</td>\n",
              "      <td>0</td>\n",
              "      <td>0</td>\n",
              "      <td>NaN</td>\n",
              "      <td>NaN</td>\n",
              "      <td>1</td>\n",
              "      <td>0</td>\n",
              "      <td>0</td>\n",
              "      <td>0</td>\n",
              "      <td>0</td>\n",
              "      <td>0</td>\n",
              "      <td>0</td>\n",
              "      <td>0</td>\n",
              "      <td>0</td>\n",
              "      <td>1</td>\n",
              "      <td>0</td>\n",
              "      <td>1</td>\n",
              "      <td>1</td>\n",
              "      <td>0</td>\n",
              "      <td>1</td>\n",
              "      <td>0</td>\n",
              "      <td>0</td>\n",
              "      <td>0</td>\n",
              "      <td>NaN</td>\n",
              "      <td>NaN</td>\n",
              "      <td>NaN</td>\n",
              "      <td>12.0</td>\n",
              "      <td>14.701</td>\n",
              "      <td>3</td>\n",
              "    </tr>\n",
              "    <tr>\n",
              "      <th>2020-03-25</th>\n",
              "      <td>2020-03-25</td>\n",
              "      <td>NaN</td>\n",
              "      <td>CA</td>\n",
              "      <td>45.6766</td>\n",
              "      <td>-73.8329</td>\n",
              "      <td>5.0</td>\n",
              "      <td>male</td>\n",
              "      <td>60_70</td>\n",
              "      <td>172</td>\n",
              "      <td>96</td>\n",
              "      <td>32.4</td>\n",
              "      <td>unknown</td>\n",
              "      <td>NaN</td>\n",
              "      <td>NaN</td>\n",
              "      <td>NaN</td>\n",
              "      <td>NaN</td>\n",
              "      <td>NaN</td>\n",
              "      <td>NaN</td>\n",
              "      <td>NaN</td>\n",
              "      <td>NaN</td>\n",
              "      <td>NaN</td>\n",
              "      <td>NaN</td>\n",
              "      <td>NaN</td>\n",
              "      <td>NaN</td>\n",
              "      <td>5.0</td>\n",
              "      <td>NaN</td>\n",
              "      <td>NaN</td>\n",
              "      <td>NaN</td>\n",
              "      <td>0</td>\n",
              "      <td>0</td>\n",
              "      <td>0</td>\n",
              "      <td>0</td>\n",
              "      <td>0</td>\n",
              "      <td>0</td>\n",
              "      <td>0</td>\n",
              "      <td>NaN</td>\n",
              "      <td>NaN</td>\n",
              "      <td>0</td>\n",
              "      <td>0</td>\n",
              "      <td>0</td>\n",
              "      <td>0</td>\n",
              "      <td>0</td>\n",
              "      <td>0</td>\n",
              "      <td>0</td>\n",
              "      <td>0</td>\n",
              "      <td>0</td>\n",
              "      <td>0</td>\n",
              "      <td>0</td>\n",
              "      <td>0</td>\n",
              "      <td>1</td>\n",
              "      <td>0</td>\n",
              "      <td>1</td>\n",
              "      <td>0</td>\n",
              "      <td>0</td>\n",
              "      <td>0</td>\n",
              "      <td>NaN</td>\n",
              "      <td>NaN</td>\n",
              "      <td>NaN</td>\n",
              "      <td>6.0</td>\n",
              "      <td>2.250</td>\n",
              "      <td>4</td>\n",
              "    </tr>\n",
              "    <tr>\n",
              "      <th>2020-03-26</th>\n",
              "      <td>2020-03-26</td>\n",
              "      <td>NaN</td>\n",
              "      <td>CA</td>\n",
              "      <td>49.1839</td>\n",
              "      <td>-123.1285</td>\n",
              "      <td>1.0</td>\n",
              "      <td>male</td>\n",
              "      <td>30_40</td>\n",
              "      <td>166</td>\n",
              "      <td>70</td>\n",
              "      <td>25.4</td>\n",
              "      <td>abp</td>\n",
              "      <td>NaN</td>\n",
              "      <td>NaN</td>\n",
              "      <td>NaN</td>\n",
              "      <td>NaN</td>\n",
              "      <td>NaN</td>\n",
              "      <td>NaN</td>\n",
              "      <td>NaN</td>\n",
              "      <td>NaN</td>\n",
              "      <td>NaN</td>\n",
              "      <td>NaN</td>\n",
              "      <td>NaN</td>\n",
              "      <td>NaN</td>\n",
              "      <td>7.0</td>\n",
              "      <td>NaN</td>\n",
              "      <td>NaN</td>\n",
              "      <td>NaN</td>\n",
              "      <td>0</td>\n",
              "      <td>0</td>\n",
              "      <td>0</td>\n",
              "      <td>0</td>\n",
              "      <td>0</td>\n",
              "      <td>0</td>\n",
              "      <td>0</td>\n",
              "      <td>NaN</td>\n",
              "      <td>NaN</td>\n",
              "      <td>1</td>\n",
              "      <td>0</td>\n",
              "      <td>0</td>\n",
              "      <td>0</td>\n",
              "      <td>0</td>\n",
              "      <td>0</td>\n",
              "      <td>0</td>\n",
              "      <td>0</td>\n",
              "      <td>0</td>\n",
              "      <td>0</td>\n",
              "      <td>0</td>\n",
              "      <td>0</td>\n",
              "      <td>0</td>\n",
              "      <td>0</td>\n",
              "      <td>0</td>\n",
              "      <td>0</td>\n",
              "      <td>0</td>\n",
              "      <td>0</td>\n",
              "      <td>NaN</td>\n",
              "      <td>NaN</td>\n",
              "      <td>NaN</td>\n",
              "      <td>5.0</td>\n",
              "      <td>0.050</td>\n",
              "      <td>5</td>\n",
              "    </tr>\n",
              "  </tbody>\n",
              "</table>\n",
              "</div>"
            ],
            "text/plain": [
              "           survey_date region country  ...  risk_infection  risk_mortality  ID\n",
              "2020-03-25  2020-03-25    NaN      CA  ...             5.0           0.050   1\n",
              "2020-03-26  2020-03-26    NaN      CA  ...             5.0           0.050   2\n",
              "2020-03-25  2020-03-25    NaN      CA  ...            12.0          14.701   3\n",
              "2020-03-25  2020-03-25    NaN      CA  ...             6.0           2.250   4\n",
              "2020-03-26  2020-03-26    NaN      CA  ...             5.0           0.050   5\n",
              "\n",
              "[5 rows x 61 columns]"
            ]
          },
          "metadata": {
            "tags": []
          },
          "execution_count": 8
        }
      ]
    },
    {
      "cell_type": "code",
      "metadata": {
        "id": "dA5tf4bwVGNs"
      },
      "source": [
        "data.index = data['ID']"
      ],
      "execution_count": null,
      "outputs": []
    },
    {
      "cell_type": "code",
      "metadata": {
        "id": "hUNLT0POVNkC",
        "outputId": "f21731ab-b610-4eca-8140-6ea40286ae63",
        "colab": {
          "base_uri": "https://localhost:8080/",
          "height": 292
        }
      },
      "source": [
        "data.tail()"
      ],
      "execution_count": null,
      "outputs": [
        {
          "output_type": "execute_result",
          "data": {
            "text/html": [
              "<div>\n",
              "<style scoped>\n",
              "    .dataframe tbody tr th:only-of-type {\n",
              "        vertical-align: middle;\n",
              "    }\n",
              "\n",
              "    .dataframe tbody tr th {\n",
              "        vertical-align: top;\n",
              "    }\n",
              "\n",
              "    .dataframe thead th {\n",
              "        text-align: right;\n",
              "    }\n",
              "</style>\n",
              "<table border=\"1\" class=\"dataframe\">\n",
              "  <thead>\n",
              "    <tr style=\"text-align: right;\">\n",
              "      <th></th>\n",
              "      <th>survey_date</th>\n",
              "      <th>region</th>\n",
              "      <th>country</th>\n",
              "      <th>ip_latitude</th>\n",
              "      <th>ip_longitude</th>\n",
              "      <th>ip_accuracy</th>\n",
              "      <th>sex</th>\n",
              "      <th>age</th>\n",
              "      <th>height</th>\n",
              "      <th>weight</th>\n",
              "      <th>bmi</th>\n",
              "      <th>blood_type</th>\n",
              "      <th>insurance</th>\n",
              "      <th>income</th>\n",
              "      <th>race</th>\n",
              "      <th>immigrant</th>\n",
              "      <th>smoking</th>\n",
              "      <th>alcohol</th>\n",
              "      <th>cannabis</th>\n",
              "      <th>amphetamines</th>\n",
              "      <th>cocaine</th>\n",
              "      <th>lsd</th>\n",
              "      <th>mdma</th>\n",
              "      <th>contacts_count</th>\n",
              "      <th>house_count</th>\n",
              "      <th>public_transport_count</th>\n",
              "      <th>working</th>\n",
              "      <th>worried</th>\n",
              "      <th>rate_reducing_risk_single</th>\n",
              "      <th>rate_reducing_risk_single_social_distancing</th>\n",
              "      <th>rate_reducing_risk_single_washing_hands</th>\n",
              "      <th>rate_reducing_risk_house</th>\n",
              "      <th>rate_reducing_risk_house_social_distancing</th>\n",
              "      <th>rate_reducing_risk_house_washing_hands</th>\n",
              "      <th>rate_reducing_risk_single_sanitizer</th>\n",
              "      <th>rate_reducing_mask</th>\n",
              "      <th>rate_reducing_mask_type</th>\n",
              "      <th>rate_government_action</th>\n",
              "      <th>rate_government_control</th>\n",
              "      <th>rate_government_spend</th>\n",
              "      <th>covid19_positive</th>\n",
              "      <th>covid19_symptoms</th>\n",
              "      <th>covid19_contact</th>\n",
              "      <th>asthma</th>\n",
              "      <th>kidney_disease</th>\n",
              "      <th>liver_disease</th>\n",
              "      <th>compromised_immune</th>\n",
              "      <th>heart_disease</th>\n",
              "      <th>lung_disease</th>\n",
              "      <th>diabetes</th>\n",
              "      <th>hiv_positive</th>\n",
              "      <th>hypertension</th>\n",
              "      <th>other_chronic</th>\n",
              "      <th>nursing_home</th>\n",
              "      <th>health_worker</th>\n",
              "      <th>prescription_medication</th>\n",
              "      <th>opinion_infection</th>\n",
              "      <th>opinion_mortality</th>\n",
              "      <th>risk_infection</th>\n",
              "      <th>risk_mortality</th>\n",
              "      <th>ID</th>\n",
              "    </tr>\n",
              "    <tr>\n",
              "      <th>ID</th>\n",
              "      <th></th>\n",
              "      <th></th>\n",
              "      <th></th>\n",
              "      <th></th>\n",
              "      <th></th>\n",
              "      <th></th>\n",
              "      <th></th>\n",
              "      <th></th>\n",
              "      <th></th>\n",
              "      <th></th>\n",
              "      <th></th>\n",
              "      <th></th>\n",
              "      <th></th>\n",
              "      <th></th>\n",
              "      <th></th>\n",
              "      <th></th>\n",
              "      <th></th>\n",
              "      <th></th>\n",
              "      <th></th>\n",
              "      <th></th>\n",
              "      <th></th>\n",
              "      <th></th>\n",
              "      <th></th>\n",
              "      <th></th>\n",
              "      <th></th>\n",
              "      <th></th>\n",
              "      <th></th>\n",
              "      <th></th>\n",
              "      <th></th>\n",
              "      <th></th>\n",
              "      <th></th>\n",
              "      <th></th>\n",
              "      <th></th>\n",
              "      <th></th>\n",
              "      <th></th>\n",
              "      <th></th>\n",
              "      <th></th>\n",
              "      <th></th>\n",
              "      <th></th>\n",
              "      <th></th>\n",
              "      <th></th>\n",
              "      <th></th>\n",
              "      <th></th>\n",
              "      <th></th>\n",
              "      <th></th>\n",
              "      <th></th>\n",
              "      <th></th>\n",
              "      <th></th>\n",
              "      <th></th>\n",
              "      <th></th>\n",
              "      <th></th>\n",
              "      <th></th>\n",
              "      <th></th>\n",
              "      <th></th>\n",
              "      <th></th>\n",
              "      <th></th>\n",
              "      <th></th>\n",
              "      <th></th>\n",
              "      <th></th>\n",
              "      <th></th>\n",
              "      <th></th>\n",
              "    </tr>\n",
              "  </thead>\n",
              "  <tbody>\n",
              "    <tr>\n",
              "      <th>912764</th>\n",
              "      <td>2020-09-24</td>\n",
              "      <td>NaN</td>\n",
              "      <td>US</td>\n",
              "      <td>40.7469</td>\n",
              "      <td>-73.8128</td>\n",
              "      <td>1.0</td>\n",
              "      <td>female</td>\n",
              "      <td>20_30</td>\n",
              "      <td>172</td>\n",
              "      <td>74</td>\n",
              "      <td>25.0</td>\n",
              "      <td>op</td>\n",
              "      <td>yes</td>\n",
              "      <td>med</td>\n",
              "      <td>asian</td>\n",
              "      <td>immigrant</td>\n",
              "      <td>never</td>\n",
              "      <td>-1.0</td>\n",
              "      <td>NaN</td>\n",
              "      <td>NaN</td>\n",
              "      <td>NaN</td>\n",
              "      <td>NaN</td>\n",
              "      <td>NaN</td>\n",
              "      <td>2.0</td>\n",
              "      <td>2.0</td>\n",
              "      <td>0.0</td>\n",
              "      <td>never</td>\n",
              "      <td>4.0</td>\n",
              "      <td>0</td>\n",
              "      <td>2</td>\n",
              "      <td>2</td>\n",
              "      <td>0</td>\n",
              "      <td>2</td>\n",
              "      <td>2</td>\n",
              "      <td>1</td>\n",
              "      <td>5.0</td>\n",
              "      <td>clothstore</td>\n",
              "      <td>0</td>\n",
              "      <td>2</td>\n",
              "      <td>2</td>\n",
              "      <td>0</td>\n",
              "      <td>0</td>\n",
              "      <td>0</td>\n",
              "      <td>0</td>\n",
              "      <td>0</td>\n",
              "      <td>0</td>\n",
              "      <td>0</td>\n",
              "      <td>0</td>\n",
              "      <td>0</td>\n",
              "      <td>0</td>\n",
              "      <td>0</td>\n",
              "      <td>0</td>\n",
              "      <td>0</td>\n",
              "      <td>0</td>\n",
              "      <td>0</td>\n",
              "      <td>NaN</td>\n",
              "      <td>35.0</td>\n",
              "      <td>15.0</td>\n",
              "      <td>5.0</td>\n",
              "      <td>0.050</td>\n",
              "      <td>912764</td>\n",
              "    </tr>\n",
              "    <tr>\n",
              "      <th>912765</th>\n",
              "      <td>2020-09-25</td>\n",
              "      <td>NaN</td>\n",
              "      <td>US</td>\n",
              "      <td>43.5736</td>\n",
              "      <td>-70.4031</td>\n",
              "      <td>10.0</td>\n",
              "      <td>female</td>\n",
              "      <td>50_60</td>\n",
              "      <td>172</td>\n",
              "      <td>76</td>\n",
              "      <td>25.6</td>\n",
              "      <td>unknown</td>\n",
              "      <td>yes</td>\n",
              "      <td>med</td>\n",
              "      <td>white</td>\n",
              "      <td>native</td>\n",
              "      <td>yesmedium</td>\n",
              "      <td>-1.0</td>\n",
              "      <td>NaN</td>\n",
              "      <td>NaN</td>\n",
              "      <td>NaN</td>\n",
              "      <td>NaN</td>\n",
              "      <td>NaN</td>\n",
              "      <td>20.0</td>\n",
              "      <td>4.0</td>\n",
              "      <td>0.0</td>\n",
              "      <td>never</td>\n",
              "      <td>3.0</td>\n",
              "      <td>0</td>\n",
              "      <td>0</td>\n",
              "      <td>0</td>\n",
              "      <td>0</td>\n",
              "      <td>0</td>\n",
              "      <td>0</td>\n",
              "      <td>-2</td>\n",
              "      <td>5.0</td>\n",
              "      <td>clothhome</td>\n",
              "      <td>-2</td>\n",
              "      <td>0</td>\n",
              "      <td>2</td>\n",
              "      <td>0</td>\n",
              "      <td>0</td>\n",
              "      <td>0</td>\n",
              "      <td>0</td>\n",
              "      <td>0</td>\n",
              "      <td>0</td>\n",
              "      <td>0</td>\n",
              "      <td>0</td>\n",
              "      <td>0</td>\n",
              "      <td>0</td>\n",
              "      <td>0</td>\n",
              "      <td>0</td>\n",
              "      <td>0</td>\n",
              "      <td>0</td>\n",
              "      <td>0</td>\n",
              "      <td>NaN</td>\n",
              "      <td>25.0</td>\n",
              "      <td>15.0</td>\n",
              "      <td>5.0</td>\n",
              "      <td>0.267</td>\n",
              "      <td>912765</td>\n",
              "    </tr>\n",
              "    <tr>\n",
              "      <th>912766</th>\n",
              "      <td>2020-09-24</td>\n",
              "      <td>AF</td>\n",
              "      <td>EG</td>\n",
              "      <td>31.2977</td>\n",
              "      <td>32.2361</td>\n",
              "      <td>100.0</td>\n",
              "      <td>male</td>\n",
              "      <td>20_30</td>\n",
              "      <td>184</td>\n",
              "      <td>80</td>\n",
              "      <td>23.6</td>\n",
              "      <td>unknown</td>\n",
              "      <td>no</td>\n",
              "      <td>low</td>\n",
              "      <td>white</td>\n",
              "      <td>native</td>\n",
              "      <td>yesmedium</td>\n",
              "      <td>0.0</td>\n",
              "      <td>NaN</td>\n",
              "      <td>NaN</td>\n",
              "      <td>NaN</td>\n",
              "      <td>NaN</td>\n",
              "      <td>NaN</td>\n",
              "      <td>21.0</td>\n",
              "      <td>5.0</td>\n",
              "      <td>8.0</td>\n",
              "      <td>stopped</td>\n",
              "      <td>4.0</td>\n",
              "      <td>0</td>\n",
              "      <td>-1</td>\n",
              "      <td>1</td>\n",
              "      <td>0</td>\n",
              "      <td>1</td>\n",
              "      <td>1</td>\n",
              "      <td>1</td>\n",
              "      <td>2.0</td>\n",
              "      <td>surgical</td>\n",
              "      <td>-1</td>\n",
              "      <td>1</td>\n",
              "      <td>0</td>\n",
              "      <td>0</td>\n",
              "      <td>0</td>\n",
              "      <td>1</td>\n",
              "      <td>0</td>\n",
              "      <td>0</td>\n",
              "      <td>0</td>\n",
              "      <td>1</td>\n",
              "      <td>0</td>\n",
              "      <td>0</td>\n",
              "      <td>0</td>\n",
              "      <td>0</td>\n",
              "      <td>0</td>\n",
              "      <td>0</td>\n",
              "      <td>0</td>\n",
              "      <td>0</td>\n",
              "      <td>CLOZAPINE;PAROXETINE HYDROCHLORIDE;PROPRANOLOL...</td>\n",
              "      <td>45.0</td>\n",
              "      <td>5.0</td>\n",
              "      <td>62.0</td>\n",
              "      <td>0.072</td>\n",
              "      <td>912766</td>\n",
              "    </tr>\n",
              "    <tr>\n",
              "      <th>912767</th>\n",
              "      <td>2020-09-25</td>\n",
              "      <td>EU</td>\n",
              "      <td>GB</td>\n",
              "      <td>51.4449</td>\n",
              "      <td>-0.1024</td>\n",
              "      <td>500.0</td>\n",
              "      <td>male</td>\n",
              "      <td>60_70</td>\n",
              "      <td>184</td>\n",
              "      <td>86</td>\n",
              "      <td>25.4</td>\n",
              "      <td>ap</td>\n",
              "      <td>yes</td>\n",
              "      <td>med</td>\n",
              "      <td>white</td>\n",
              "      <td>native</td>\n",
              "      <td>quit10</td>\n",
              "      <td>1.0</td>\n",
              "      <td>NaN</td>\n",
              "      <td>NaN</td>\n",
              "      <td>NaN</td>\n",
              "      <td>NaN</td>\n",
              "      <td>NaN</td>\n",
              "      <td>15.0</td>\n",
              "      <td>2.0</td>\n",
              "      <td>0.0</td>\n",
              "      <td>travel critical</td>\n",
              "      <td>3.0</td>\n",
              "      <td>0</td>\n",
              "      <td>-1</td>\n",
              "      <td>0</td>\n",
              "      <td>0</td>\n",
              "      <td>0</td>\n",
              "      <td>0</td>\n",
              "      <td>-1</td>\n",
              "      <td>2.0</td>\n",
              "      <td>surgical</td>\n",
              "      <td>0</td>\n",
              "      <td>-1</td>\n",
              "      <td>0</td>\n",
              "      <td>0</td>\n",
              "      <td>0</td>\n",
              "      <td>0</td>\n",
              "      <td>0</td>\n",
              "      <td>0</td>\n",
              "      <td>0</td>\n",
              "      <td>0</td>\n",
              "      <td>0</td>\n",
              "      <td>0</td>\n",
              "      <td>0</td>\n",
              "      <td>0</td>\n",
              "      <td>0</td>\n",
              "      <td>0</td>\n",
              "      <td>0</td>\n",
              "      <td>0</td>\n",
              "      <td>NaN</td>\n",
              "      <td>NaN</td>\n",
              "      <td>NaN</td>\n",
              "      <td>13.0</td>\n",
              "      <td>1.322</td>\n",
              "      <td>912767</td>\n",
              "    </tr>\n",
              "    <tr>\n",
              "      <th>912768</th>\n",
              "      <td>2020-09-25</td>\n",
              "      <td>EU</td>\n",
              "      <td>GB</td>\n",
              "      <td>51.5641</td>\n",
              "      <td>-0.1073</td>\n",
              "      <td>200.0</td>\n",
              "      <td>male</td>\n",
              "      <td>70_80</td>\n",
              "      <td>176</td>\n",
              "      <td>56</td>\n",
              "      <td>18.0</td>\n",
              "      <td>unknown</td>\n",
              "      <td>no</td>\n",
              "      <td>high</td>\n",
              "      <td>white</td>\n",
              "      <td>native</td>\n",
              "      <td>yeslight</td>\n",
              "      <td>7.0</td>\n",
              "      <td>NaN</td>\n",
              "      <td>NaN</td>\n",
              "      <td>NaN</td>\n",
              "      <td>NaN</td>\n",
              "      <td>NaN</td>\n",
              "      <td>10.0</td>\n",
              "      <td>7.0</td>\n",
              "      <td>0.0</td>\n",
              "      <td>home</td>\n",
              "      <td>1.0</td>\n",
              "      <td>0</td>\n",
              "      <td>-2</td>\n",
              "      <td>-1</td>\n",
              "      <td>0</td>\n",
              "      <td>-1</td>\n",
              "      <td>-1</td>\n",
              "      <td>-1</td>\n",
              "      <td>2.0</td>\n",
              "      <td>surgical</td>\n",
              "      <td>0</td>\n",
              "      <td>-2</td>\n",
              "      <td>0</td>\n",
              "      <td>0</td>\n",
              "      <td>0</td>\n",
              "      <td>0</td>\n",
              "      <td>0</td>\n",
              "      <td>0</td>\n",
              "      <td>0</td>\n",
              "      <td>0</td>\n",
              "      <td>1</td>\n",
              "      <td>0</td>\n",
              "      <td>0</td>\n",
              "      <td>0</td>\n",
              "      <td>1</td>\n",
              "      <td>0</td>\n",
              "      <td>0</td>\n",
              "      <td>0</td>\n",
              "      <td>NaN</td>\n",
              "      <td>5.0</td>\n",
              "      <td>5.0</td>\n",
              "      <td>13.0</td>\n",
              "      <td>2.399</td>\n",
              "      <td>912768</td>\n",
              "    </tr>\n",
              "  </tbody>\n",
              "</table>\n",
              "</div>"
            ],
            "text/plain": [
              "       survey_date region country  ...  risk_infection  risk_mortality      ID\n",
              "ID                                 ...                                        \n",
              "912764  2020-09-24    NaN      US  ...             5.0           0.050  912764\n",
              "912765  2020-09-25    NaN      US  ...             5.0           0.267  912765\n",
              "912766  2020-09-24     AF      EG  ...            62.0           0.072  912766\n",
              "912767  2020-09-25     EU      GB  ...            13.0           1.322  912767\n",
              "912768  2020-09-25     EU      GB  ...            13.0           2.399  912768\n",
              "\n",
              "[5 rows x 61 columns]"
            ]
          },
          "metadata": {
            "tags": []
          },
          "execution_count": 10
        }
      ]
    },
    {
      "cell_type": "code",
      "metadata": {
        "id": "EnxrL8G_VRIX"
      },
      "source": [
        "data = data.drop(['ID'], axis=1)"
      ],
      "execution_count": null,
      "outputs": []
    },
    {
      "cell_type": "code",
      "metadata": {
        "id": "o8zlBTU-wYk9",
        "outputId": "4571567a-eae6-497c-886f-e047bd67344d",
        "colab": {
          "base_uri": "https://localhost:8080/"
        }
      },
      "source": [
        "data.shape"
      ],
      "execution_count": null,
      "outputs": [
        {
          "output_type": "execute_result",
          "data": {
            "text/plain": [
              "(912768, 60)"
            ]
          },
          "metadata": {
            "tags": []
          },
          "execution_count": 12
        }
      ]
    },
    {
      "cell_type": "code",
      "metadata": {
        "id": "0hfuDNnZwjxs",
        "outputId": "6a085aed-e691-4d52-89dd-a43e635c5c3f",
        "colab": {
          "base_uri": "https://localhost:8080/"
        }
      },
      "source": [
        "data.columns"
      ],
      "execution_count": null,
      "outputs": [
        {
          "output_type": "execute_result",
          "data": {
            "text/plain": [
              "Index(['survey_date', 'region', 'country', 'ip_latitude', 'ip_longitude',\n",
              "       'ip_accuracy', 'sex', 'age', 'height', 'weight', 'bmi', 'blood_type',\n",
              "       'insurance', 'income', 'race', 'immigrant', 'smoking', 'alcohol',\n",
              "       'cannabis', 'amphetamines', 'cocaine', 'lsd', 'mdma', 'contacts_count',\n",
              "       'house_count', 'public_transport_count', 'working', 'worried',\n",
              "       'rate_reducing_risk_single',\n",
              "       'rate_reducing_risk_single_social_distancing',\n",
              "       'rate_reducing_risk_single_washing_hands', 'rate_reducing_risk_house',\n",
              "       'rate_reducing_risk_house_social_distancing',\n",
              "       'rate_reducing_risk_house_washing_hands',\n",
              "       'rate_reducing_risk_single_sanitizer', 'rate_reducing_mask',\n",
              "       'rate_reducing_mask_type', 'rate_government_action',\n",
              "       'rate_government_control', 'rate_government_spend', 'covid19_positive',\n",
              "       'covid19_symptoms', 'covid19_contact', 'asthma', 'kidney_disease',\n",
              "       'liver_disease', 'compromised_immune', 'heart_disease', 'lung_disease',\n",
              "       'diabetes', 'hiv_positive', 'hypertension', 'other_chronic',\n",
              "       'nursing_home', 'health_worker', 'prescription_medication',\n",
              "       'opinion_infection', 'opinion_mortality', 'risk_infection',\n",
              "       'risk_mortality'],\n",
              "      dtype='object')"
            ]
          },
          "metadata": {
            "tags": []
          },
          "execution_count": 13
        }
      ]
    },
    {
      "cell_type": "code",
      "metadata": {
        "id": "xe1xXjsewp2g",
        "outputId": "67b9964e-e1a0-491f-f3bb-e60888f573f5",
        "colab": {
          "base_uri": "https://localhost:8080/"
        }
      },
      "source": [
        "data.nunique()"
      ],
      "execution_count": null,
      "outputs": [
        {
          "output_type": "execute_result",
          "data": {
            "text/plain": [
              "survey_date                                       186\n",
              "region                                              5\n",
              "country                                           194\n",
              "ip_latitude                                    284435\n",
              "ip_longitude                                   412436\n",
              "ip_accuracy                                         9\n",
              "sex                                                 4\n",
              "age                                                11\n",
              "height                                            124\n",
              "weight                                            141\n",
              "bmi                                               735\n",
              "blood_type                                         10\n",
              "insurance                                           3\n",
              "income                                              5\n",
              "race                                                7\n",
              "immigrant                                           3\n",
              "smoking                                             8\n",
              "alcohol                                            16\n",
              "cannabis                                           31\n",
              "amphetamines                                       31\n",
              "cocaine                                            31\n",
              "lsd                                                31\n",
              "mdma                                               31\n",
              "contacts_count                                     22\n",
              "house_count                                        12\n",
              "public_transport_count                             16\n",
              "working                                             5\n",
              "worried                                             5\n",
              "rate_reducing_risk_single                           5\n",
              "rate_reducing_risk_single_social_distancing         5\n",
              "rate_reducing_risk_single_washing_hands             5\n",
              "rate_reducing_risk_house                            5\n",
              "rate_reducing_risk_house_social_distancing          5\n",
              "rate_reducing_risk_house_washing_hands              5\n",
              "rate_reducing_risk_single_sanitizer                 5\n",
              "rate_reducing_mask                                  5\n",
              "rate_reducing_mask_type                             7\n",
              "rate_government_action                              5\n",
              "rate_government_control                             5\n",
              "rate_government_spend                               5\n",
              "covid19_positive                                    2\n",
              "covid19_symptoms                                    2\n",
              "covid19_contact                                     2\n",
              "asthma                                              2\n",
              "kidney_disease                                      2\n",
              "liver_disease                                       2\n",
              "compromised_immune                                  2\n",
              "heart_disease                                       2\n",
              "lung_disease                                        2\n",
              "diabetes                                            2\n",
              "hiv_positive                                        2\n",
              "hypertension                                        2\n",
              "other_chronic                                       2\n",
              "nursing_home                                        2\n",
              "health_worker                                       2\n",
              "prescription_medication                         75444\n",
              "opinion_infection                                  10\n",
              "opinion_mortality                                  10\n",
              "risk_infection                                     86\n",
              "risk_mortality                                   4091\n",
              "dtype: int64"
            ]
          },
          "metadata": {
            "tags": []
          },
          "execution_count": 14
        }
      ]
    },
    {
      "cell_type": "code",
      "metadata": {
        "id": "b-N2t6S1wyMm",
        "outputId": "e3537125-dc5d-415a-987c-f8313311d3d9",
        "colab": {
          "base_uri": "https://localhost:8080/"
        }
      },
      "source": [
        "data.isnull().sum()"
      ],
      "execution_count": null,
      "outputs": [
        {
          "output_type": "execute_result",
          "data": {
            "text/plain": [
              "survey_date                                         0\n",
              "region                                         758423\n",
              "country                                           102\n",
              "ip_latitude                                         0\n",
              "ip_longitude                                        0\n",
              "ip_accuracy                                        12\n",
              "sex                                                 0\n",
              "age                                                 5\n",
              "height                                              0\n",
              "weight                                              0\n",
              "bmi                                                 4\n",
              "blood_type                                          0\n",
              "insurance                                      688743\n",
              "income                                         688743\n",
              "race                                           688743\n",
              "immigrant                                      688743\n",
              "smoking                                          1857\n",
              "alcohol                                          1897\n",
              "cannabis                                       185040\n",
              "amphetamines                                   204172\n",
              "cocaine                                        206311\n",
              "lsd                                            201944\n",
              "mdma                                           197553\n",
              "contacts_count                                   4247\n",
              "house_count                                        22\n",
              "public_transport_count                         688743\n",
              "working                                          4236\n",
              "worried                                        688743\n",
              "rate_reducing_risk_single                           0\n",
              "rate_reducing_risk_single_social_distancing         0\n",
              "rate_reducing_risk_single_washing_hands             0\n",
              "rate_reducing_risk_house                            0\n",
              "rate_reducing_risk_house_social_distancing          0\n",
              "rate_reducing_risk_house_washing_hands              0\n",
              "rate_reducing_risk_single_sanitizer                 0\n",
              "rate_reducing_mask                               1857\n",
              "rate_reducing_mask_type                        715283\n",
              "rate_government_action                              0\n",
              "rate_government_control                             0\n",
              "rate_government_spend                               0\n",
              "covid19_positive                                    0\n",
              "covid19_symptoms                                    0\n",
              "covid19_contact                                     0\n",
              "asthma                                              0\n",
              "kidney_disease                                      0\n",
              "liver_disease                                       0\n",
              "compromised_immune                                  0\n",
              "heart_disease                                       0\n",
              "lung_disease                                        0\n",
              "diabetes                                            0\n",
              "hiv_positive                                        0\n",
              "hypertension                                        0\n",
              "other_chronic                                       0\n",
              "nursing_home                                        0\n",
              "health_worker                                       0\n",
              "prescription_medication                        640503\n",
              "opinion_infection                              165254\n",
              "opinion_mortality                              165254\n",
              "risk_infection                                     14\n",
              "risk_mortality                                     14\n",
              "dtype: int64"
            ]
          },
          "metadata": {
            "tags": []
          },
          "execution_count": 15
        }
      ]
    },
    {
      "cell_type": "code",
      "metadata": {
        "id": "JYU1l1-N8p5f",
        "outputId": "e418f9e1-6571-4073-8097-e6052b9da522",
        "colab": {
          "base_uri": "https://localhost:8080/"
        }
      },
      "source": [
        "data['covid19_positive'].value_counts()"
      ],
      "execution_count": null,
      "outputs": [
        {
          "output_type": "execute_result",
          "data": {
            "text/plain": [
              "0    909414\n",
              "1      3354\n",
              "Name: covid19_positive, dtype: int64"
            ]
          },
          "metadata": {
            "tags": []
          },
          "execution_count": 16
        }
      ]
    },
    {
      "cell_type": "code",
      "metadata": {
        "id": "8DqMS94oBbWL",
        "outputId": "72cfcbd8-3170-4745-eb60-af9e3d56df7c",
        "colab": {
          "base_uri": "https://localhost:8080/"
        }
      },
      "source": [
        "data.dtypes"
      ],
      "execution_count": null,
      "outputs": [
        {
          "output_type": "execute_result",
          "data": {
            "text/plain": [
              "survey_date                                     object\n",
              "region                                          object\n",
              "country                                         object\n",
              "ip_latitude                                    float64\n",
              "ip_longitude                                   float64\n",
              "ip_accuracy                                    float64\n",
              "sex                                             object\n",
              "age                                             object\n",
              "height                                          object\n",
              "weight                                          object\n",
              "bmi                                            float64\n",
              "blood_type                                      object\n",
              "insurance                                       object\n",
              "income                                          object\n",
              "race                                            object\n",
              "immigrant                                       object\n",
              "smoking                                         object\n",
              "alcohol                                        float64\n",
              "cannabis                                       float64\n",
              "amphetamines                                   float64\n",
              "cocaine                                        float64\n",
              "lsd                                            float64\n",
              "mdma                                           float64\n",
              "contacts_count                                 float64\n",
              "house_count                                    float64\n",
              "public_transport_count                         float64\n",
              "working                                         object\n",
              "worried                                        float64\n",
              "rate_reducing_risk_single                        int64\n",
              "rate_reducing_risk_single_social_distancing      int64\n",
              "rate_reducing_risk_single_washing_hands          int64\n",
              "rate_reducing_risk_house                         int64\n",
              "rate_reducing_risk_house_social_distancing       int64\n",
              "rate_reducing_risk_house_washing_hands           int64\n",
              "rate_reducing_risk_single_sanitizer              int64\n",
              "rate_reducing_mask                             float64\n",
              "rate_reducing_mask_type                         object\n",
              "rate_government_action                           int64\n",
              "rate_government_control                          int64\n",
              "rate_government_spend                            int64\n",
              "covid19_positive                                 int64\n",
              "covid19_symptoms                                 int64\n",
              "covid19_contact                                  int64\n",
              "asthma                                           int64\n",
              "kidney_disease                                   int64\n",
              "liver_disease                                    int64\n",
              "compromised_immune                               int64\n",
              "heart_disease                                    int64\n",
              "lung_disease                                     int64\n",
              "diabetes                                         int64\n",
              "hiv_positive                                     int64\n",
              "hypertension                                     int64\n",
              "other_chronic                                    int64\n",
              "nursing_home                                     int64\n",
              "health_worker                                    int64\n",
              "prescription_medication                         object\n",
              "opinion_infection                              float64\n",
              "opinion_mortality                              float64\n",
              "risk_infection                                 float64\n",
              "risk_mortality                                 float64\n",
              "dtype: object"
            ]
          },
          "metadata": {
            "tags": []
          },
          "execution_count": 17
        }
      ]
    },
    {
      "cell_type": "code",
      "metadata": {
        "id": "f51qqTYZY8Pv",
        "outputId": "34c08aba-5d0d-4cb1-d40c-9761481facb9",
        "colab": {
          "base_uri": "https://localhost:8080/",
          "height": 320
        }
      },
      "source": [
        "data.describe()"
      ],
      "execution_count": null,
      "outputs": [
        {
          "output_type": "execute_result",
          "data": {
            "text/html": [
              "<div>\n",
              "<style scoped>\n",
              "    .dataframe tbody tr th:only-of-type {\n",
              "        vertical-align: middle;\n",
              "    }\n",
              "\n",
              "    .dataframe tbody tr th {\n",
              "        vertical-align: top;\n",
              "    }\n",
              "\n",
              "    .dataframe thead th {\n",
              "        text-align: right;\n",
              "    }\n",
              "</style>\n",
              "<table border=\"1\" class=\"dataframe\">\n",
              "  <thead>\n",
              "    <tr style=\"text-align: right;\">\n",
              "      <th></th>\n",
              "      <th>ip_latitude</th>\n",
              "      <th>ip_longitude</th>\n",
              "      <th>ip_accuracy</th>\n",
              "      <th>bmi</th>\n",
              "      <th>alcohol</th>\n",
              "      <th>cannabis</th>\n",
              "      <th>amphetamines</th>\n",
              "      <th>cocaine</th>\n",
              "      <th>lsd</th>\n",
              "      <th>mdma</th>\n",
              "      <th>contacts_count</th>\n",
              "      <th>house_count</th>\n",
              "      <th>public_transport_count</th>\n",
              "      <th>worried</th>\n",
              "      <th>rate_reducing_risk_single</th>\n",
              "      <th>rate_reducing_risk_single_social_distancing</th>\n",
              "      <th>rate_reducing_risk_single_washing_hands</th>\n",
              "      <th>rate_reducing_risk_house</th>\n",
              "      <th>rate_reducing_risk_house_social_distancing</th>\n",
              "      <th>rate_reducing_risk_house_washing_hands</th>\n",
              "      <th>rate_reducing_risk_single_sanitizer</th>\n",
              "      <th>rate_reducing_mask</th>\n",
              "      <th>rate_government_action</th>\n",
              "      <th>rate_government_control</th>\n",
              "      <th>rate_government_spend</th>\n",
              "      <th>covid19_positive</th>\n",
              "      <th>covid19_symptoms</th>\n",
              "      <th>covid19_contact</th>\n",
              "      <th>asthma</th>\n",
              "      <th>kidney_disease</th>\n",
              "      <th>liver_disease</th>\n",
              "      <th>compromised_immune</th>\n",
              "      <th>heart_disease</th>\n",
              "      <th>lung_disease</th>\n",
              "      <th>diabetes</th>\n",
              "      <th>hiv_positive</th>\n",
              "      <th>hypertension</th>\n",
              "      <th>other_chronic</th>\n",
              "      <th>nursing_home</th>\n",
              "      <th>health_worker</th>\n",
              "      <th>opinion_infection</th>\n",
              "      <th>opinion_mortality</th>\n",
              "      <th>risk_infection</th>\n",
              "      <th>risk_mortality</th>\n",
              "    </tr>\n",
              "  </thead>\n",
              "  <tbody>\n",
              "    <tr>\n",
              "      <th>count</th>\n",
              "      <td>912768.000000</td>\n",
              "      <td>912768.000000</td>\n",
              "      <td>912756.000000</td>\n",
              "      <td>912764.000000</td>\n",
              "      <td>910871.000000</td>\n",
              "      <td>727728.000000</td>\n",
              "      <td>708596.000000</td>\n",
              "      <td>706457.000000</td>\n",
              "      <td>710824.000000</td>\n",
              "      <td>715215.000000</td>\n",
              "      <td>908521.000000</td>\n",
              "      <td>912746.000000</td>\n",
              "      <td>224025.000000</td>\n",
              "      <td>224025.000000</td>\n",
              "      <td>912768.000000</td>\n",
              "      <td>912768.000000</td>\n",
              "      <td>912768.000000</td>\n",
              "      <td>912768.000000</td>\n",
              "      <td>912768.000000</td>\n",
              "      <td>912768.000000</td>\n",
              "      <td>912768.000000</td>\n",
              "      <td>910911.000000</td>\n",
              "      <td>912768.000000</td>\n",
              "      <td>912768.000000</td>\n",
              "      <td>912768.000000</td>\n",
              "      <td>912768.000000</td>\n",
              "      <td>912768.000000</td>\n",
              "      <td>912768.000000</td>\n",
              "      <td>912768.000000</td>\n",
              "      <td>912768.000000</td>\n",
              "      <td>912768.000000</td>\n",
              "      <td>912768.000000</td>\n",
              "      <td>912768.000000</td>\n",
              "      <td>912768.000000</td>\n",
              "      <td>912768.000000</td>\n",
              "      <td>912768.000000</td>\n",
              "      <td>912768.000000</td>\n",
              "      <td>912768.000000</td>\n",
              "      <td>912768.000000</td>\n",
              "      <td>912768.000000</td>\n",
              "      <td>747514.000000</td>\n",
              "      <td>747514.000000</td>\n",
              "      <td>912754.000000</td>\n",
              "      <td>912754.000000</td>\n",
              "    </tr>\n",
              "    <tr>\n",
              "      <th>mean</th>\n",
              "      <td>35.166173</td>\n",
              "      <td>-75.376272</td>\n",
              "      <td>93.715393</td>\n",
              "      <td>29.443102</td>\n",
              "      <td>2.832133</td>\n",
              "      <td>2.583978</td>\n",
              "      <td>-0.718110</td>\n",
              "      <td>-0.785364</td>\n",
              "      <td>-0.850327</td>\n",
              "      <td>-0.848506</td>\n",
              "      <td>7.384985</td>\n",
              "      <td>3.124772</td>\n",
              "      <td>0.298252</td>\n",
              "      <td>3.475938</td>\n",
              "      <td>0.761646</td>\n",
              "      <td>0.227799</td>\n",
              "      <td>0.244739</td>\n",
              "      <td>0.655133</td>\n",
              "      <td>0.192854</td>\n",
              "      <td>0.208317</td>\n",
              "      <td>0.106275</td>\n",
              "      <td>2.704594</td>\n",
              "      <td>0.229800</td>\n",
              "      <td>0.121542</td>\n",
              "      <td>0.196645</td>\n",
              "      <td>0.003675</td>\n",
              "      <td>0.017556</td>\n",
              "      <td>0.038794</td>\n",
              "      <td>0.153845</td>\n",
              "      <td>0.003558</td>\n",
              "      <td>0.001816</td>\n",
              "      <td>0.057864</td>\n",
              "      <td>0.017963</td>\n",
              "      <td>0.014252</td>\n",
              "      <td>0.061337</td>\n",
              "      <td>0.003288</td>\n",
              "      <td>0.137126</td>\n",
              "      <td>0.073415</td>\n",
              "      <td>0.000559</td>\n",
              "      <td>0.015678</td>\n",
              "      <td>34.879935</td>\n",
              "      <td>20.787825</td>\n",
              "      <td>11.803091</td>\n",
              "      <td>0.371800</td>\n",
              "    </tr>\n",
              "    <tr>\n",
              "      <th>std</th>\n",
              "      <td>17.221443</td>\n",
              "      <td>44.255528</td>\n",
              "      <td>194.699538</td>\n",
              "      <td>7.829676</td>\n",
              "      <td>4.238200</td>\n",
              "      <td>8.289530</td>\n",
              "      <td>1.965667</td>\n",
              "      <td>1.032003</td>\n",
              "      <td>0.601285</td>\n",
              "      <td>0.593170</td>\n",
              "      <td>6.631909</td>\n",
              "      <td>1.538358</td>\n",
              "      <td>1.481820</td>\n",
              "      <td>0.829280</td>\n",
              "      <td>0.653204</td>\n",
              "      <td>0.518377</td>\n",
              "      <td>0.529803</td>\n",
              "      <td>0.684354</td>\n",
              "      <td>0.498019</td>\n",
              "      <td>0.499626</td>\n",
              "      <td>0.562632</td>\n",
              "      <td>1.311244</td>\n",
              "      <td>0.901596</td>\n",
              "      <td>0.467558</td>\n",
              "      <td>0.485981</td>\n",
              "      <td>0.060507</td>\n",
              "      <td>0.131333</td>\n",
              "      <td>0.193104</td>\n",
              "      <td>0.360801</td>\n",
              "      <td>0.059546</td>\n",
              "      <td>0.042581</td>\n",
              "      <td>0.233485</td>\n",
              "      <td>0.132817</td>\n",
              "      <td>0.118529</td>\n",
              "      <td>0.239947</td>\n",
              "      <td>0.057245</td>\n",
              "      <td>0.343980</td>\n",
              "      <td>0.260817</td>\n",
              "      <td>0.023631</td>\n",
              "      <td>0.124225</td>\n",
              "      <td>22.442738</td>\n",
              "      <td>21.613566</td>\n",
              "      <td>14.970780</td>\n",
              "      <td>1.062757</td>\n",
              "    </tr>\n",
              "    <tr>\n",
              "      <th>min</th>\n",
              "      <td>-53.862900</td>\n",
              "      <td>-175.379600</td>\n",
              "      <td>1.000000</td>\n",
              "      <td>10.000000</td>\n",
              "      <td>-1.000000</td>\n",
              "      <td>-2.000000</td>\n",
              "      <td>-2.000000</td>\n",
              "      <td>-2.000000</td>\n",
              "      <td>-2.000000</td>\n",
              "      <td>-2.000000</td>\n",
              "      <td>0.000000</td>\n",
              "      <td>0.000000</td>\n",
              "      <td>0.000000</td>\n",
              "      <td>1.000000</td>\n",
              "      <td>-2.000000</td>\n",
              "      <td>-2.000000</td>\n",
              "      <td>-2.000000</td>\n",
              "      <td>-2.000000</td>\n",
              "      <td>-2.000000</td>\n",
              "      <td>-2.000000</td>\n",
              "      <td>-2.000000</td>\n",
              "      <td>1.000000</td>\n",
              "      <td>-2.000000</td>\n",
              "      <td>-2.000000</td>\n",
              "      <td>-2.000000</td>\n",
              "      <td>0.000000</td>\n",
              "      <td>0.000000</td>\n",
              "      <td>0.000000</td>\n",
              "      <td>0.000000</td>\n",
              "      <td>0.000000</td>\n",
              "      <td>0.000000</td>\n",
              "      <td>0.000000</td>\n",
              "      <td>0.000000</td>\n",
              "      <td>0.000000</td>\n",
              "      <td>0.000000</td>\n",
              "      <td>0.000000</td>\n",
              "      <td>0.000000</td>\n",
              "      <td>0.000000</td>\n",
              "      <td>0.000000</td>\n",
              "      <td>0.000000</td>\n",
              "      <td>5.000000</td>\n",
              "      <td>5.000000</td>\n",
              "      <td>5.000000</td>\n",
              "      <td>0.050000</td>\n",
              "    </tr>\n",
              "    <tr>\n",
              "      <th>25%</th>\n",
              "      <td>33.709800</td>\n",
              "      <td>-96.075800</td>\n",
              "      <td>5.000000</td>\n",
              "      <td>23.800000</td>\n",
              "      <td>0.000000</td>\n",
              "      <td>-1.000000</td>\n",
              "      <td>-1.000000</td>\n",
              "      <td>-1.000000</td>\n",
              "      <td>-1.000000</td>\n",
              "      <td>-1.000000</td>\n",
              "      <td>3.000000</td>\n",
              "      <td>2.000000</td>\n",
              "      <td>0.000000</td>\n",
              "      <td>3.000000</td>\n",
              "      <td>0.000000</td>\n",
              "      <td>0.000000</td>\n",
              "      <td>0.000000</td>\n",
              "      <td>0.000000</td>\n",
              "      <td>0.000000</td>\n",
              "      <td>0.000000</td>\n",
              "      <td>0.000000</td>\n",
              "      <td>2.000000</td>\n",
              "      <td>0.000000</td>\n",
              "      <td>0.000000</td>\n",
              "      <td>0.000000</td>\n",
              "      <td>0.000000</td>\n",
              "      <td>0.000000</td>\n",
              "      <td>0.000000</td>\n",
              "      <td>0.000000</td>\n",
              "      <td>0.000000</td>\n",
              "      <td>0.000000</td>\n",
              "      <td>0.000000</td>\n",
              "      <td>0.000000</td>\n",
              "      <td>0.000000</td>\n",
              "      <td>0.000000</td>\n",
              "      <td>0.000000</td>\n",
              "      <td>0.000000</td>\n",
              "      <td>0.000000</td>\n",
              "      <td>0.000000</td>\n",
              "      <td>0.000000</td>\n",
              "      <td>15.000000</td>\n",
              "      <td>5.000000</td>\n",
              "      <td>5.000000</td>\n",
              "      <td>0.050000</td>\n",
              "    </tr>\n",
              "    <tr>\n",
              "      <th>50%</th>\n",
              "      <td>38.989600</td>\n",
              "      <td>-84.454200</td>\n",
              "      <td>10.000000</td>\n",
              "      <td>27.700000</td>\n",
              "      <td>1.000000</td>\n",
              "      <td>-1.000000</td>\n",
              "      <td>-1.000000</td>\n",
              "      <td>-1.000000</td>\n",
              "      <td>-1.000000</td>\n",
              "      <td>-1.000000</td>\n",
              "      <td>5.000000</td>\n",
              "      <td>3.000000</td>\n",
              "      <td>0.000000</td>\n",
              "      <td>4.000000</td>\n",
              "      <td>1.000000</td>\n",
              "      <td>0.000000</td>\n",
              "      <td>0.000000</td>\n",
              "      <td>1.000000</td>\n",
              "      <td>0.000000</td>\n",
              "      <td>0.000000</td>\n",
              "      <td>0.000000</td>\n",
              "      <td>3.000000</td>\n",
              "      <td>0.000000</td>\n",
              "      <td>0.000000</td>\n",
              "      <td>0.000000</td>\n",
              "      <td>0.000000</td>\n",
              "      <td>0.000000</td>\n",
              "      <td>0.000000</td>\n",
              "      <td>0.000000</td>\n",
              "      <td>0.000000</td>\n",
              "      <td>0.000000</td>\n",
              "      <td>0.000000</td>\n",
              "      <td>0.000000</td>\n",
              "      <td>0.000000</td>\n",
              "      <td>0.000000</td>\n",
              "      <td>0.000000</td>\n",
              "      <td>0.000000</td>\n",
              "      <td>0.000000</td>\n",
              "      <td>0.000000</td>\n",
              "      <td>0.000000</td>\n",
              "      <td>35.000000</td>\n",
              "      <td>15.000000</td>\n",
              "      <td>5.000000</td>\n",
              "      <td>0.068000</td>\n",
              "    </tr>\n",
              "    <tr>\n",
              "      <th>75%</th>\n",
              "      <td>42.411200</td>\n",
              "      <td>-75.930650</td>\n",
              "      <td>100.000000</td>\n",
              "      <td>33.400000</td>\n",
              "      <td>4.000000</td>\n",
              "      <td>0.000000</td>\n",
              "      <td>-1.000000</td>\n",
              "      <td>-1.000000</td>\n",
              "      <td>-1.000000</td>\n",
              "      <td>-1.000000</td>\n",
              "      <td>10.000000</td>\n",
              "      <td>4.000000</td>\n",
              "      <td>0.000000</td>\n",
              "      <td>4.000000</td>\n",
              "      <td>1.000000</td>\n",
              "      <td>0.000000</td>\n",
              "      <td>0.000000</td>\n",
              "      <td>1.000000</td>\n",
              "      <td>0.000000</td>\n",
              "      <td>0.000000</td>\n",
              "      <td>0.000000</td>\n",
              "      <td>4.000000</td>\n",
              "      <td>1.000000</td>\n",
              "      <td>0.000000</td>\n",
              "      <td>0.000000</td>\n",
              "      <td>0.000000</td>\n",
              "      <td>0.000000</td>\n",
              "      <td>0.000000</td>\n",
              "      <td>0.000000</td>\n",
              "      <td>0.000000</td>\n",
              "      <td>0.000000</td>\n",
              "      <td>0.000000</td>\n",
              "      <td>0.000000</td>\n",
              "      <td>0.000000</td>\n",
              "      <td>0.000000</td>\n",
              "      <td>0.000000</td>\n",
              "      <td>0.000000</td>\n",
              "      <td>0.000000</td>\n",
              "      <td>0.000000</td>\n",
              "      <td>0.000000</td>\n",
              "      <td>55.000000</td>\n",
              "      <td>25.000000</td>\n",
              "      <td>13.000000</td>\n",
              "      <td>0.367000</td>\n",
              "    </tr>\n",
              "    <tr>\n",
              "      <th>max</th>\n",
              "      <td>71.333000</td>\n",
              "      <td>178.474500</td>\n",
              "      <td>1000.000000</td>\n",
              "      <td>147.100000</td>\n",
              "      <td>14.000000</td>\n",
              "      <td>28.000000</td>\n",
              "      <td>28.000000</td>\n",
              "      <td>28.000000</td>\n",
              "      <td>28.000000</td>\n",
              "      <td>28.000000</td>\n",
              "      <td>21.000000</td>\n",
              "      <td>11.000000</td>\n",
              "      <td>15.000000</td>\n",
              "      <td>5.000000</td>\n",
              "      <td>2.000000</td>\n",
              "      <td>2.000000</td>\n",
              "      <td>2.000000</td>\n",
              "      <td>2.000000</td>\n",
              "      <td>2.000000</td>\n",
              "      <td>2.000000</td>\n",
              "      <td>2.000000</td>\n",
              "      <td>5.000000</td>\n",
              "      <td>2.000000</td>\n",
              "      <td>2.000000</td>\n",
              "      <td>2.000000</td>\n",
              "      <td>1.000000</td>\n",
              "      <td>1.000000</td>\n",
              "      <td>1.000000</td>\n",
              "      <td>1.000000</td>\n",
              "      <td>1.000000</td>\n",
              "      <td>1.000000</td>\n",
              "      <td>1.000000</td>\n",
              "      <td>1.000000</td>\n",
              "      <td>1.000000</td>\n",
              "      <td>1.000000</td>\n",
              "      <td>1.000000</td>\n",
              "      <td>1.000000</td>\n",
              "      <td>1.000000</td>\n",
              "      <td>1.000000</td>\n",
              "      <td>1.000000</td>\n",
              "      <td>95.000000</td>\n",
              "      <td>95.000000</td>\n",
              "      <td>100.000000</td>\n",
              "      <td>75.000000</td>\n",
              "    </tr>\n",
              "  </tbody>\n",
              "</table>\n",
              "</div>"
            ],
            "text/plain": [
              "         ip_latitude   ip_longitude  ...  risk_infection  risk_mortality\n",
              "count  912768.000000  912768.000000  ...   912754.000000   912754.000000\n",
              "mean       35.166173     -75.376272  ...       11.803091        0.371800\n",
              "std        17.221443      44.255528  ...       14.970780        1.062757\n",
              "min       -53.862900    -175.379600  ...        5.000000        0.050000\n",
              "25%        33.709800     -96.075800  ...        5.000000        0.050000\n",
              "50%        38.989600     -84.454200  ...        5.000000        0.068000\n",
              "75%        42.411200     -75.930650  ...       13.000000        0.367000\n",
              "max        71.333000     178.474500  ...      100.000000       75.000000\n",
              "\n",
              "[8 rows x 44 columns]"
            ]
          },
          "metadata": {
            "tags": []
          },
          "execution_count": 18
        }
      ]
    },
    {
      "cell_type": "markdown",
      "metadata": {
        "id": "uswJ4PRZmo0f"
      },
      "source": [
        "## Exploratory Data Analysis"
      ]
    },
    {
      "cell_type": "markdown",
      "metadata": {
        "id": "X5-kaqhCOmBi"
      },
      "source": [
        "### BMI vs Covid risk/mortality"
      ]
    },
    {
      "cell_type": "code",
      "metadata": {
        "id": "il-kdKsTy5Z2",
        "outputId": "7b0f5abe-638f-49e8-c9bb-c4ae47e15750",
        "colab": {
          "base_uri": "https://localhost:8080/",
          "height": 400
        }
      },
      "source": [
        "bmi_mortality = data[['bmi','risk_mortality','sex','risk_infection','age','covid19_positive']]\n",
        "bmi_mortality = bmi_mortality.dropna()\n",
        "sns.relplot(x='bmi', y='risk_mortality', hue='sex', data=bmi_mortality)\n",
        "column_1 = bmi_mortality[\"bmi\"]\n",
        "\n",
        "column_2 = bmi_mortality[\"risk_mortality\"]\n",
        "\n",
        "correlation = column_1.corr(column_2)\n",
        "correlation"
      ],
      "execution_count": null,
      "outputs": [
        {
          "output_type": "execute_result",
          "data": {
            "text/plain": [
              "0.08363449486372952"
            ]
          },
          "metadata": {
            "tags": []
          },
          "execution_count": 74
        },
        {
          "output_type": "display_data",
          "data": {
            "image/png": "[encoded data removed]",
            "text/plain": [
              "<Figure size 430.5x360 with 1 Axes>"
            ]
          },
          "metadata": {
            "tags": [],
            "needs_background": "light"
          }
        }
      ]
    },
    {
      "cell_type": "code",
      "metadata": {
        "id": "gWy8KftWt0jm",
        "outputId": "742d8729-1a4f-43eb-87f2-56d78b77a386",
        "colab": {
          "base_uri": "https://localhost:8080/",
          "height": 334
        }
      },
      "source": [
        "sns.distplot(bmi_mortality['bmi'], kde=False, bins=30);"
      ],
      "execution_count": null,
      "outputs": [
        {
          "output_type": "stream",
          "text": [
            "/usr/local/lib/python3.6/dist-packages/seaborn/distributions.py:2551: FutureWarning: `distplot` is a deprecated function and will be removed in a future version. Please adapt your code to use either `displot` (a figure-level function with similar flexibility) or `histplot` (an axes-level function for histograms).\n",
            "  warnings.warn(msg, FutureWarning)\n"
          ],
          "name": "stderr"
        },
        {
          "output_type": "display_data",
          "data": {
            "image/png": "[encoded data removed]",
            "text/plain": [
              "<Figure size 432x288 with 1 Axes>"
            ]
          },
          "metadata": {
            "tags": [],
            "needs_background": "light"
          }
        }
      ]
    },
    {
      "cell_type": "code",
      "metadata": {
        "id": "SLDWWgWfrVVU",
        "outputId": "fa862066-812e-4815-d5a6-e3963bded5fb",
        "colab": {
          "base_uri": "https://localhost:8080/",
          "height": 400
        }
      },
      "source": [
        "sns.relplot(x='bmi', y='risk_infection', hue='sex', data=bmi_mortality)"
      ],
      "execution_count": null,
      "outputs": [
        {
          "output_type": "execute_result",
          "data": {
            "text/plain": [
              "<seaborn.axisgrid.FacetGrid at 0x7f40241c7cc0>"
            ]
          },
          "metadata": {
            "tags": []
          },
          "execution_count": 21
        },
        {
          "output_type": "display_data",
          "data": {
            "image/png": "[encoded data removed]",
            "text/plain": [
              "<Figure size 430.5x360 with 1 Axes>"
            ]
          },
          "metadata": {
            "tags": [],
            "needs_background": "light"
          }
        }
      ]
    },
    {
      "cell_type": "code",
      "metadata": {
        "id": "6MeUWuD2vBbM",
        "outputId": "60fcaee4-db85-4a43-d1ac-f3c2758303f0",
        "colab": {
          "base_uri": "https://localhost:8080/",
          "height": 297
        }
      },
      "source": [
        "from numpy import median\n",
        "sns.barplot(x='covid19_positive', y='bmi', data=bmi_mortality, estimator=median)"
      ],
      "execution_count": null,
      "outputs": [
        {
          "output_type": "execute_result",
          "data": {
            "text/plain": [
              "<matplotlib.axes._subplots.AxesSubplot at 0x7f402873e518>"
            ]
          },
          "metadata": {
            "tags": []
          },
          "execution_count": 22
        },
        {
          "output_type": "display_data",
          "data": {
            "image/png": "[encoded data removed]",
            "text/plain": [
              "<Figure size 432x288 with 1 Axes>"
            ]
          },
          "metadata": {
            "tags": [],
            "needs_background": "light"
          }
        }
      ]
    },
    {
      "cell_type": "markdown",
      "metadata": {
        "id": "tdRrTcp7WaZh"
      },
      "source": [
        "**Insight:** BMI and covid19_positive has very low correlation of 0.083, so we can't infer relation between them\n"
      ]
    },
    {
      "cell_type": "markdown",
      "metadata": {
        "id": "FXGHp9sqCmAr"
      },
      "source": [
        "### Income Vs Covid-19\n",
        "\n",
        "\n",
        "*   H0 = Income and Covid-19 are independent\n",
        "*   H1 = They are related in some way\n",
        "\n"
      ]
    },
    {
      "cell_type": "code",
      "metadata": {
        "id": "0z-RmxIKAX0w",
        "outputId": "48365f48-3a2f-448c-9baf-431c0d7471e6",
        "colab": {
          "base_uri": "https://localhost:8080/",
          "height": 34
        }
      },
      "source": [
        "data['income'].unique()"
      ],
      "execution_count": null,
      "outputs": [
        {
          "output_type": "execute_result",
          "data": {
            "text/plain": [
              "array([nan, 'low', 'med', 'high', 'gov', 'blank'], dtype=object)"
            ]
          },
          "metadata": {
            "tags": []
          },
          "execution_count": 95
        }
      ]
    },
    {
      "cell_type": "code",
      "metadata": {
        "id": "_8SHVqLpDOSa",
        "outputId": "5dd78ee0-f2c4-430b-8c04-d13800e1e7a2",
        "colab": {
          "base_uri": "https://localhost:8080/",
          "height": 238
        }
      },
      "source": [
        "incomePosi = data[['income','covid19_positive']]\n",
        "incomePosi.head()"
      ],
      "execution_count": null,
      "outputs": [
        {
          "output_type": "execute_result",
          "data": {
            "text/html": [
              "<div>\n",
              "<style scoped>\n",
              "    .dataframe tbody tr th:only-of-type {\n",
              "        vertical-align: middle;\n",
              "    }\n",
              "\n",
              "    .dataframe tbody tr th {\n",
              "        vertical-align: top;\n",
              "    }\n",
              "\n",
              "    .dataframe thead th {\n",
              "        text-align: right;\n",
              "    }\n",
              "</style>\n",
              "<table border=\"1\" class=\"dataframe\">\n",
              "  <thead>\n",
              "    <tr style=\"text-align: right;\">\n",
              "      <th></th>\n",
              "      <th>income</th>\n",
              "      <th>covid19_positive</th>\n",
              "    </tr>\n",
              "    <tr>\n",
              "      <th>ID</th>\n",
              "      <th></th>\n",
              "      <th></th>\n",
              "    </tr>\n",
              "  </thead>\n",
              "  <tbody>\n",
              "    <tr>\n",
              "      <th>1</th>\n",
              "      <td>NaN</td>\n",
              "      <td>0</td>\n",
              "    </tr>\n",
              "    <tr>\n",
              "      <th>2</th>\n",
              "      <td>NaN</td>\n",
              "      <td>0</td>\n",
              "    </tr>\n",
              "    <tr>\n",
              "      <th>3</th>\n",
              "      <td>NaN</td>\n",
              "      <td>0</td>\n",
              "    </tr>\n",
              "    <tr>\n",
              "      <th>4</th>\n",
              "      <td>NaN</td>\n",
              "      <td>0</td>\n",
              "    </tr>\n",
              "    <tr>\n",
              "      <th>5</th>\n",
              "      <td>NaN</td>\n",
              "      <td>0</td>\n",
              "    </tr>\n",
              "  </tbody>\n",
              "</table>\n",
              "</div>"
            ],
            "text/plain": [
              "   income  covid19_positive\n",
              "ID                         \n",
              "1     NaN                 0\n",
              "2     NaN                 0\n",
              "3     NaN                 0\n",
              "4     NaN                 0\n",
              "5     NaN                 0"
            ]
          },
          "metadata": {
            "tags": []
          },
          "execution_count": 96
        }
      ]
    },
    {
      "cell_type": "code",
      "metadata": {
        "id": "aqutzP5HDXDW",
        "outputId": "11790794-0535-43d3-ab33-a1a8025c77b2",
        "colab": {
          "base_uri": "https://localhost:8080/",
          "height": 69
        }
      },
      "source": [
        "incomePosi.isnull().sum()"
      ],
      "execution_count": null,
      "outputs": [
        {
          "output_type": "execute_result",
          "data": {
            "text/plain": [
              "income              688743\n",
              "covid19_positive         0\n",
              "dtype: int64"
            ]
          },
          "metadata": {
            "tags": []
          },
          "execution_count": 97
        }
      ]
    },
    {
      "cell_type": "code",
      "metadata": {
        "id": "JocSIZUdDZT5",
        "outputId": "95a18388-3ada-4334-867d-a5c3b41c8029",
        "colab": {
          "base_uri": "https://localhost:8080/",
          "height": 238
        }
      },
      "source": [
        "incomePosi = incomePosi.dropna()\n",
        "incomePosi.head()"
      ],
      "execution_count": null,
      "outputs": [
        {
          "output_type": "execute_result",
          "data": {
            "text/html": [
              "<div>\n",
              "<style scoped>\n",
              "    .dataframe tbody tr th:only-of-type {\n",
              "        vertical-align: middle;\n",
              "    }\n",
              "\n",
              "    .dataframe tbody tr th {\n",
              "        vertical-align: top;\n",
              "    }\n",
              "\n",
              "    .dataframe thead th {\n",
              "        text-align: right;\n",
              "    }\n",
              "</style>\n",
              "<table border=\"1\" class=\"dataframe\">\n",
              "  <thead>\n",
              "    <tr style=\"text-align: right;\">\n",
              "      <th></th>\n",
              "      <th>income</th>\n",
              "      <th>covid19_positive</th>\n",
              "    </tr>\n",
              "    <tr>\n",
              "      <th>ID</th>\n",
              "      <th></th>\n",
              "      <th></th>\n",
              "    </tr>\n",
              "  </thead>\n",
              "  <tbody>\n",
              "    <tr>\n",
              "      <th>47937</th>\n",
              "      <td>low</td>\n",
              "      <td>0</td>\n",
              "    </tr>\n",
              "    <tr>\n",
              "      <th>47938</th>\n",
              "      <td>med</td>\n",
              "      <td>0</td>\n",
              "    </tr>\n",
              "    <tr>\n",
              "      <th>47939</th>\n",
              "      <td>med</td>\n",
              "      <td>0</td>\n",
              "    </tr>\n",
              "    <tr>\n",
              "      <th>47940</th>\n",
              "      <td>high</td>\n",
              "      <td>0</td>\n",
              "    </tr>\n",
              "    <tr>\n",
              "      <th>47941</th>\n",
              "      <td>high</td>\n",
              "      <td>0</td>\n",
              "    </tr>\n",
              "  </tbody>\n",
              "</table>\n",
              "</div>"
            ],
            "text/plain": [
              "      income  covid19_positive\n",
              "ID                            \n",
              "47937    low                 0\n",
              "47938    med                 0\n",
              "47939    med                 0\n",
              "47940   high                 0\n",
              "47941   high                 0"
            ]
          },
          "metadata": {
            "tags": []
          },
          "execution_count": 98
        }
      ]
    },
    {
      "cell_type": "code",
      "metadata": {
        "id": "b99qusR7EPBd",
        "outputId": "733d4da7-fd9d-41f6-977f-518c384762db",
        "colab": {
          "base_uri": "https://localhost:8080/",
          "height": 143
        }
      },
      "source": [
        "cln,clp,cmn,cpm,chn,chp =0,0,0,0,0,0\n",
        "for i in range(len(incomePosi['income'])):\n",
        "  if (incomePosi[i:i+1]['income'].str.contains(\"low\")).bool() & ((incomePosi[i:i+1]['covid19_positive'] == 0).bool()):\n",
        "    cln+=1\n",
        "  elif (incomePosi[i:i+1]['income'].str.contains(\"low\")).bool() & ((incomePosi[i:i+1]['covid19_positive'] == 1).bool()):\n",
        "    clp+=1\n",
        "  elif (incomePosi[i:i+1]['income'].str.contains(\"med\")).bool() & ((incomePosi[i:i+1]['covid19_positive'] == 0).bool()):\n",
        "    cmn+=1\n",
        "  elif (incomePosi[i:i+1]['income'].str.contains(\"med\")).bool() & ((incomePosi[i:i+1]['covid19_positive'] == 1).bool()):\n",
        "    cpm+=1\n",
        "  elif (incomePosi[i:i+1]['income'].str.contains(\"high\")).bool() & ((incomePosi[i:i+1]['covid19_positive'] == 0).bool()):\n",
        "    chn+=1\n",
        "  elif (incomePosi[i:i+1]['income'].str.contains(\"high\")).bool() & ((incomePosi[i:i+1]['covid19_positive'] == 1).bool()):\n",
        "    chp+=1\n",
        "incomeMatrix = pd.DataFrame(\n",
        "    [\n",
        "        [cln,clp],\n",
        "        [cmn,cpm],\n",
        "        [chn,chp]\n",
        "    ],\n",
        "    index=[\"Low income\",\"Med income\",\"High income\"],\n",
        "    columns=[\"Covid19_Negative\",\"Covid19_Positive\"])\n",
        "incomeMatrix"
      ],
      "execution_count": null,
      "outputs": [
        {
          "output_type": "execute_result",
          "data": {
            "text/html": [
              "<div>\n",
              "<style scoped>\n",
              "    .dataframe tbody tr th:only-of-type {\n",
              "        vertical-align: middle;\n",
              "    }\n",
              "\n",
              "    .dataframe tbody tr th {\n",
              "        vertical-align: top;\n",
              "    }\n",
              "\n",
              "    .dataframe thead th {\n",
              "        text-align: right;\n",
              "    }\n",
              "</style>\n",
              "<table border=\"1\" class=\"dataframe\">\n",
              "  <thead>\n",
              "    <tr style=\"text-align: right;\">\n",
              "      <th></th>\n",
              "      <th>Covid19_Negative</th>\n",
              "      <th>Covid19_Positive</th>\n",
              "    </tr>\n",
              "  </thead>\n",
              "  <tbody>\n",
              "    <tr>\n",
              "      <th>Low income</th>\n",
              "      <td>22539</td>\n",
              "      <td>232</td>\n",
              "    </tr>\n",
              "    <tr>\n",
              "      <th>Med income</th>\n",
              "      <td>110428</td>\n",
              "      <td>1094</td>\n",
              "    </tr>\n",
              "    <tr>\n",
              "      <th>High income</th>\n",
              "      <td>77612</td>\n",
              "      <td>693</td>\n",
              "    </tr>\n",
              "  </tbody>\n",
              "</table>\n",
              "</div>"
            ],
            "text/plain": [
              "             Covid19_Negative  Covid19_Positive\n",
              "Low income              22539               232\n",
              "Med income             110428              1094\n",
              "High income             77612               693"
            ]
          },
          "metadata": {
            "tags": []
          },
          "execution_count": 99
        }
      ]
    },
    {
      "cell_type": "code",
      "metadata": {
        "id": "9U5YgzyzGixD",
        "outputId": "2874a951-556d-4b69-fa8f-2d8dcb049e2c",
        "colab": {
          "base_uri": "https://localhost:8080/",
          "height": 104
        }
      },
      "source": [
        "from scipy.stats import chi2\n",
        "chi, pval, dof, exp = chi2_contingency(incomeMatrix)\n",
        "print('p-value is: ', pval)\n",
        "significance = 0.01\n",
        "p = 1 - significance\n",
        "critical_value = chi2.ppf(p, dof)\n",
        "print('chi=%.6f, critical value=%.6f\\n' % (chi, critical_value))\n",
        "if chi > critical_value:\n",
        "    print(\"\"\"At %.2f level of significance, we reject the null hypotheses and accept H1. \n",
        "They are not independent.\"\"\" % (significance))\n",
        "else:\n",
        "    print(\"\"\"At %.2f level of significance, we accept the null hypotheses. \n",
        "They are independent.\"\"\" % (significance))"
      ],
      "execution_count": null,
      "outputs": [
        {
          "output_type": "stream",
          "text": [
            "p-value is:  0.054989533050271655\n",
            "chi=5.801225, critical value=9.210340\n",
            "\n",
            "At 0.01 level of significance, we accept the null hypotheses. \n",
            "They are independent.\n"
          ],
          "name": "stdout"
        }
      ]
    },
    {
      "cell_type": "code",
      "metadata": {
        "id": "wqYvV4rDLDY0",
        "outputId": "9fa7fac8-522a-4d91-ef6c-8fcee0fa60a3",
        "colab": {
          "base_uri": "https://localhost:8080/",
          "height": 72
        }
      },
      "source": [
        "def cramers_stat(confusion_matrix):\n",
        "    chi2 = chi2_contingency(confusion_matrix)[0]\n",
        "    n = confusion_matrix.sum().sum()\n",
        "    return np.sqrt(chi2 / (n*(min(confusion_matrix.shape)-1)))\n",
        "insurCramers_v = cramers_stat(incomeMatrix)\n",
        "print(\"Cramér's V is a number between 0 and 1 that indicates how strongly two categorical variables are associated. It is based on Pearson's chi-squared statistic\")\n",
        "insurCramers_v"
      ],
      "execution_count": null,
      "outputs": [
        {
          "output_type": "stream",
          "text": [
            "Cramér's V is a number between 0 and 1 that indicates how strongly two categorical variables are associated. It is based on Pearson's chi-squared statistic\n"
          ],
          "name": "stdout"
        },
        {
          "output_type": "execute_result",
          "data": {
            "text/plain": [
              "0.005223724470229346"
            ]
          },
          "metadata": {
            "tags": []
          },
          "execution_count": 101
        }
      ]
    },
    {
      "cell_type": "markdown",
      "metadata": {
        "id": "8mZEQ-aLH7hO"
      },
      "source": [
        "### Insurance Vs Covid-19\n",
        "\n",
        "\n",
        "*   H0 = Insurance and Covid-19 are independent\n",
        "*   H1 = They are related in some way\n",
        "\n"
      ]
    },
    {
      "cell_type": "code",
      "metadata": {
        "id": "FRrrHWHx_LsY",
        "outputId": "c47775cb-0658-482c-d4ac-f2be86559d95",
        "colab": {
          "base_uri": "https://localhost:8080/"
        }
      },
      "source": [
        "data['insurance'].unique()"
      ],
      "execution_count": null,
      "outputs": [
        {
          "output_type": "execute_result",
          "data": {
            "text/plain": [
              "array([nan, 'no', 'yes', 'blank'], dtype=object)"
            ]
          },
          "metadata": {
            "tags": []
          },
          "execution_count": 102
        }
      ]
    },
    {
      "cell_type": "code",
      "metadata": {
        "id": "uqmXnZHg_i92",
        "outputId": "9f197032-d396-43ab-9920-1ba8e277c7e2",
        "colab": {
          "base_uri": "https://localhost:8080/"
        }
      },
      "source": [
        "insurPosi = data[['insurance','covid19_positive']]\n",
        "insurPosi.head()"
      ],
      "execution_count": null,
      "outputs": [
        {
          "output_type": "execute_result",
          "data": {
            "text/html": [
              "<div>\n",
              "<style scoped>\n",
              "    .dataframe tbody tr th:only-of-type {\n",
              "        vertical-align: middle;\n",
              "    }\n",
              "\n",
              "    .dataframe tbody tr th {\n",
              "        vertical-align: top;\n",
              "    }\n",
              "\n",
              "    .dataframe thead th {\n",
              "        text-align: right;\n",
              "    }\n",
              "</style>\n",
              "<table border=\"1\" class=\"dataframe\">\n",
              "  <thead>\n",
              "    <tr style=\"text-align: right;\">\n",
              "      <th></th>\n",
              "      <th>insurance</th>\n",
              "      <th>covid19_positive</th>\n",
              "    </tr>\n",
              "    <tr>\n",
              "      <th>ID</th>\n",
              "      <th></th>\n",
              "      <th></th>\n",
              "    </tr>\n",
              "  </thead>\n",
              "  <tbody>\n",
              "    <tr>\n",
              "      <th>1</th>\n",
              "      <td>NaN</td>\n",
              "      <td>0</td>\n",
              "    </tr>\n",
              "    <tr>\n",
              "      <th>2</th>\n",
              "      <td>NaN</td>\n",
              "      <td>0</td>\n",
              "    </tr>\n",
              "    <tr>\n",
              "      <th>3</th>\n",
              "      <td>NaN</td>\n",
              "      <td>0</td>\n",
              "    </tr>\n",
              "    <tr>\n",
              "      <th>4</th>\n",
              "      <td>NaN</td>\n",
              "      <td>0</td>\n",
              "    </tr>\n",
              "    <tr>\n",
              "      <th>5</th>\n",
              "      <td>NaN</td>\n",
              "      <td>0</td>\n",
              "    </tr>\n",
              "  </tbody>\n",
              "</table>\n",
              "</div>"
            ],
            "text/plain": [
              "   insurance  covid19_positive\n",
              "ID                            \n",
              "1        NaN                 0\n",
              "2        NaN                 0\n",
              "3        NaN                 0\n",
              "4        NaN                 0\n",
              "5        NaN                 0"
            ]
          },
          "metadata": {
            "tags": []
          },
          "execution_count": 103
        }
      ]
    },
    {
      "cell_type": "code",
      "metadata": {
        "id": "Tuu8LfPCIk9u",
        "outputId": "ab8380ed-ebb7-47a6-d14a-34ff86e40347",
        "colab": {
          "base_uri": "https://localhost:8080/"
        }
      },
      "source": [
        "insurPosi.isnull().sum()"
      ],
      "execution_count": null,
      "outputs": [
        {
          "output_type": "execute_result",
          "data": {
            "text/plain": [
              "insurance           688743\n",
              "covid19_positive         0\n",
              "dtype: int64"
            ]
          },
          "metadata": {
            "tags": []
          },
          "execution_count": 104
        }
      ]
    },
    {
      "cell_type": "code",
      "metadata": {
        "id": "ehXUpFWRI1SI",
        "outputId": "1a8217fa-cfcc-42c3-988f-52dd17e4c5b6",
        "colab": {
          "base_uri": "https://localhost:8080/"
        }
      },
      "source": [
        "insurPosi = insurPosi.dropna()\n",
        "insurPosi.head()"
      ],
      "execution_count": null,
      "outputs": [
        {
          "output_type": "execute_result",
          "data": {
            "text/html": [
              "<div>\n",
              "<style scoped>\n",
              "    .dataframe tbody tr th:only-of-type {\n",
              "        vertical-align: middle;\n",
              "    }\n",
              "\n",
              "    .dataframe tbody tr th {\n",
              "        vertical-align: top;\n",
              "    }\n",
              "\n",
              "    .dataframe thead th {\n",
              "        text-align: right;\n",
              "    }\n",
              "</style>\n",
              "<table border=\"1\" class=\"dataframe\">\n",
              "  <thead>\n",
              "    <tr style=\"text-align: right;\">\n",
              "      <th></th>\n",
              "      <th>insurance</th>\n",
              "      <th>covid19_positive</th>\n",
              "    </tr>\n",
              "    <tr>\n",
              "      <th>ID</th>\n",
              "      <th></th>\n",
              "      <th></th>\n",
              "    </tr>\n",
              "  </thead>\n",
              "  <tbody>\n",
              "    <tr>\n",
              "      <th>47937</th>\n",
              "      <td>no</td>\n",
              "      <td>0</td>\n",
              "    </tr>\n",
              "    <tr>\n",
              "      <th>47938</th>\n",
              "      <td>yes</td>\n",
              "      <td>0</td>\n",
              "    </tr>\n",
              "    <tr>\n",
              "      <th>47939</th>\n",
              "      <td>no</td>\n",
              "      <td>0</td>\n",
              "    </tr>\n",
              "    <tr>\n",
              "      <th>47940</th>\n",
              "      <td>yes</td>\n",
              "      <td>0</td>\n",
              "    </tr>\n",
              "    <tr>\n",
              "      <th>47941</th>\n",
              "      <td>yes</td>\n",
              "      <td>0</td>\n",
              "    </tr>\n",
              "  </tbody>\n",
              "</table>\n",
              "</div>"
            ],
            "text/plain": [
              "      insurance  covid19_positive\n",
              "ID                               \n",
              "47937        no                 0\n",
              "47938       yes                 0\n",
              "47939        no                 0\n",
              "47940       yes                 0\n",
              "47941       yes                 0"
            ]
          },
          "metadata": {
            "tags": []
          },
          "execution_count": 105
        }
      ]
    },
    {
      "cell_type": "code",
      "metadata": {
        "id": "QtzNunlfQ20o",
        "outputId": "1cbed349-dc01-4212-de96-c331a5ae5bde",
        "colab": {
          "base_uri": "https://localhost:8080/"
        }
      },
      "source": [
        "cnn,cnp,cpn,cpp =0,0,0,0\n",
        "for i in range(len(insurPosi['insurance'])):\n",
        "  if (insurPosi[i:i+1]['insurance'].str.contains(\"no\")).bool() & ((insurPosi[i:i+1]['covid19_positive'] == 0).bool()):\n",
        "    cnn+=1\n",
        "  elif (insurPosi[i:i+1]['insurance'].str.contains(\"no\")).bool() & ((insurPosi[i:i+1]['covid19_positive'] == 1).bool()):\n",
        "    cnp+=1\n",
        "  elif (insurPosi[i:i+1]['insurance'].str.contains(\"yes\")).bool() & ((insurPosi[i:i+1]['covid19_positive'] == 0).bool()):\n",
        "    cpn+=1\n",
        "  elif (insurPosi[i:i+1]['insurance'].str.contains(\"yes\")).bool() & ((insurPosi[i:i+1]['covid19_positive'] == 1).bool()):\n",
        "    cpp+=1\n",
        "insurMatrix = pd.DataFrame(\n",
        "    [\n",
        "        [cnn,cnp],\n",
        "        [cpn,cpp]\n",
        "    ],\n",
        "    index=[\"No insurance\",\"Has insurance\"],\n",
        "    columns=[\"Covid19_Negative\",\"Covid19_Positive\"])\n",
        "insurMatrix"
      ],
      "execution_count": null,
      "outputs": [
        {
          "output_type": "execute_result",
          "data": {
            "text/html": [
              "<div>\n",
              "<style scoped>\n",
              "    .dataframe tbody tr th:only-of-type {\n",
              "        vertical-align: middle;\n",
              "    }\n",
              "\n",
              "    .dataframe tbody tr th {\n",
              "        vertical-align: top;\n",
              "    }\n",
              "\n",
              "    .dataframe thead th {\n",
              "        text-align: right;\n",
              "    }\n",
              "</style>\n",
              "<table border=\"1\" class=\"dataframe\">\n",
              "  <thead>\n",
              "    <tr style=\"text-align: right;\">\n",
              "      <th></th>\n",
              "      <th>Covid19_Negative</th>\n",
              "      <th>Covid19_Positive</th>\n",
              "    </tr>\n",
              "  </thead>\n",
              "  <tbody>\n",
              "    <tr>\n",
              "      <th>No insurance</th>\n",
              "      <td>45553</td>\n",
              "      <td>446</td>\n",
              "    </tr>\n",
              "    <tr>\n",
              "      <th>Has insurance</th>\n",
              "      <td>159434</td>\n",
              "      <td>1480</td>\n",
              "    </tr>\n",
              "  </tbody>\n",
              "</table>\n",
              "</div>"
            ],
            "text/plain": [
              "               Covid19_Negative  Covid19_Positive\n",
              "No insurance              45553               446\n",
              "Has insurance            159434              1480"
            ]
          },
          "metadata": {
            "tags": []
          },
          "execution_count": 106
        }
      ]
    },
    {
      "cell_type": "code",
      "metadata": {
        "id": "pwkags3-KMm_",
        "outputId": "9c1e763d-919a-45d9-c6e9-10cd060301ea",
        "colab": {
          "base_uri": "https://localhost:8080/"
        }
      },
      "source": [
        "chi2_contingency(insurMatrix)"
      ],
      "execution_count": null,
      "outputs": [
        {
          "output_type": "execute_result",
          "data": {
            "text/plain": [
              "(0.9103386540915883,\n",
              " 0.3400245797942681,\n",
              " 1,\n",
              " array([[ 45570.82934857,    428.17065143],\n",
              "        [159416.17065143,   1497.82934857]]))"
            ]
          },
          "metadata": {
            "tags": []
          },
          "execution_count": 107
        }
      ]
    },
    {
      "cell_type": "code",
      "metadata": {
        "id": "jZtpiw87Pu45",
        "outputId": "53c39fd2-a72b-43c5-9143-832865792521",
        "colab": {
          "base_uri": "https://localhost:8080/"
        }
      },
      "source": [
        "df=chi2_contingency(insurMatrix)[3]\n",
        "pd.DataFrame(\n",
        "    data=df[:,:], \n",
        "    index=[\"No insurance\",\"Has insurance\"],\n",
        "    columns=[\"Covid19_Negative\",\"Covid19_Positive\"]\n",
        ").round(2)"
      ],
      "execution_count": null,
      "outputs": [
        {
          "output_type": "execute_result",
          "data": {
            "text/html": [
              "<div>\n",
              "<style scoped>\n",
              "    .dataframe tbody tr th:only-of-type {\n",
              "        vertical-align: middle;\n",
              "    }\n",
              "\n",
              "    .dataframe tbody tr th {\n",
              "        vertical-align: top;\n",
              "    }\n",
              "\n",
              "    .dataframe thead th {\n",
              "        text-align: right;\n",
              "    }\n",
              "</style>\n",
              "<table border=\"1\" class=\"dataframe\">\n",
              "  <thead>\n",
              "    <tr style=\"text-align: right;\">\n",
              "      <th></th>\n",
              "      <th>Covid19_Negative</th>\n",
              "      <th>Covid19_Positive</th>\n",
              "    </tr>\n",
              "  </thead>\n",
              "  <tbody>\n",
              "    <tr>\n",
              "      <th>No insurance</th>\n",
              "      <td>45570.83</td>\n",
              "      <td>428.17</td>\n",
              "    </tr>\n",
              "    <tr>\n",
              "      <th>Has insurance</th>\n",
              "      <td>159416.17</td>\n",
              "      <td>1497.83</td>\n",
              "    </tr>\n",
              "  </tbody>\n",
              "</table>\n",
              "</div>"
            ],
            "text/plain": [
              "               Covid19_Negative  Covid19_Positive\n",
              "No insurance           45570.83            428.17\n",
              "Has insurance         159416.17           1497.83"
            ]
          },
          "metadata": {
            "tags": []
          },
          "execution_count": 108
        }
      ]
    },
    {
      "cell_type": "code",
      "metadata": {
        "id": "JrhfnTjvVwNk",
        "outputId": "3328e17e-5531-46bf-8f54-a841149c63f0",
        "colab": {
          "base_uri": "https://localhost:8080/"
        }
      },
      "source": [
        "chisquare=chi2_contingency(insurMatrix)[0]\n",
        "chisquare"
      ],
      "execution_count": null,
      "outputs": [
        {
          "output_type": "execute_result",
          "data": {
            "text/plain": [
              "0.9103386540915883"
            ]
          },
          "metadata": {
            "tags": []
          },
          "execution_count": 109
        }
      ]
    },
    {
      "cell_type": "code",
      "metadata": {
        "id": "hucGSOTGWkL0",
        "outputId": "2f27b866-e19f-4298-c7e5-83a7c207fd42",
        "colab": {
          "base_uri": "https://localhost:8080/"
        }
      },
      "source": [
        "p_value = chi2_contingency(insurMatrix)[1]\n",
        "p_value"
      ],
      "execution_count": null,
      "outputs": [
        {
          "output_type": "execute_result",
          "data": {
            "text/plain": [
              "0.3400245797942681"
            ]
          },
          "metadata": {
            "tags": []
          },
          "execution_count": 110
        }
      ]
    },
    {
      "cell_type": "code",
      "metadata": {
        "id": "RL9oT1K7B4Ob",
        "outputId": "495adc56-7b4e-4a60-e07f-d719eae354ee",
        "colab": {
          "base_uri": "https://localhost:8080/"
        }
      },
      "source": [
        "from scipy.stats import chi2\n",
        "chi, pval, dof, exp = chi2_contingency(insurMatrix)\n",
        "print('p-value is: ', pval)\n",
        "significance = 0.01\n",
        "p = 1 - significance\n",
        "critical_value = chi2.ppf(p, dof)\n",
        "print('chi=%.6f, critical value=%.6f\\n' % (chi, critical_value))\n",
        "if chi > critical_value:\n",
        "    print(\"\"\"At %.2f level of significance, we reject the null hypotheses and accept H1. \n",
        "They are not independent.\"\"\" % (significance))\n",
        "else:\n",
        "    print(\"\"\"At %.2f level of significance, we accept the null hypotheses. \n",
        "They are independent.\"\"\" % (significance))"
      ],
      "execution_count": null,
      "outputs": [
        {
          "output_type": "stream",
          "text": [
            "p-value is:  0.3400245797942681\n",
            "chi=0.910339, critical value=6.634897\n",
            "\n",
            "At 0.01 level of significance, we accept the null hypotheses. \n",
            "They are independent.\n"
          ],
          "name": "stdout"
        }
      ]
    },
    {
      "cell_type": "code",
      "metadata": {
        "id": "fhJkHmFL-i9k",
        "outputId": "b8d4ce3e-577e-4e54-8860-2b137eafd24c",
        "colab": {
          "base_uri": "https://localhost:8080/"
        }
      },
      "source": [
        "def cramers_stat(confusion_matrix):\n",
        "    chi2 = chi2_contingency(confusion_matrix)[0]\n",
        "    n = confusion_matrix.sum().sum()\n",
        "    return np.sqrt(chi2 / (n*(min(confusion_matrix.shape)-1)))\n",
        "insurCramers_v = cramers_stat(insurMatrix)\n",
        "print(\"Cramér's V is a number between 0 and 1 that indicates how strongly two categorical variables are associated. It is based on Pearson's chi-squared statistic\")\n",
        "insurCramers_v"
      ],
      "execution_count": null,
      "outputs": [
        {
          "output_type": "stream",
          "text": [
            "Cramér's V is a number between 0 and 1 that indicates how strongly two categorical variables are associated. It is based on Pearson's chi-squared statistic\n"
          ],
          "name": "stdout"
        },
        {
          "output_type": "execute_result",
          "data": {
            "text/plain": [
              "0.00209752720879171"
            ]
          },
          "metadata": {
            "tags": []
          },
          "execution_count": 112
        }
      ]
    },
    {
      "cell_type": "markdown",
      "metadata": {
        "id": "gxZJF4cd90fl"
      },
      "source": [
        "### Sex Vs Covid-19\n",
        "\n",
        "\n",
        "*   H0 = Sex and Covid-19 are independent\n",
        "*   H1 = They are related in some way\n",
        "\n"
      ]
    },
    {
      "cell_type": "code",
      "metadata": {
        "id": "l8TbH6KS90fv",
        "outputId": "c8c9b5fc-c8bb-487c-fb37-6d71ae656a41",
        "colab": {
          "base_uri": "https://localhost:8080/",
          "height": 34
        }
      },
      "source": [
        "data['sex'].unique()"
      ],
      "execution_count": null,
      "outputs": [
        {
          "output_type": "execute_result",
          "data": {
            "text/plain": [
              "array(['male', 'female', 'other', 'undefined'], dtype=object)"
            ]
          },
          "metadata": {
            "tags": []
          },
          "execution_count": 84
        }
      ]
    },
    {
      "cell_type": "code",
      "metadata": {
        "id": "wrTO9-D090gE",
        "outputId": "d3613a9a-fb64-4801-9c6a-1b5c43a51515",
        "colab": {
          "base_uri": "https://localhost:8080/",
          "height": 238
        }
      },
      "source": [
        "insurPosi = data[['sex','covid19_positive']]\n",
        "insurPosi.head()"
      ],
      "execution_count": null,
      "outputs": [
        {
          "output_type": "execute_result",
          "data": {
            "text/html": [
              "<div>\n",
              "<style scoped>\n",
              "    .dataframe tbody tr th:only-of-type {\n",
              "        vertical-align: middle;\n",
              "    }\n",
              "\n",
              "    .dataframe tbody tr th {\n",
              "        vertical-align: top;\n",
              "    }\n",
              "\n",
              "    .dataframe thead th {\n",
              "        text-align: right;\n",
              "    }\n",
              "</style>\n",
              "<table border=\"1\" class=\"dataframe\">\n",
              "  <thead>\n",
              "    <tr style=\"text-align: right;\">\n",
              "      <th></th>\n",
              "      <th>sex</th>\n",
              "      <th>covid19_positive</th>\n",
              "    </tr>\n",
              "    <tr>\n",
              "      <th>ID</th>\n",
              "      <th></th>\n",
              "      <th></th>\n",
              "    </tr>\n",
              "  </thead>\n",
              "  <tbody>\n",
              "    <tr>\n",
              "      <th>1</th>\n",
              "      <td>male</td>\n",
              "      <td>0</td>\n",
              "    </tr>\n",
              "    <tr>\n",
              "      <th>2</th>\n",
              "      <td>female</td>\n",
              "      <td>0</td>\n",
              "    </tr>\n",
              "    <tr>\n",
              "      <th>3</th>\n",
              "      <td>male</td>\n",
              "      <td>0</td>\n",
              "    </tr>\n",
              "    <tr>\n",
              "      <th>4</th>\n",
              "      <td>male</td>\n",
              "      <td>0</td>\n",
              "    </tr>\n",
              "    <tr>\n",
              "      <th>5</th>\n",
              "      <td>male</td>\n",
              "      <td>0</td>\n",
              "    </tr>\n",
              "  </tbody>\n",
              "</table>\n",
              "</div>"
            ],
            "text/plain": [
              "       sex  covid19_positive\n",
              "ID                          \n",
              "1     male                 0\n",
              "2   female                 0\n",
              "3     male                 0\n",
              "4     male                 0\n",
              "5     male                 0"
            ]
          },
          "metadata": {
            "tags": []
          },
          "execution_count": 85
        }
      ]
    },
    {
      "cell_type": "code",
      "metadata": {
        "id": "GqKPIAeH90gY",
        "outputId": "d703f701-350f-4513-9277-80cd660d8eb5",
        "colab": {
          "base_uri": "https://localhost:8080/",
          "height": 69
        }
      },
      "source": [
        "insurPosi.isnull().sum()"
      ],
      "execution_count": null,
      "outputs": [
        {
          "output_type": "execute_result",
          "data": {
            "text/plain": [
              "sex                 0\n",
              "covid19_positive    0\n",
              "dtype: int64"
            ]
          },
          "metadata": {
            "tags": []
          },
          "execution_count": 86
        }
      ]
    },
    {
      "cell_type": "code",
      "metadata": {
        "id": "dxty1ioT90g0",
        "outputId": "4457caff-f16e-4837-d1d0-b431509d62c3",
        "colab": {
          "base_uri": "https://localhost:8080/",
          "height": 112
        }
      },
      "source": [
        "cmn,cpm,cfn,cfp =0,0,0,0\n",
        "for i in range(len(insurPosi['sex'])):\n",
        "  if (insurPosi[i:i+1]['sex'].str.contains(\"female\")).bool() & ((insurPosi[i:i+1]['covid19_positive'] == 0).bool()):\n",
        "    cfn+=1\n",
        "  elif (insurPosi[i:i+1]['sex'].str.contains(\"female\")).bool() & ((insurPosi[i:i+1]['covid19_positive'] == 1).bool()):\n",
        "    cfp+=1\n",
        "  elif (insurPosi[i:i+1]['sex'].str.contains(\"male\")).bool() & ((insurPosi[i:i+1]['covid19_positive'] == 0).bool()):\n",
        "    cmn+=1\n",
        "  elif (insurPosi[i:i+1]['sex'].str.contains(\"male\")).bool() & ((insurPosi[i:i+1]['covid19_positive'] == 1).bool()):\n",
        "    cpm+=1\n",
        "  \n",
        "insurMatrix = pd.DataFrame(\n",
        "    [\n",
        "        [cmn,cpm],\n",
        "        [cfn,cfp]\n",
        "    ],\n",
        "    index=[\"Male\",\"Female\"],\n",
        "    columns=[\"Covid19_Negative\",\"Covid19_Positive\"])\n",
        "insurMatrix"
      ],
      "execution_count": null,
      "outputs": [
        {
          "output_type": "execute_result",
          "data": {
            "text/html": [
              "<div>\n",
              "<style scoped>\n",
              "    .dataframe tbody tr th:only-of-type {\n",
              "        vertical-align: middle;\n",
              "    }\n",
              "\n",
              "    .dataframe tbody tr th {\n",
              "        vertical-align: top;\n",
              "    }\n",
              "\n",
              "    .dataframe thead th {\n",
              "        text-align: right;\n",
              "    }\n",
              "</style>\n",
              "<table border=\"1\" class=\"dataframe\">\n",
              "  <thead>\n",
              "    <tr style=\"text-align: right;\">\n",
              "      <th></th>\n",
              "      <th>Covid19_Negative</th>\n",
              "      <th>Covid19_Positive</th>\n",
              "    </tr>\n",
              "  </thead>\n",
              "  <tbody>\n",
              "    <tr>\n",
              "      <th>Male</th>\n",
              "      <td>321238</td>\n",
              "      <td>1758</td>\n",
              "    </tr>\n",
              "    <tr>\n",
              "      <th>Female</th>\n",
              "      <td>585017</td>\n",
              "      <td>1587</td>\n",
              "    </tr>\n",
              "  </tbody>\n",
              "</table>\n",
              "</div>"
            ],
            "text/plain": [
              "        Covid19_Negative  Covid19_Positive\n",
              "Male              321238              1758\n",
              "Female            585017              1587"
            ]
          },
          "metadata": {
            "tags": []
          },
          "execution_count": 87
        }
      ]
    },
    {
      "cell_type": "code",
      "metadata": {
        "id": "MyAwgaqM90hE",
        "outputId": "6499f214-a8c5-4a66-a278-86f6abf8afe7",
        "colab": {
          "base_uri": "https://localhost:8080/",
          "height": 104
        }
      },
      "source": [
        "chi2_contingency(insurMatrix)"
      ],
      "execution_count": null,
      "outputs": [
        {
          "output_type": "execute_result",
          "data": {
            "text/plain": [
              "(425.262613661738,\n",
              " 1.7457936909893287e-94,\n",
              " 1,\n",
              " array([[321808.20138522,   1187.79861478],\n",
              "        [584446.79861478,   2157.20138522]]))"
            ]
          },
          "metadata": {
            "tags": []
          },
          "execution_count": 88
        }
      ]
    },
    {
      "cell_type": "code",
      "metadata": {
        "id": "QJ6ZUKHG90hT",
        "outputId": "f73ceae2-8087-40e9-9a2d-73d92763ccf4",
        "colab": {
          "base_uri": "https://localhost:8080/",
          "height": 112
        }
      },
      "source": [
        "df=chi2_contingency(insurMatrix)[3]\n",
        "pd.DataFrame(\n",
        "    data=df[:,:], \n",
        "    index=[\"Male\",\"Female\"],\n",
        "    columns=[\"Covid19_Negative\",\"Covid19_Positive\"]\n",
        ").round(2)"
      ],
      "execution_count": null,
      "outputs": [
        {
          "output_type": "execute_result",
          "data": {
            "text/html": [
              "<div>\n",
              "<style scoped>\n",
              "    .dataframe tbody tr th:only-of-type {\n",
              "        vertical-align: middle;\n",
              "    }\n",
              "\n",
              "    .dataframe tbody tr th {\n",
              "        vertical-align: top;\n",
              "    }\n",
              "\n",
              "    .dataframe thead th {\n",
              "        text-align: right;\n",
              "    }\n",
              "</style>\n",
              "<table border=\"1\" class=\"dataframe\">\n",
              "  <thead>\n",
              "    <tr style=\"text-align: right;\">\n",
              "      <th></th>\n",
              "      <th>Covid19_Negative</th>\n",
              "      <th>Covid19_Positive</th>\n",
              "    </tr>\n",
              "  </thead>\n",
              "  <tbody>\n",
              "    <tr>\n",
              "      <th>Male</th>\n",
              "      <td>321808.2</td>\n",
              "      <td>1187.8</td>\n",
              "    </tr>\n",
              "    <tr>\n",
              "      <th>Female</th>\n",
              "      <td>584446.8</td>\n",
              "      <td>2157.2</td>\n",
              "    </tr>\n",
              "  </tbody>\n",
              "</table>\n",
              "</div>"
            ],
            "text/plain": [
              "        Covid19_Negative  Covid19_Positive\n",
              "Male            321808.2            1187.8\n",
              "Female          584446.8            2157.2"
            ]
          },
          "metadata": {
            "tags": []
          },
          "execution_count": 89
        }
      ]
    },
    {
      "cell_type": "code",
      "metadata": {
        "id": "HgG7afOY90hj",
        "outputId": "2fa2d2b5-862c-4b49-ecaf-18f26803bedd",
        "colab": {
          "base_uri": "https://localhost:8080/",
          "height": 34
        }
      },
      "source": [
        "chisquare=chi2_contingency(insurMatrix)[0]\n",
        "chisquare"
      ],
      "execution_count": null,
      "outputs": [
        {
          "output_type": "execute_result",
          "data": {
            "text/plain": [
              "425.262613661738"
            ]
          },
          "metadata": {
            "tags": []
          },
          "execution_count": 90
        }
      ]
    },
    {
      "cell_type": "code",
      "metadata": {
        "id": "LveT6EnL90hw",
        "outputId": "287b9c08-307c-464b-e05c-12e7e68a8d04",
        "colab": {
          "base_uri": "https://localhost:8080/",
          "height": 34
        }
      },
      "source": [
        "p_value = chi2_contingency(insurMatrix)[1]\n",
        "p_value"
      ],
      "execution_count": null,
      "outputs": [
        {
          "output_type": "execute_result",
          "data": {
            "text/plain": [
              "1.7457936909893287e-94"
            ]
          },
          "metadata": {
            "tags": []
          },
          "execution_count": 91
        }
      ]
    },
    {
      "cell_type": "code",
      "metadata": {
        "id": "nfu-UcY190h8",
        "outputId": "6cab01ad-9493-48ed-9abf-d46927da21d2",
        "colab": {
          "base_uri": "https://localhost:8080/",
          "height": 34
        }
      },
      "source": [
        "def cramers_stat(confusion_matrix):\n",
        "    chi2 = chi2_contingency(confusion_matrix)[0]\n",
        "    n = confusion_matrix.sum().sum()\n",
        "    return np.sqrt(chi2 / (n*(min(confusion_matrix.shape)-1)))\n",
        "insurCramers_v = cramers_stat(insurMatrix)\n",
        "insurCramers_v"
      ],
      "execution_count": null,
      "outputs": [
        {
          "output_type": "execute_result",
          "data": {
            "text/plain": [
              "0.02162237405731346"
            ]
          },
          "metadata": {
            "tags": []
          },
          "execution_count": 92
        }
      ]
    },
    {
      "cell_type": "code",
      "metadata": {
        "id": "2qlVS3xj90iF",
        "outputId": "edf734b3-fb5a-4bfa-b32a-b822082a51a5",
        "colab": {
          "base_uri": "https://localhost:8080/",
          "height": 104
        }
      },
      "source": [
        "from scipy.stats import chi2\n",
        "chi, pval, dof, exp = chi2_contingency(insurMatrix)\n",
        "print('p-value is: ', pval)\n",
        "significance = 0.01\n",
        "p = 1 - significance\n",
        "critical_value = chi2.ppf(p, dof)\n",
        "print('chi=%.6f, critical value=%.6f\\n' % (chi, critical_value))\n",
        "if chi > critical_value:\n",
        "    print(\"\"\"At %.2f level of significance, we reject the null hypotheses and accept H1. \n",
        "They are not independent.\"\"\" % (significance))\n",
        "else:\n",
        "    print(\"\"\"At %.2f level of significance, we accept the null hypotheses. \n",
        "They are independent.\"\"\" % (significance))"
      ],
      "execution_count": null,
      "outputs": [
        {
          "output_type": "stream",
          "text": [
            "p-value is:  1.7457936909893287e-94\n",
            "chi=425.262614, critical value=6.634897\n",
            "\n",
            "At 0.01 level of significance, we reject the null hypotheses and accept H1. \n",
            "They are not independent.\n"
          ],
          "name": "stdout"
        }
      ]
    },
    {
      "cell_type": "code",
      "metadata": {
        "id": "-4IqpbaE6TOa",
        "outputId": "8deb214c-2239-42f1-bf70-b09e6a5664b6",
        "colab": {
          "base_uri": "https://localhost:8080/",
          "height": 296
        }
      },
      "source": [
        "sns.barplot(y='covid19_positive', x ='sex',data=bmi_mortality)"
      ],
      "execution_count": null,
      "outputs": [
        {
          "output_type": "execute_result",
          "data": {
            "text/plain": [
              "<matplotlib.axes._subplots.AxesSubplot at 0x7f4018d6fd68>"
            ]
          },
          "metadata": {
            "tags": []
          },
          "execution_count": 94
        },
        {
          "output_type": "display_data",
          "data": {
            "image/png": "[encoded data removed]",
            "text/plain": [
              "<Figure size 432x288 with 1 Axes>"
            ]
          },
          "metadata": {
            "tags": [],
            "needs_background": "light"
          }
        }
      ]
    },
    {
      "cell_type": "markdown",
      "metadata": {
        "id": "Jki7cVCkO2yb"
      },
      "source": [
        "### Sex vs Covid risk/mortality\n",
        "\n",
        "*   H0 = Sex and Risk mortality are independent\n",
        "*   H1 = They are related in some way"
      ]
    },
    {
      "cell_type": "code",
      "metadata": {
        "id": "oa5SrwRTXIvL",
        "outputId": "14dd60ec-8191-4328-cf0a-5e6c104887d2",
        "colab": {
          "base_uri": "https://localhost:8080/"
        }
      },
      "source": [
        "sns.barplot(x='sex', y='risk_mortality', data=bmi_mortality)"
      ],
      "execution_count": null,
      "outputs": [
        {
          "output_type": "execute_result",
          "data": {
            "text/plain": [
              "<matplotlib.axes._subplots.AxesSubplot at 0x7f4018e47208>"
            ]
          },
          "metadata": {
            "tags": []
          },
          "execution_count": 113
        },
        {
          "output_type": "display_data",
          "data": {
            "image/png": "[encoded data removed]",
            "text/plain": [
              "<Figure size 432x288 with 1 Axes>"
            ]
          },
          "metadata": {
            "tags": [],
            "needs_background": "light"
          }
        }
      ]
    },
    {
      "cell_type": "code",
      "metadata": {
        "id": "svUFCAi5NJhY",
        "outputId": "96038a5c-fa71-4231-b97b-f89dac8981e5",
        "colab": {
          "base_uri": "https://localhost:8080/"
        }
      },
      "source": [
        "sns.barplot(x='sex', y='risk_infection', data=bmi_mortality)"
      ],
      "execution_count": null,
      "outputs": [
        {
          "output_type": "execute_result",
          "data": {
            "text/plain": [
              "<matplotlib.axes._subplots.AxesSubplot at 0x7f4018e07470>"
            ]
          },
          "metadata": {
            "tags": []
          },
          "execution_count": 114
        },
        {
          "output_type": "display_data",
          "data": {
            "image/png": "[encoded data removed]",
            "text/plain": [
              "<Figure size 432x288 with 1 Axes>"
            ]
          },
          "metadata": {
            "tags": [],
            "needs_background": "light"
          }
        }
      ]
    },
    {
      "cell_type": "code",
      "metadata": {
        "id": "NFvw4IbQSzYM",
        "outputId": "88a281eb-6ff6-4b9d-d02c-69dfc7c00ebc",
        "colab": {
          "base_uri": "https://localhost:8080/"
        }
      },
      "source": [
        "sns.countplot(x='sex',data=data)"
      ],
      "execution_count": null,
      "outputs": [
        {
          "output_type": "execute_result",
          "data": {
            "text/plain": [
              "<matplotlib.axes._subplots.AxesSubplot at 0x7f4018afc358>"
            ]
          },
          "metadata": {
            "tags": []
          },
          "execution_count": 115
        },
        {
          "output_type": "display_data",
          "data": {
            "image/png": "[encoded data removed]",
            "text/plain": [
              "<Figure size 432x288 with 1 Axes>"
            ]
          },
          "metadata": {
            "tags": [],
            "needs_background": "light"
          }
        }
      ]
    },
    {
      "cell_type": "code",
      "metadata": {
        "id": "8Okyh4tkSrv8",
        "outputId": "276e534c-98db-4058-bfef-65d13876aaae",
        "colab": {
          "base_uri": "https://localhost:8080/"
        }
      },
      "source": [
        "sns.catplot(x=\"sex\", y=\"risk_mortality\", data=bmi_mortality)"
      ],
      "execution_count": null,
      "outputs": [
        {
          "output_type": "execute_result",
          "data": {
            "text/plain": [
              "<seaborn.axisgrid.FacetGrid at 0x7f4018af07b8>"
            ]
          },
          "metadata": {
            "tags": []
          },
          "execution_count": 116
        },
        {
          "output_type": "display_data",
          "data": {
            "image/png": "[encoded data removed]",
            "text/plain": [
              "<Figure size 360x360 with 1 Axes>"
            ]
          },
          "metadata": {
            "tags": [],
            "needs_background": "light"
          }
        }
      ]
    },
    {
      "cell_type": "code",
      "metadata": {
        "id": "wCDL_S2eR2l-",
        "outputId": "8396b22b-e524-4cf0-ba21-a50c5e10da7e",
        "colab": {
          "base_uri": "https://localhost:8080/"
        }
      },
      "source": [
        "sns.catplot(x=\"sex\", y=\"risk_infection\", data=bmi_mortality)"
      ],
      "execution_count": null,
      "outputs": [
        {
          "output_type": "execute_result",
          "data": {
            "text/plain": [
              "<seaborn.axisgrid.FacetGrid at 0x7f4018817518>"
            ]
          },
          "metadata": {
            "tags": []
          },
          "execution_count": 117
        },
        {
          "output_type": "display_data",
          "data": {
            "image/png": "[encoded data removed]",
            "text/plain": [
              "<Figure size 360x360 with 1 Axes>"
            ]
          },
          "metadata": {
            "tags": [],
            "needs_background": "light"
          }
        }
      ]
    },
    {
      "cell_type": "code",
      "metadata": {
        "id": "fNa-Kp-ml-os",
        "outputId": "6105aec7-3025-4507-f720-f155b64f23d2",
        "colab": {
          "base_uri": "https://localhost:8080/"
        }
      },
      "source": [
        "stats.f_oneway(bmi_mortality['risk_infection'][bmi_mortality['sex'] == 'male'],\n",
        "               bmi_mortality['risk_infection'][bmi_mortality['sex'] == 'female'],\n",
        "               bmi_mortality['risk_infection'][bmi_mortality['sex'] == 'other'])"
      ],
      "execution_count": null,
      "outputs": [
        {
          "output_type": "execute_result",
          "data": {
            "text/plain": [
              "F_onewayResult(statistic=314.31011948544915, pvalue=3.4981118559002447e-137)"
            ]
          },
          "metadata": {
            "tags": []
          },
          "execution_count": 118
        }
      ]
    },
    {
      "cell_type": "code",
      "metadata": {
        "id": "XVusIEg0Xdmh",
        "outputId": "50f8fc11-bd22-4fe7-f3fc-7f71006baf22",
        "colab": {
          "base_uri": "https://localhost:8080/"
        }
      },
      "source": [
        "stats.f_oneway(bmi_mortality['risk_mortality'][bmi_mortality['sex'] == 'male'],\n",
        "               bmi_mortality['risk_mortality'][bmi_mortality['sex'] == 'female'],\n",
        "               bmi_mortality['risk_mortality'][bmi_mortality['sex'] == 'other'])"
      ],
      "execution_count": null,
      "outputs": [
        {
          "output_type": "execute_result",
          "data": {
            "text/plain": [
              "F_onewayResult(statistic=10104.56778742565, pvalue=0.0)"
            ]
          },
          "metadata": {
            "tags": []
          },
          "execution_count": 119
        }
      ]
    },
    {
      "cell_type": "markdown",
      "metadata": {
        "id": "302PDamdXExU"
      },
      "source": [
        "**Insight:** Risk Mortality and Sex has very low p-value<'0.01', so we reject null hypothesis that they are independent.\n",
        "\n",
        "Risk Mortality and Sex has very low p-value<'0.01', so we reject null hypothesis that they are independent."
      ]
    },
    {
      "cell_type": "markdown",
      "metadata": {
        "id": "JBCq7EYHbUbe"
      },
      "source": [
        "### Contacts count Vs Covid-19\n",
        "\n",
        "\n",
        "*   H0 = Contacts count and Covid-19 are independent\n",
        "*   H1 = They are related in some way\n",
        "\n"
      ]
    },
    {
      "cell_type": "code",
      "metadata": {
        "id": "7F_tvOjfzoY0",
        "outputId": "281d2e03-6230-41d3-d17c-b1fdb8d991c0",
        "colab": {
          "base_uri": "https://localhost:8080/"
        }
      },
      "source": [
        "sns.distplot(data['contacts_count'],bins=10)"
      ],
      "execution_count": null,
      "outputs": [
        {
          "output_type": "stream",
          "text": [
            "/usr/local/lib/python3.6/dist-packages/seaborn/distributions.py:2551: FutureWarning: `distplot` is a deprecated function and will be removed in a future version. Please adapt your code to use either `displot` (a figure-level function with similar flexibility) or `histplot` (an axes-level function for histograms).\n",
            "  warnings.warn(msg, FutureWarning)\n"
          ],
          "name": "stderr"
        },
        {
          "output_type": "execute_result",
          "data": {
            "text/plain": [
              "<matplotlib.axes._subplots.AxesSubplot at 0x7f4018aa2a90>"
            ]
          },
          "metadata": {
            "tags": []
          },
          "execution_count": 120
        },
        {
          "output_type": "display_data",
          "data": {
            "image/png": "[encoded data removed]",
            "text/plain": [
              "<Figure size 432x288 with 1 Axes>"
            ]
          },
          "metadata": {
            "tags": [],
            "needs_background": "light"
          }
        }
      ]
    },
    {
      "cell_type": "code",
      "metadata": {
        "id": "KLv0PaC20OVP",
        "outputId": "76a0785b-b5bd-46ee-c747-b521a6d20ce2",
        "colab": {
          "base_uri": "https://localhost:8080/"
        }
      },
      "source": [
        "sns.catplot(x='contacts_count',kind='box',data=data)"
      ],
      "execution_count": null,
      "outputs": [
        {
          "output_type": "execute_result",
          "data": {
            "text/plain": [
              "<seaborn.axisgrid.FacetGrid at 0x7f4014780160>"
            ]
          },
          "metadata": {
            "tags": []
          },
          "execution_count": 121
        },
        {
          "output_type": "display_data",
          "data": {
            "image/png": "[encoded data removed]",
            "text/plain": [
              "<Figure size 360x360 with 1 Axes>"
            ]
          },
          "metadata": {
            "tags": [],
            "needs_background": "light"
          }
        }
      ]
    },
    {
      "cell_type": "code",
      "metadata": {
        "id": "Mubw7sYhFIMk",
        "outputId": "ea7f13c3-59d0-408e-8180-e677f9a100f3",
        "colab": {
          "base_uri": "https://localhost:8080/"
        }
      },
      "source": [
        "df = data[[\"contacts_count\",\"covid19_positive\"]]\n",
        "df=df.dropna()\n",
        "sns.boxplot(x ='covid19_positive', y ='contacts_count', data = df) "
      ],
      "execution_count": null,
      "outputs": [
        {
          "output_type": "execute_result",
          "data": {
            "text/plain": [
              "<matplotlib.axes._subplots.AxesSubplot at 0x7f401872e748>"
            ]
          },
          "metadata": {
            "tags": []
          },
          "execution_count": 122
        },
        {
          "output_type": "display_data",
          "data": {
            "image/png": "[encoded data removed]",
            "text/plain": [
              "<Figure size 432x288 with 1 Axes>"
            ]
          },
          "metadata": {
            "tags": [],
            "needs_background": "light"
          }
        }
      ]
    },
    {
      "cell_type": "code",
      "metadata": {
        "id": "J4_tek93bmIu",
        "outputId": "b50bd280-075d-4787-d5e7-d4684a31f0bb",
        "colab": {
          "base_uri": "https://localhost:8080/"
        }
      },
      "source": [
        "confusion_matrix = pd.crosstab(df['covid19_positive'], df['contacts_count'])\n",
        "confusion_matrix"
      ],
      "execution_count": null,
      "outputs": [
        {
          "output_type": "execute_result",
          "data": {
            "text/html": [
              "<div>\n",
              "<style scoped>\n",
              "    .dataframe tbody tr th:only-of-type {\n",
              "        vertical-align: middle;\n",
              "    }\n",
              "\n",
              "    .dataframe tbody tr th {\n",
              "        vertical-align: top;\n",
              "    }\n",
              "\n",
              "    .dataframe thead th {\n",
              "        text-align: right;\n",
              "    }\n",
              "</style>\n",
              "<table border=\"1\" class=\"dataframe\">\n",
              "  <thead>\n",
              "    <tr style=\"text-align: right;\">\n",
              "      <th>contacts_count</th>\n",
              "      <th>0.0</th>\n",
              "      <th>1.0</th>\n",
              "      <th>2.0</th>\n",
              "      <th>3.0</th>\n",
              "      <th>4.0</th>\n",
              "      <th>5.0</th>\n",
              "      <th>6.0</th>\n",
              "      <th>7.0</th>\n",
              "      <th>8.0</th>\n",
              "      <th>9.0</th>\n",
              "      <th>10.0</th>\n",
              "      <th>11.0</th>\n",
              "      <th>12.0</th>\n",
              "      <th>13.0</th>\n",
              "      <th>14.0</th>\n",
              "      <th>15.0</th>\n",
              "      <th>16.0</th>\n",
              "      <th>17.0</th>\n",
              "      <th>18.0</th>\n",
              "      <th>19.0</th>\n",
              "      <th>20.0</th>\n",
              "      <th>21.0</th>\n",
              "    </tr>\n",
              "    <tr>\n",
              "      <th>covid19_positive</th>\n",
              "      <th></th>\n",
              "      <th></th>\n",
              "      <th></th>\n",
              "      <th></th>\n",
              "      <th></th>\n",
              "      <th></th>\n",
              "      <th></th>\n",
              "      <th></th>\n",
              "      <th></th>\n",
              "      <th></th>\n",
              "      <th></th>\n",
              "      <th></th>\n",
              "      <th></th>\n",
              "      <th></th>\n",
              "      <th></th>\n",
              "      <th></th>\n",
              "      <th></th>\n",
              "      <th></th>\n",
              "      <th></th>\n",
              "      <th></th>\n",
              "      <th></th>\n",
              "      <th></th>\n",
              "    </tr>\n",
              "  </thead>\n",
              "  <tbody>\n",
              "    <tr>\n",
              "      <th>0</th>\n",
              "      <td>33114</td>\n",
              "      <td>94550</td>\n",
              "      <td>89937</td>\n",
              "      <td>108674</td>\n",
              "      <td>95232</td>\n",
              "      <td>86631</td>\n",
              "      <td>57054</td>\n",
              "      <td>30747</td>\n",
              "      <td>32553</td>\n",
              "      <td>11100</td>\n",
              "      <td>73625</td>\n",
              "      <td>4676</td>\n",
              "      <td>14439</td>\n",
              "      <td>3212</td>\n",
              "      <td>4314</td>\n",
              "      <td>23596</td>\n",
              "      <td>2208</td>\n",
              "      <td>1287</td>\n",
              "      <td>1652</td>\n",
              "      <td>1500</td>\n",
              "      <td>21303</td>\n",
              "      <td>113809</td>\n",
              "    </tr>\n",
              "    <tr>\n",
              "      <th>1</th>\n",
              "      <td>133</td>\n",
              "      <td>261</td>\n",
              "      <td>271</td>\n",
              "      <td>300</td>\n",
              "      <td>325</td>\n",
              "      <td>343</td>\n",
              "      <td>184</td>\n",
              "      <td>85</td>\n",
              "      <td>123</td>\n",
              "      <td>50</td>\n",
              "      <td>313</td>\n",
              "      <td>14</td>\n",
              "      <td>57</td>\n",
              "      <td>19</td>\n",
              "      <td>18</td>\n",
              "      <td>91</td>\n",
              "      <td>18</td>\n",
              "      <td>1</td>\n",
              "      <td>9</td>\n",
              "      <td>20</td>\n",
              "      <td>193</td>\n",
              "      <td>480</td>\n",
              "    </tr>\n",
              "  </tbody>\n",
              "</table>\n",
              "</div>"
            ],
            "text/plain": [
              "contacts_count     0.0    1.0    2.0     3.0   ...  18.0  19.0   20.0    21.0\n",
              "covid19_positive                               ...                           \n",
              "0                 33114  94550  89937  108674  ...  1652  1500  21303  113809\n",
              "1                   133    261    271     300  ...     9    20    193     480\n",
              "\n",
              "[2 rows x 22 columns]"
            ]
          },
          "metadata": {
            "tags": []
          },
          "execution_count": 123
        }
      ]
    },
    {
      "cell_type": "code",
      "metadata": {
        "id": "4_1GinP2b-P1",
        "outputId": "c7c92a48-b002-44b6-d6ed-48ddea2dd25a",
        "colab": {
          "base_uri": "https://localhost:8080/"
        }
      },
      "source": [
        "from scipy.stats import chi2\n",
        "chi, pval, dof, exp = chi2_contingency(confusion_matrix)\n",
        "print('p-value is: ', pval)\n",
        "significance = 0.01\n",
        "p = 1 - significance\n",
        "critical_value = chi2.ppf(p, dof)\n",
        "print('chi=%.6f, critical value=%.6f\\n' % (chi, critical_value))\n",
        "if chi > critical_value:\n",
        "    print(\"\"\"At %.2f level of significance, we reject the null hypotheses and accept H1. \n",
        "They are not independent.\"\"\" % (significance))\n",
        "else:\n",
        "    print(\"\"\"At %.2f level of significance, we accept the null hypotheses. \n",
        "They are independent.\"\"\" % (significance))"
      ],
      "execution_count": null,
      "outputs": [
        {
          "output_type": "stream",
          "text": [
            "p-value is:  9.537846249159013e-55\n",
            "chi=317.281434, critical value=38.932173\n",
            "\n",
            "At 0.01 level of significance, we reject the null hypotheses and accept H1. \n",
            "They are not independent.\n"
          ],
          "name": "stdout"
        }
      ]
    },
    {
      "cell_type": "code",
      "metadata": {
        "id": "2w0n16UhcJd7",
        "outputId": "b85ca532-0240-418a-832b-6842fdefb2d1",
        "colab": {
          "base_uri": "https://localhost:8080/"
        }
      },
      "source": [
        "def cramers_stat(confusion_matrix):\n",
        "    chi2 = chi2_contingency(confusion_matrix)[0]\n",
        "    n = confusion_matrix.sum().sum()\n",
        "    return np.sqrt(chi2 / (n*(min(confusion_matrix.shape)-1)))\n",
        "insurCramers_v = cramers_stat(confusion_matrix)\n",
        "print(\"Cramér's V is a number between 0 and 1 that indicates how strongly two categorical variables are associated. It is based on Pearson's chi-squared statistic\")\n",
        "insurCramers_v"
      ],
      "execution_count": null,
      "outputs": [
        {
          "output_type": "stream",
          "text": [
            "Cramér's V is a number between 0 and 1 that indicates how strongly two categorical variables are associated. It is based on Pearson's chi-squared statistic\n"
          ],
          "name": "stdout"
        },
        {
          "output_type": "execute_result",
          "data": {
            "text/plain": [
              "0.01868765658265211"
            ]
          },
          "metadata": {
            "tags": []
          },
          "execution_count": 125
        }
      ]
    },
    {
      "cell_type": "markdown",
      "metadata": {
        "id": "mteYF9S0Na5V"
      },
      "source": [
        "### Age Vs Covid-19\n",
        "\n",
        "\n",
        "*   H0 = Age and Covid-19 are independent\n",
        "*   H1 = They are related in some way\n",
        "\n"
      ]
    },
    {
      "cell_type": "code",
      "metadata": {
        "id": "mjTtJuKjNa5b",
        "outputId": "2577e1b9-fd13-4c85-aef7-f63dd2a27c91",
        "colab": {
          "base_uri": "https://localhost:8080/"
        }
      },
      "source": [
        "df = data[[\"covid19_positive\",\"age\"]]\n",
        "df=df.dropna()\n",
        "df = df.sort_values('age')\n",
        "plt.figure(figsize=(16, 6))\n",
        "sns.countplot(x='age',data=df)"
      ],
      "execution_count": null,
      "outputs": [
        {
          "output_type": "execute_result",
          "data": {
            "text/plain": [
              "<matplotlib.axes._subplots.AxesSubplot at 0x7f40189a79b0>"
            ]
          },
          "metadata": {
            "tags": []
          },
          "execution_count": 126
        },
        {
          "output_type": "display_data",
          "data": {
            "image/png": "[encoded data removed]",
            "text/plain": [
              "<Figure size 1152x432 with 1 Axes>"
            ]
          },
          "metadata": {
            "tags": [],
            "needs_background": "light"
          }
        }
      ]
    },
    {
      "cell_type": "code",
      "metadata": {
        "id": "FSblVPgsNa5v",
        "outputId": "274f6a95-0c0d-4b04-dd3b-e9c0f9ceab26",
        "colab": {
          "base_uri": "https://localhost:8080/"
        }
      },
      "source": [
        "plt.figure(figsize=(16, 6))\n",
        "sns.barplot(x ='age', y ='covid19_positive', data = df)"
      ],
      "execution_count": null,
      "outputs": [
        {
          "output_type": "execute_result",
          "data": {
            "text/plain": [
              "<matplotlib.axes._subplots.AxesSubplot at 0x7f40186d5470>"
            ]
          },
          "metadata": {
            "tags": []
          },
          "execution_count": 127
        },
        {
          "output_type": "display_data",
          "data": {
            "image/png": "[encoded data removed]",
            "text/plain": [
              "<Figure size 1152x432 with 1 Axes>"
            ]
          },
          "metadata": {
            "tags": [],
            "needs_background": "light"
          }
        }
      ]
    },
    {
      "cell_type": "code",
      "metadata": {
        "id": "7VeWtcz4Na58",
        "outputId": "d023d712-5954-4051-e6bd-e08f0b248a00",
        "colab": {
          "base_uri": "https://localhost:8080/"
        }
      },
      "source": [
        "confusion_matrix = pd.crosstab(df['covid19_positive'], df['age'])\n",
        "confusion_matrix"
      ],
      "execution_count": null,
      "outputs": [
        {
          "output_type": "execute_result",
          "data": {
            "text/html": [
              "<div>\n",
              "<style scoped>\n",
              "    .dataframe tbody tr th:only-of-type {\n",
              "        vertical-align: middle;\n",
              "    }\n",
              "\n",
              "    .dataframe tbody tr th {\n",
              "        vertical-align: top;\n",
              "    }\n",
              "\n",
              "    .dataframe thead th {\n",
              "        text-align: right;\n",
              "    }\n",
              "</style>\n",
              "<table border=\"1\" class=\"dataframe\">\n",
              "  <thead>\n",
              "    <tr style=\"text-align: right;\">\n",
              "      <th>age</th>\n",
              "      <th>0_10</th>\n",
              "      <th>100_110</th>\n",
              "      <th>10_20</th>\n",
              "      <th>20_30</th>\n",
              "      <th>30_40</th>\n",
              "      <th>40_50</th>\n",
              "      <th>50_60</th>\n",
              "      <th>60_70</th>\n",
              "      <th>70_80</th>\n",
              "      <th>80_90</th>\n",
              "      <th>90_100</th>\n",
              "    </tr>\n",
              "    <tr>\n",
              "      <th>covid19_positive</th>\n",
              "      <th></th>\n",
              "      <th></th>\n",
              "      <th></th>\n",
              "      <th></th>\n",
              "      <th></th>\n",
              "      <th></th>\n",
              "      <th></th>\n",
              "      <th></th>\n",
              "      <th></th>\n",
              "      <th></th>\n",
              "      <th></th>\n",
              "    </tr>\n",
              "  </thead>\n",
              "  <tbody>\n",
              "    <tr>\n",
              "      <th>0</th>\n",
              "      <td>5579</td>\n",
              "      <td>73</td>\n",
              "      <td>27561</td>\n",
              "      <td>200984</td>\n",
              "      <td>277466</td>\n",
              "      <td>193011</td>\n",
              "      <td>111512</td>\n",
              "      <td>65645</td>\n",
              "      <td>22327</td>\n",
              "      <td>4383</td>\n",
              "      <td>868</td>\n",
              "    </tr>\n",
              "    <tr>\n",
              "      <th>1</th>\n",
              "      <td>8</td>\n",
              "      <td>6</td>\n",
              "      <td>161</td>\n",
              "      <td>608</td>\n",
              "      <td>801</td>\n",
              "      <td>528</td>\n",
              "      <td>489</td>\n",
              "      <td>338</td>\n",
              "      <td>230</td>\n",
              "      <td>133</td>\n",
              "      <td>52</td>\n",
              "    </tr>\n",
              "  </tbody>\n",
              "</table>\n",
              "</div>"
            ],
            "text/plain": [
              "age               0_10  100_110  10_20   20_30  ...  60_70  70_80  80_90  90_100\n",
              "covid19_positive                                ...                             \n",
              "0                 5579       73  27561  200984  ...  65645  22327   4383     868\n",
              "1                    8        6    161     608  ...    338    230    133      52\n",
              "\n",
              "[2 rows x 11 columns]"
            ]
          },
          "metadata": {
            "tags": []
          },
          "execution_count": 128
        }
      ]
    },
    {
      "cell_type": "code",
      "metadata": {
        "id": "Zxd1PgvSNa6G",
        "outputId": "96547c3d-d0a9-48ba-dc3a-85c9eee9ae51",
        "colab": {
          "base_uri": "https://localhost:8080/"
        }
      },
      "source": [
        "from scipy.stats import chi2\n",
        "chi, pval, dof, exp = chi2_contingency(confusion_matrix)\n",
        "print('p-value is: ', pval)\n",
        "significance = 0.01\n",
        "p = 1 - significance\n",
        "critical_value = chi2.ppf(p, dof)\n",
        "print('chi=%.6f, critical value=%.6f\\n' % (chi, critical_value))\n",
        "if chi > critical_value:\n",
        "    print(\"\"\"At %.2f level of significance, we reject the null hypotheses and accept H1. \n",
        "They are not independent.\"\"\" % (significance))\n",
        "else:\n",
        "    print(\"\"\"At %.2f level of significance, we accept the null hypotheses. \n",
        "They are independent.\"\"\" % (significance))"
      ],
      "execution_count": null,
      "outputs": [
        {
          "output_type": "stream",
          "text": [
            "p-value is:  0.0\n",
            "chi=2110.120625, critical value=23.209251\n",
            "\n",
            "At 0.01 level of significance, we reject the null hypotheses and accept H1. \n",
            "They are not independent.\n"
          ],
          "name": "stdout"
        }
      ]
    },
    {
      "cell_type": "code",
      "metadata": {
        "id": "oIDmLCJtNa6X",
        "outputId": "f1954bef-c665-4a12-e60d-86cb0ac05ffb",
        "colab": {
          "base_uri": "https://localhost:8080/"
        }
      },
      "source": [
        "def cramers_stat(confusion_matrix):\n",
        "    chi2 = chi2_contingency(confusion_matrix)[0]\n",
        "    n = confusion_matrix.sum().sum()\n",
        "    return np.sqrt(chi2 / (n*(min(confusion_matrix.shape)-1)))\n",
        "insurCramers_v = cramers_stat(confusion_matrix)\n",
        "print(\"Cramér's V is a number between 0 and 1 that indicates how strongly two categorical variables are associated. It is based on Pearson's chi-squared statistic\")\n",
        "insurCramers_v"
      ],
      "execution_count": null,
      "outputs": [
        {
          "output_type": "stream",
          "text": [
            "Cramér's V is a number between 0 and 1 that indicates how strongly two categorical variables are associated. It is based on Pearson's chi-squared statistic\n"
          ],
          "name": "stdout"
        },
        {
          "output_type": "execute_result",
          "data": {
            "text/plain": [
              "0.04808112577083457"
            ]
          },
          "metadata": {
            "tags": []
          },
          "execution_count": 130
        }
      ]
    },
    {
      "cell_type": "markdown",
      "metadata": {
        "id": "5txGrR6ox_JD"
      },
      "source": [
        "### Blood type Vs Covid-19\n",
        "\n",
        "\n",
        "*   H0 = Blood type and Covid-19 are independent\n",
        "*   H1 = They are related in some way\n",
        "\n"
      ]
    },
    {
      "cell_type": "code",
      "metadata": {
        "id": "aBy3SA8-x_Jv",
        "outputId": "a2ab9581-7925-47df-c339-11f0268df721",
        "colab": {
          "base_uri": "https://localhost:8080/",
          "height": 297
        }
      },
      "source": [
        "df = data[[\"covid19_positive\",\"blood_type\"]]\n",
        "df=df.dropna()\n",
        "df = df[df[\"blood_type\"] != \"unknown\"]\n",
        "df = df[df[\"blood_type\"] != \"undefined\"]\n",
        "sns.countplot(x='blood_type',data=df)"
      ],
      "execution_count": null,
      "outputs": [
        {
          "output_type": "execute_result",
          "data": {
            "text/plain": [
              "<matplotlib.axes._subplots.AxesSubplot at 0x7f40187fdf28>"
            ]
          },
          "metadata": {
            "tags": []
          },
          "execution_count": 131
        },
        {
          "output_type": "display_data",
          "data": {
            "image/png": "[encoded data removed]",
            "text/plain": [
              "<Figure size 432x288 with 1 Axes>"
            ]
          },
          "metadata": {
            "tags": [],
            "needs_background": "light"
          }
        }
      ]
    },
    {
      "cell_type": "code",
      "metadata": {
        "id": "e7ysrt9jz7nM",
        "outputId": "78ff594f-b490-410d-be55-90eef9daee1b",
        "colab": {
          "base_uri": "https://localhost:8080/",
          "height": 297
        }
      },
      "source": [
        "sns.barplot(x ='blood_type', y ='covid19_positive', data = df)"
      ],
      "execution_count": null,
      "outputs": [
        {
          "output_type": "execute_result",
          "data": {
            "text/plain": [
              "<matplotlib.axes._subplots.AxesSubplot at 0x7f4018570160>"
            ]
          },
          "metadata": {
            "tags": []
          },
          "execution_count": 132
        },
        {
          "output_type": "display_data",
          "data": {
            "image/png": "[encoded data removed]",
            "text/plain": [
              "<Figure size 432x288 with 1 Axes>"
            ]
          },
          "metadata": {
            "tags": [],
            "needs_background": "light"
          }
        }
      ]
    },
    {
      "cell_type": "code",
      "metadata": {
        "id": "Dl7mAbaax_J7",
        "outputId": "ec68dad6-3547-437f-fb28-b442641a40cf",
        "colab": {
          "base_uri": "https://localhost:8080/",
          "height": 143
        }
      },
      "source": [
        "confusion_matrix = pd.crosstab(df['covid19_positive'], df['blood_type'])\n",
        "confusion_matrix"
      ],
      "execution_count": null,
      "outputs": [
        {
          "output_type": "execute_result",
          "data": {
            "text/html": [
              "<div>\n",
              "<style scoped>\n",
              "    .dataframe tbody tr th:only-of-type {\n",
              "        vertical-align: middle;\n",
              "    }\n",
              "\n",
              "    .dataframe tbody tr th {\n",
              "        vertical-align: top;\n",
              "    }\n",
              "\n",
              "    .dataframe thead th {\n",
              "        text-align: right;\n",
              "    }\n",
              "</style>\n",
              "<table border=\"1\" class=\"dataframe\">\n",
              "  <thead>\n",
              "    <tr style=\"text-align: right;\">\n",
              "      <th>blood_type</th>\n",
              "      <th>abn</th>\n",
              "      <th>abp</th>\n",
              "      <th>an</th>\n",
              "      <th>ap</th>\n",
              "      <th>bn</th>\n",
              "      <th>bp</th>\n",
              "      <th>on</th>\n",
              "      <th>op</th>\n",
              "    </tr>\n",
              "    <tr>\n",
              "      <th>covid19_positive</th>\n",
              "      <th></th>\n",
              "      <th></th>\n",
              "      <th></th>\n",
              "      <th></th>\n",
              "      <th></th>\n",
              "      <th></th>\n",
              "      <th></th>\n",
              "      <th></th>\n",
              "    </tr>\n",
              "  </thead>\n",
              "  <tbody>\n",
              "    <tr>\n",
              "      <th>0</th>\n",
              "      <td>8902</td>\n",
              "      <td>30361</td>\n",
              "      <td>44007</td>\n",
              "      <td>176100</td>\n",
              "      <td>14701</td>\n",
              "      <td>58523</td>\n",
              "      <td>77741</td>\n",
              "      <td>200859</td>\n",
              "    </tr>\n",
              "    <tr>\n",
              "      <th>1</th>\n",
              "      <td>15</td>\n",
              "      <td>113</td>\n",
              "      <td>123</td>\n",
              "      <td>680</td>\n",
              "      <td>34</td>\n",
              "      <td>226</td>\n",
              "      <td>247</td>\n",
              "      <td>717</td>\n",
              "    </tr>\n",
              "  </tbody>\n",
              "</table>\n",
              "</div>"
            ],
            "text/plain": [
              "blood_type         abn    abp     an      ap     bn     bp     on      op\n",
              "covid19_positive                                                         \n",
              "0                 8902  30361  44007  176100  14701  58523  77741  200859\n",
              "1                   15    113    123     680     34    226    247     717"
            ]
          },
          "metadata": {
            "tags": []
          },
          "execution_count": 133
        }
      ]
    },
    {
      "cell_type": "code",
      "metadata": {
        "id": "CLJ-Dagvx_KF",
        "outputId": "78dc3a2d-6043-4c86-86e4-66a326f4171f",
        "colab": {
          "base_uri": "https://localhost:8080/",
          "height": 104
        }
      },
      "source": [
        "from scipy.stats import chi2\n",
        "chi, pval, dof, exp = chi2_contingency(confusion_matrix)\n",
        "print('p-value is: ', pval)\n",
        "significance = 0.01\n",
        "p = 1 - significance\n",
        "critical_value = chi2.ppf(p, dof)\n",
        "print('chi=%.6f, critical value=%.6f\\n' % (chi, critical_value))\n",
        "if chi > critical_value:\n",
        "    print(\"\"\"At %.2f level of significance, we reject the null hypotheses and accept H1. \n",
        "They are not independent.\"\"\" % (significance))\n",
        "else:\n",
        "    print(\"\"\"At %.2f level of significance, we accept the null hypotheses. \n",
        "They are independent.\"\"\" % (significance))"
      ],
      "execution_count": null,
      "outputs": [
        {
          "output_type": "stream",
          "text": [
            "p-value is:  4.25816213574962e-05\n",
            "chi=31.889247, critical value=18.475307\n",
            "\n",
            "At 0.01 level of significance, we reject the null hypotheses and accept H1. \n",
            "They are not independent.\n"
          ],
          "name": "stdout"
        }
      ]
    },
    {
      "cell_type": "code",
      "metadata": {
        "id": "tMUznkB9x_KQ",
        "outputId": "79684167-1a65-43b9-864e-0f64f719756c",
        "colab": {
          "base_uri": "https://localhost:8080/",
          "height": 72
        }
      },
      "source": [
        "def cramers_stat(confusion_matrix):\n",
        "    chi2 = chi2_contingency(confusion_matrix)[0]\n",
        "    n = confusion_matrix.sum().sum()\n",
        "    return np.sqrt(chi2 / (n*(min(confusion_matrix.shape)-1)))\n",
        "insurCramers_v = cramers_stat(confusion_matrix)\n",
        "print(\"Cramér's V is a number between 0 and 1 that indicates how strongly two categorical variables are associated. It is based on Pearson's chi-squared statistic\")\n",
        "insurCramers_v"
      ],
      "execution_count": null,
      "outputs": [
        {
          "output_type": "stream",
          "text": [
            "Cramér's V is a number between 0 and 1 that indicates how strongly two categorical variables are associated. It is based on Pearson's chi-squared statistic\n"
          ],
          "name": "stdout"
        },
        {
          "output_type": "execute_result",
          "data": {
            "text/plain": [
              "0.007210548491075127"
            ]
          },
          "metadata": {
            "tags": []
          },
          "execution_count": 135
        }
      ]
    },
    {
      "cell_type": "markdown",
      "metadata": {
        "id": "bPjxEcFPao1t"
      },
      "source": [
        "### Working Vs Covid-19\n",
        "\n",
        "\n",
        "*   H0 = Working and Covid-19 are independent\n",
        "*   H1 = They are related in some way\n",
        "\n"
      ]
    },
    {
      "cell_type": "code",
      "metadata": {
        "id": "h9Cm8V-6RjzS",
        "outputId": "caf43800-4288-4592-aed2-726c649288e9",
        "colab": {
          "base_uri": "https://localhost:8080/",
          "height": 438
        }
      },
      "source": [
        "df = data[[\"working\",\"covid19_positive\"]]\n",
        "df=df.dropna()\n",
        "sns.factorplot(x =\"working\", y =\"covid19_positive\", data = df); "
      ],
      "execution_count": null,
      "outputs": [
        {
          "output_type": "stream",
          "text": [
            "/usr/local/lib/python3.6/dist-packages/seaborn/categorical.py:3704: UserWarning: The `factorplot` function has been renamed to `catplot`. The original name will be removed in a future release. Please update your code. Note that the default `kind` in `factorplot` (`'point'`) has changed `'strip'` in `catplot`.\n",
            "  warnings.warn(msg)\n"
          ],
          "name": "stderr"
        },
        {
          "output_type": "display_data",
          "data": {
            "image/png": "[encoded data removed]",
            "text/plain": [
              "<Figure size 360x360 with 1 Axes>"
            ]
          },
          "metadata": {
            "tags": [],
            "needs_background": "light"
          }
        }
      ]
    },
    {
      "cell_type": "code",
      "metadata": {
        "id": "JEB7Ch7EJj9g",
        "outputId": "420c7c28-a7da-413a-82f0-1af98f102b93",
        "colab": {
          "base_uri": "https://localhost:8080/",
          "height": 143
        }
      },
      "source": [
        "confusion_matrix = pd.crosstab(df['covid19_positive'], df['working'])\n",
        "confusion_matrix"
      ],
      "execution_count": null,
      "outputs": [
        {
          "output_type": "execute_result",
          "data": {
            "text/html": [
              "<div>\n",
              "<style scoped>\n",
              "    .dataframe tbody tr th:only-of-type {\n",
              "        vertical-align: middle;\n",
              "    }\n",
              "\n",
              "    .dataframe tbody tr th {\n",
              "        vertical-align: top;\n",
              "    }\n",
              "\n",
              "    .dataframe thead th {\n",
              "        text-align: right;\n",
              "    }\n",
              "</style>\n",
              "<table border=\"1\" class=\"dataframe\">\n",
              "  <thead>\n",
              "    <tr style=\"text-align: right;\">\n",
              "      <th>working</th>\n",
              "      <th>home</th>\n",
              "      <th>never</th>\n",
              "      <th>stopped</th>\n",
              "      <th>travel critical</th>\n",
              "      <th>travel non critical</th>\n",
              "    </tr>\n",
              "    <tr>\n",
              "      <th>covid19_positive</th>\n",
              "      <th></th>\n",
              "      <th></th>\n",
              "      <th></th>\n",
              "      <th></th>\n",
              "      <th></th>\n",
              "    </tr>\n",
              "  </thead>\n",
              "  <tbody>\n",
              "    <tr>\n",
              "      <th>0</th>\n",
              "      <td>66193</td>\n",
              "      <td>177287</td>\n",
              "      <td>363736</td>\n",
              "      <td>211389</td>\n",
              "      <td>86619</td>\n",
              "    </tr>\n",
              "    <tr>\n",
              "      <th>1</th>\n",
              "      <td>212</td>\n",
              "      <td>1024</td>\n",
              "      <td>833</td>\n",
              "      <td>909</td>\n",
              "      <td>330</td>\n",
              "    </tr>\n",
              "  </tbody>\n",
              "</table>\n",
              "</div>"
            ],
            "text/plain": [
              "working            home   never  stopped  travel critical  travel non critical\n",
              "covid19_positive                                                              \n",
              "0                 66193  177287   363736           211389                86619\n",
              "1                   212    1024      833              909                  330"
            ]
          },
          "metadata": {
            "tags": []
          },
          "execution_count": 137
        }
      ]
    },
    {
      "cell_type": "code",
      "metadata": {
        "id": "1udpKr5yMJJk",
        "outputId": "dd4dad1f-98e8-423b-ec6c-3967685db559",
        "colab": {
          "base_uri": "https://localhost:8080/",
          "height": 104
        }
      },
      "source": [
        "from scipy.stats import chi2\n",
        "chi, pval, dof, exp = chi2_contingency(confusion_matrix)\n",
        "print('p-value is: ', pval)\n",
        "significance = 0.01\n",
        "p = 1 - significance\n",
        "critical_value = chi2.ppf(p, dof)\n",
        "print('chi=%.6f, critical value=%.6f\\n' % (chi, critical_value))\n",
        "if chi > critical_value:\n",
        "    print(\"\"\"At %.2f level of significance, we reject the null hypotheses and accept H1. \n",
        "They are not independent.\"\"\" % (significance))\n",
        "else:\n",
        "    print(\"\"\"At %.2f level of significance, we accept the null hypotheses. \n",
        "They are independent.\"\"\" % (significance))"
      ],
      "execution_count": null,
      "outputs": [
        {
          "output_type": "stream",
          "text": [
            "p-value is:  8.227975223320316e-92\n",
            "chi=430.212116, critical value=13.276704\n",
            "\n",
            "At 0.01 level of significance, we reject the null hypotheses and accept H1. \n",
            "They are not independent.\n"
          ],
          "name": "stdout"
        }
      ]
    },
    {
      "cell_type": "code",
      "metadata": {
        "id": "gdzqWv3AMcd7",
        "outputId": "a8ce1d9f-fa0d-4c40-f010-85db6869d07a",
        "colab": {
          "base_uri": "https://localhost:8080/",
          "height": 69
        }
      },
      "source": [
        "def cramers_stat(confusion_matrix):\n",
        "    chi2 = chi2_contingency(confusion_matrix)[0]\n",
        "    n = confusion_matrix.sum().sum()\n",
        "    return np.sqrt(chi2 / (n*(min(confusion_matrix.shape)-1)))\n",
        "insurCramers_v = cramers_stat(confusion_matrix)\n",
        "print(\"Cramér's V is a number between 0 and 1 that indicates how strongly two categorical variables are associated. \\nIt is based on Pearson's chi-squared statistic\")\n",
        "insurCramers_v"
      ],
      "execution_count": null,
      "outputs": [
        {
          "output_type": "stream",
          "text": [
            "Cramér's V is a number between 0 and 1 that indicates how strongly two categorical variables are associated. \n",
            "It is based on Pearson's chi-squared statistic\n"
          ],
          "name": "stdout"
        },
        {
          "output_type": "execute_result",
          "data": {
            "text/plain": [
              "0.021760616953383376"
            ]
          },
          "metadata": {
            "tags": []
          },
          "execution_count": 140
        }
      ]
    },
    {
      "cell_type": "markdown",
      "metadata": {
        "id": "YMD3YKWZmChE"
      },
      "source": [
        "## Model building"
      ]
    },
    {
      "cell_type": "code",
      "metadata": {
        "id": "cEmXIzzGl_Ue",
        "outputId": "168d2603-b8d0-411c-f10b-48b80cf460b2",
        "colab": {
          "base_uri": "https://localhost:8080/"
        }
      },
      "source": [
        "import pandas as pd\n",
        "import numpy as np\n",
        "import seaborn as sns\n",
        "import matplotlib.pyplot as plt\n",
        "from pandas.plotting import scatter_matrix\n",
        "from sklearn import preprocessing\n",
        "from sklearn.preprocessing import StandardScaler\n",
        "from sklearn.preprocessing import MinMaxScaler\n",
        "from sklearn.preprocessing import RobustScaler\n",
        "import statsmodels.api as sm"
      ],
      "execution_count": null,
      "outputs": [
        {
          "output_type": "stream",
          "text": [
            "/usr/local/lib/python3.6/dist-packages/statsmodels/tools/_testing.py:19: FutureWarning: pandas.util.testing is deprecated. Use the functions in the public API at pandas.testing instead.\n",
            "  import pandas.util.testing as tm\n"
          ],
          "name": "stderr"
        }
      ]
    },
    {
      "cell_type": "code",
      "metadata": {
        "id": "EPjV8KQdqyUh",
        "outputId": "b945c641-5e9e-4d9a-f6dc-0b988a3711b5",
        "colab": {
          "base_uri": "https://localhost:8080/"
        }
      },
      "source": [
        "data.info()"
      ],
      "execution_count": null,
      "outputs": [
        {
          "output_type": "stream",
          "text": [
            "<class 'pandas.core.frame.DataFrame'>\n",
            "Int64Index: 912768 entries, 1 to 912768\n",
            "Data columns (total 60 columns):\n",
            " #   Column                                       Non-Null Count   Dtype  \n",
            "---  ------                                       --------------   -----  \n",
            " 0   survey_date                                  912768 non-null  object \n",
            " 1   region                                       154345 non-null  object \n",
            " 2   country                                      912666 non-null  object \n",
            " 3   ip_latitude                                  912768 non-null  float64\n",
            " 4   ip_longitude                                 912768 non-null  float64\n",
            " 5   ip_accuracy                                  912756 non-null  float64\n",
            " 6   sex                                          912768 non-null  object \n",
            " 7   age                                          912763 non-null  object \n",
            " 8   height                                       912768 non-null  object \n",
            " 9   weight                                       912768 non-null  object \n",
            " 10  bmi                                          912764 non-null  float64\n",
            " 11  blood_type                                   912768 non-null  object \n",
            " 12  insurance                                    224025 non-null  object \n",
            " 13  income                                       224025 non-null  object \n",
            " 14  race                                         224025 non-null  object \n",
            " 15  immigrant                                    224025 non-null  object \n",
            " 16  smoking                                      910911 non-null  object \n",
            " 17  alcohol                                      910871 non-null  float64\n",
            " 18  cannabis                                     727728 non-null  float64\n",
            " 19  amphetamines                                 708596 non-null  float64\n",
            " 20  cocaine                                      706457 non-null  float64\n",
            " 21  lsd                                          710824 non-null  float64\n",
            " 22  mdma                                         715215 non-null  float64\n",
            " 23  contacts_count                               908521 non-null  float64\n",
            " 24  house_count                                  912746 non-null  float64\n",
            " 25  public_transport_count                       224025 non-null  float64\n",
            " 26  working                                      908532 non-null  object \n",
            " 27  worried                                      224025 non-null  float64\n",
            " 28  rate_reducing_risk_single                    912768 non-null  int64  \n",
            " 29  rate_reducing_risk_single_social_distancing  912768 non-null  int64  \n",
            " 30  rate_reducing_risk_single_washing_hands      912768 non-null  int64  \n",
            " 31  rate_reducing_risk_house                     912768 non-null  int64  \n",
            " 32  rate_reducing_risk_house_social_distancing   912768 non-null  int64  \n",
            " 33  rate_reducing_risk_house_washing_hands       912768 non-null  int64  \n",
            " 34  rate_reducing_risk_single_sanitizer          912768 non-null  int64  \n",
            " 35  rate_reducing_mask                           910911 non-null  float64\n",
            " 36  rate_reducing_mask_type                      197485 non-null  object \n",
            " 37  rate_government_action                       912768 non-null  int64  \n",
            " 38  rate_government_control                      912768 non-null  int64  \n",
            " 39  rate_government_spend                        912768 non-null  int64  \n",
            " 40  covid19_positive                             912768 non-null  int64  \n",
            " 41  covid19_symptoms                             912768 non-null  int64  \n",
            " 42  covid19_contact                              912768 non-null  int64  \n",
            " 43  asthma                                       912768 non-null  int64  \n",
            " 44  kidney_disease                               912768 non-null  int64  \n",
            " 45  liver_disease                                912768 non-null  int64  \n",
            " 46  compromised_immune                           912768 non-null  int64  \n",
            " 47  heart_disease                                912768 non-null  int64  \n",
            " 48  lung_disease                                 912768 non-null  int64  \n",
            " 49  diabetes                                     912768 non-null  int64  \n",
            " 50  hiv_positive                                 912768 non-null  int64  \n",
            " 51  hypertension                                 912768 non-null  int64  \n",
            " 52  other_chronic                                912768 non-null  int64  \n",
            " 53  nursing_home                                 912768 non-null  int64  \n",
            " 54  health_worker                                912768 non-null  int64  \n",
            " 55  prescription_medication                      272265 non-null  object \n",
            " 56  opinion_infection                            747514 non-null  float64\n",
            " 57  opinion_mortality                            747514 non-null  float64\n",
            " 58  risk_infection                               912754 non-null  float64\n",
            " 59  risk_mortality                               912754 non-null  float64\n",
            "dtypes: float64(19), int64(25), object(16)\n",
            "memory usage: 424.8+ MB\n"
          ],
          "name": "stdout"
        }
      ]
    },
    {
      "cell_type": "markdown",
      "metadata": {
        "id": "PKDHiz71Ji2U"
      },
      "source": [
        "Selecting features"
      ]
    },
    {
      "cell_type": "code",
      "metadata": {
        "id": "w_fb64kOtEkU"
      },
      "source": [
        "df1 = data[['sex', 'age', 'bmi', 'blood_type',\n",
        "       'insurance', 'income', 'race', 'immigrant', 'smoking', 'alcohol',\n",
        "       'cannabis', 'amphetamines', 'cocaine', 'lsd', 'mdma', 'contacts_count',\n",
        "       'house_count', 'public_transport_count', 'working', 'worried',\n",
        "       'rate_reducing_risk_single_social_distancing',\n",
        "       'rate_reducing_risk_single_washing_hands',\n",
        "       'rate_reducing_risk_house_social_distancing',\n",
        "       'rate_reducing_risk_house_washing_hands',\n",
        "       'rate_reducing_risk_single_sanitizer', 'rate_reducing_mask',\n",
        "       'covid19_symptoms', 'covid19_contact', 'asthma', 'kidney_disease',\n",
        "       'liver_disease', 'compromised_immune', 'heart_disease', 'lung_disease',\n",
        "       'diabetes', 'hiv_positive', 'hypertension', 'other_chronic',\n",
        "       'nursing_home', 'health_worker',\n",
        "       'opinion_infection', 'opinion_mortality', 'risk_infection',\n",
        "       'risk_mortality']]"
      ],
      "execution_count": null,
      "outputs": []
    },
    {
      "cell_type": "markdown",
      "metadata": {
        "id": "4oxdQBGeJsni"
      },
      "source": [
        "Since dataset is fairly large (~ 1 Million) we can drop all rows which has null values."
      ]
    },
    {
      "cell_type": "code",
      "metadata": {
        "id": "8T09MTkZhNy1"
      },
      "source": [
        "df1 = df1.dropna() #dropping null values"
      ],
      "execution_count": null,
      "outputs": []
    },
    {
      "cell_type": "markdown",
      "metadata": {
        "id": "JchdwlvRKW4N"
      },
      "source": [
        "Encoding categorical data for regression models"
      ]
    },
    {
      "cell_type": "code",
      "metadata": {
        "id": "vZGP7qBqrgjz",
        "outputId": "38df7469-2a5c-4e8f-d9aa-c0ddcab3b2e4",
        "colab": {
          "base_uri": "https://localhost:8080/",
          "height": 275
        }
      },
      "source": [
        "df = pd.get_dummies(df1,columns=['sex', 'age','blood_type',\n",
        "       'insurance', 'income', 'race', 'immigrant', 'smoking', 'working'],drop_first=True)\n",
        "df.head()"
      ],
      "execution_count": null,
      "outputs": [
        {
          "output_type": "execute_result",
          "data": {
            "text/html": [
              "<div>\n",
              "<style scoped>\n",
              "    .dataframe tbody tr th:only-of-type {\n",
              "        vertical-align: middle;\n",
              "    }\n",
              "\n",
              "    .dataframe tbody tr th {\n",
              "        vertical-align: top;\n",
              "    }\n",
              "\n",
              "    .dataframe thead th {\n",
              "        text-align: right;\n",
              "    }\n",
              "</style>\n",
              "<table border=\"1\" class=\"dataframe\">\n",
              "  <thead>\n",
              "    <tr style=\"text-align: right;\">\n",
              "      <th></th>\n",
              "      <th>bmi</th>\n",
              "      <th>alcohol</th>\n",
              "      <th>cannabis</th>\n",
              "      <th>amphetamines</th>\n",
              "      <th>cocaine</th>\n",
              "      <th>lsd</th>\n",
              "      <th>mdma</th>\n",
              "      <th>contacts_count</th>\n",
              "      <th>house_count</th>\n",
              "      <th>public_transport_count</th>\n",
              "      <th>worried</th>\n",
              "      <th>rate_reducing_risk_single_social_distancing</th>\n",
              "      <th>rate_reducing_risk_single_washing_hands</th>\n",
              "      <th>rate_reducing_risk_house_social_distancing</th>\n",
              "      <th>rate_reducing_risk_house_washing_hands</th>\n",
              "      <th>rate_reducing_risk_single_sanitizer</th>\n",
              "      <th>rate_reducing_mask</th>\n",
              "      <th>covid19_symptoms</th>\n",
              "      <th>covid19_contact</th>\n",
              "      <th>asthma</th>\n",
              "      <th>kidney_disease</th>\n",
              "      <th>liver_disease</th>\n",
              "      <th>compromised_immune</th>\n",
              "      <th>heart_disease</th>\n",
              "      <th>lung_disease</th>\n",
              "      <th>diabetes</th>\n",
              "      <th>hiv_positive</th>\n",
              "      <th>hypertension</th>\n",
              "      <th>other_chronic</th>\n",
              "      <th>nursing_home</th>\n",
              "      <th>health_worker</th>\n",
              "      <th>opinion_infection</th>\n",
              "      <th>opinion_mortality</th>\n",
              "      <th>risk_infection</th>\n",
              "      <th>risk_mortality</th>\n",
              "      <th>sex_male</th>\n",
              "      <th>sex_other</th>\n",
              "      <th>age_100_110</th>\n",
              "      <th>age_10_20</th>\n",
              "      <th>age_20_30</th>\n",
              "      <th>age_30_40</th>\n",
              "      <th>age_40_50</th>\n",
              "      <th>age_50_60</th>\n",
              "      <th>age_60_70</th>\n",
              "      <th>age_70_80</th>\n",
              "      <th>age_80_90</th>\n",
              "      <th>age_90_100</th>\n",
              "      <th>blood_type_abp</th>\n",
              "      <th>blood_type_an</th>\n",
              "      <th>blood_type_ap</th>\n",
              "      <th>blood_type_bn</th>\n",
              "      <th>blood_type_bp</th>\n",
              "      <th>blood_type_on</th>\n",
              "      <th>blood_type_op</th>\n",
              "      <th>blood_type_unknown</th>\n",
              "      <th>insurance_no</th>\n",
              "      <th>insurance_yes</th>\n",
              "      <th>income_gov</th>\n",
              "      <th>income_high</th>\n",
              "      <th>income_low</th>\n",
              "      <th>income_med</th>\n",
              "      <th>race_black</th>\n",
              "      <th>race_blank</th>\n",
              "      <th>race_hispanic</th>\n",
              "      <th>race_mixed</th>\n",
              "      <th>race_other</th>\n",
              "      <th>race_white</th>\n",
              "      <th>immigrant_immigrant</th>\n",
              "      <th>immigrant_native</th>\n",
              "      <th>smoking_quit0</th>\n",
              "      <th>smoking_quit10</th>\n",
              "      <th>smoking_quit5</th>\n",
              "      <th>smoking_vape</th>\n",
              "      <th>smoking_yesheavy</th>\n",
              "      <th>smoking_yeslight</th>\n",
              "      <th>smoking_yesmedium</th>\n",
              "      <th>working_never</th>\n",
              "      <th>working_stopped</th>\n",
              "      <th>working_travel critical</th>\n",
              "      <th>working_travel non critical</th>\n",
              "    </tr>\n",
              "    <tr>\n",
              "      <th>ID</th>\n",
              "      <th></th>\n",
              "      <th></th>\n",
              "      <th></th>\n",
              "      <th></th>\n",
              "      <th></th>\n",
              "      <th></th>\n",
              "      <th></th>\n",
              "      <th></th>\n",
              "      <th></th>\n",
              "      <th></th>\n",
              "      <th></th>\n",
              "      <th></th>\n",
              "      <th></th>\n",
              "      <th></th>\n",
              "      <th></th>\n",
              "      <th></th>\n",
              "      <th></th>\n",
              "      <th></th>\n",
              "      <th></th>\n",
              "      <th></th>\n",
              "      <th></th>\n",
              "      <th></th>\n",
              "      <th></th>\n",
              "      <th></th>\n",
              "      <th></th>\n",
              "      <th></th>\n",
              "      <th></th>\n",
              "      <th></th>\n",
              "      <th></th>\n",
              "      <th></th>\n",
              "      <th></th>\n",
              "      <th></th>\n",
              "      <th></th>\n",
              "      <th></th>\n",
              "      <th></th>\n",
              "      <th></th>\n",
              "      <th></th>\n",
              "      <th></th>\n",
              "      <th></th>\n",
              "      <th></th>\n",
              "      <th></th>\n",
              "      <th></th>\n",
              "      <th></th>\n",
              "      <th></th>\n",
              "      <th></th>\n",
              "      <th></th>\n",
              "      <th></th>\n",
              "      <th></th>\n",
              "      <th></th>\n",
              "      <th></th>\n",
              "      <th></th>\n",
              "      <th></th>\n",
              "      <th></th>\n",
              "      <th></th>\n",
              "      <th></th>\n",
              "      <th></th>\n",
              "      <th></th>\n",
              "      <th></th>\n",
              "      <th></th>\n",
              "      <th></th>\n",
              "      <th></th>\n",
              "      <th></th>\n",
              "      <th></th>\n",
              "      <th></th>\n",
              "      <th></th>\n",
              "      <th></th>\n",
              "      <th></th>\n",
              "      <th></th>\n",
              "      <th></th>\n",
              "      <th></th>\n",
              "      <th></th>\n",
              "      <th></th>\n",
              "      <th></th>\n",
              "      <th></th>\n",
              "      <th></th>\n",
              "      <th></th>\n",
              "      <th></th>\n",
              "      <th></th>\n",
              "      <th></th>\n",
              "      <th></th>\n",
              "    </tr>\n",
              "  </thead>\n",
              "  <tbody>\n",
              "    <tr>\n",
              "      <th>47938</th>\n",
              "      <td>25.2</td>\n",
              "      <td>2.0</td>\n",
              "      <td>0.0</td>\n",
              "      <td>0.0</td>\n",
              "      <td>0.0</td>\n",
              "      <td>0.0</td>\n",
              "      <td>0.0</td>\n",
              "      <td>3.0</td>\n",
              "      <td>3.0</td>\n",
              "      <td>0.0</td>\n",
              "      <td>4.0</td>\n",
              "      <td>0</td>\n",
              "      <td>1</td>\n",
              "      <td>1</td>\n",
              "      <td>1</td>\n",
              "      <td>1</td>\n",
              "      <td>4.0</td>\n",
              "      <td>0</td>\n",
              "      <td>0</td>\n",
              "      <td>0</td>\n",
              "      <td>0</td>\n",
              "      <td>0</td>\n",
              "      <td>0</td>\n",
              "      <td>0</td>\n",
              "      <td>0</td>\n",
              "      <td>0</td>\n",
              "      <td>0</td>\n",
              "      <td>1</td>\n",
              "      <td>0</td>\n",
              "      <td>0</td>\n",
              "      <td>0</td>\n",
              "      <td>55.0</td>\n",
              "      <td>25.0</td>\n",
              "      <td>5.0</td>\n",
              "      <td>0.059</td>\n",
              "      <td>1</td>\n",
              "      <td>0</td>\n",
              "      <td>0</td>\n",
              "      <td>0</td>\n",
              "      <td>0</td>\n",
              "      <td>1</td>\n",
              "      <td>0</td>\n",
              "      <td>0</td>\n",
              "      <td>0</td>\n",
              "      <td>0</td>\n",
              "      <td>0</td>\n",
              "      <td>0</td>\n",
              "      <td>0</td>\n",
              "      <td>0</td>\n",
              "      <td>0</td>\n",
              "      <td>0</td>\n",
              "      <td>0</td>\n",
              "      <td>0</td>\n",
              "      <td>0</td>\n",
              "      <td>1</td>\n",
              "      <td>0</td>\n",
              "      <td>1</td>\n",
              "      <td>0</td>\n",
              "      <td>0</td>\n",
              "      <td>0</td>\n",
              "      <td>1</td>\n",
              "      <td>0</td>\n",
              "      <td>0</td>\n",
              "      <td>1</td>\n",
              "      <td>0</td>\n",
              "      <td>0</td>\n",
              "      <td>0</td>\n",
              "      <td>0</td>\n",
              "      <td>1</td>\n",
              "      <td>0</td>\n",
              "      <td>0</td>\n",
              "      <td>1</td>\n",
              "      <td>0</td>\n",
              "      <td>0</td>\n",
              "      <td>0</td>\n",
              "      <td>0</td>\n",
              "      <td>0</td>\n",
              "      <td>1</td>\n",
              "      <td>0</td>\n",
              "      <td>0</td>\n",
              "    </tr>\n",
              "    <tr>\n",
              "      <th>47939</th>\n",
              "      <td>23.2</td>\n",
              "      <td>-1.0</td>\n",
              "      <td>-1.0</td>\n",
              "      <td>-1.0</td>\n",
              "      <td>-1.0</td>\n",
              "      <td>-1.0</td>\n",
              "      <td>-1.0</td>\n",
              "      <td>5.0</td>\n",
              "      <td>4.0</td>\n",
              "      <td>0.0</td>\n",
              "      <td>4.0</td>\n",
              "      <td>1</td>\n",
              "      <td>1</td>\n",
              "      <td>1</td>\n",
              "      <td>1</td>\n",
              "      <td>0</td>\n",
              "      <td>3.0</td>\n",
              "      <td>0</td>\n",
              "      <td>0</td>\n",
              "      <td>0</td>\n",
              "      <td>0</td>\n",
              "      <td>0</td>\n",
              "      <td>0</td>\n",
              "      <td>0</td>\n",
              "      <td>0</td>\n",
              "      <td>0</td>\n",
              "      <td>0</td>\n",
              "      <td>0</td>\n",
              "      <td>0</td>\n",
              "      <td>0</td>\n",
              "      <td>0</td>\n",
              "      <td>25.0</td>\n",
              "      <td>45.0</td>\n",
              "      <td>5.0</td>\n",
              "      <td>0.062</td>\n",
              "      <td>1</td>\n",
              "      <td>0</td>\n",
              "      <td>0</td>\n",
              "      <td>0</td>\n",
              "      <td>0</td>\n",
              "      <td>1</td>\n",
              "      <td>0</td>\n",
              "      <td>0</td>\n",
              "      <td>0</td>\n",
              "      <td>0</td>\n",
              "      <td>0</td>\n",
              "      <td>0</td>\n",
              "      <td>1</td>\n",
              "      <td>0</td>\n",
              "      <td>0</td>\n",
              "      <td>0</td>\n",
              "      <td>0</td>\n",
              "      <td>0</td>\n",
              "      <td>0</td>\n",
              "      <td>0</td>\n",
              "      <td>1</td>\n",
              "      <td>0</td>\n",
              "      <td>0</td>\n",
              "      <td>0</td>\n",
              "      <td>0</td>\n",
              "      <td>1</td>\n",
              "      <td>0</td>\n",
              "      <td>0</td>\n",
              "      <td>1</td>\n",
              "      <td>0</td>\n",
              "      <td>0</td>\n",
              "      <td>0</td>\n",
              "      <td>0</td>\n",
              "      <td>1</td>\n",
              "      <td>0</td>\n",
              "      <td>0</td>\n",
              "      <td>1</td>\n",
              "      <td>0</td>\n",
              "      <td>0</td>\n",
              "      <td>0</td>\n",
              "      <td>0</td>\n",
              "      <td>1</td>\n",
              "      <td>0</td>\n",
              "      <td>0</td>\n",
              "      <td>0</td>\n",
              "    </tr>\n",
              "    <tr>\n",
              "      <th>47940</th>\n",
              "      <td>32.8</td>\n",
              "      <td>11.0</td>\n",
              "      <td>-1.0</td>\n",
              "      <td>-1.0</td>\n",
              "      <td>-1.0</td>\n",
              "      <td>-1.0</td>\n",
              "      <td>-1.0</td>\n",
              "      <td>4.0</td>\n",
              "      <td>3.0</td>\n",
              "      <td>0.0</td>\n",
              "      <td>3.0</td>\n",
              "      <td>1</td>\n",
              "      <td>1</td>\n",
              "      <td>1</td>\n",
              "      <td>0</td>\n",
              "      <td>-2</td>\n",
              "      <td>1.0</td>\n",
              "      <td>0</td>\n",
              "      <td>0</td>\n",
              "      <td>0</td>\n",
              "      <td>0</td>\n",
              "      <td>0</td>\n",
              "      <td>0</td>\n",
              "      <td>0</td>\n",
              "      <td>0</td>\n",
              "      <td>0</td>\n",
              "      <td>0</td>\n",
              "      <td>0</td>\n",
              "      <td>0</td>\n",
              "      <td>0</td>\n",
              "      <td>0</td>\n",
              "      <td>35.0</td>\n",
              "      <td>25.0</td>\n",
              "      <td>5.0</td>\n",
              "      <td>0.129</td>\n",
              "      <td>0</td>\n",
              "      <td>0</td>\n",
              "      <td>0</td>\n",
              "      <td>0</td>\n",
              "      <td>0</td>\n",
              "      <td>0</td>\n",
              "      <td>0</td>\n",
              "      <td>1</td>\n",
              "      <td>0</td>\n",
              "      <td>0</td>\n",
              "      <td>0</td>\n",
              "      <td>0</td>\n",
              "      <td>0</td>\n",
              "      <td>0</td>\n",
              "      <td>1</td>\n",
              "      <td>0</td>\n",
              "      <td>0</td>\n",
              "      <td>0</td>\n",
              "      <td>0</td>\n",
              "      <td>0</td>\n",
              "      <td>0</td>\n",
              "      <td>1</td>\n",
              "      <td>0</td>\n",
              "      <td>1</td>\n",
              "      <td>0</td>\n",
              "      <td>0</td>\n",
              "      <td>0</td>\n",
              "      <td>0</td>\n",
              "      <td>0</td>\n",
              "      <td>0</td>\n",
              "      <td>0</td>\n",
              "      <td>1</td>\n",
              "      <td>0</td>\n",
              "      <td>1</td>\n",
              "      <td>0</td>\n",
              "      <td>0</td>\n",
              "      <td>0</td>\n",
              "      <td>0</td>\n",
              "      <td>0</td>\n",
              "      <td>0</td>\n",
              "      <td>0</td>\n",
              "      <td>0</td>\n",
              "      <td>1</td>\n",
              "      <td>0</td>\n",
              "      <td>0</td>\n",
              "    </tr>\n",
              "    <tr>\n",
              "      <th>47941</th>\n",
              "      <td>37.8</td>\n",
              "      <td>1.0</td>\n",
              "      <td>-1.0</td>\n",
              "      <td>-1.0</td>\n",
              "      <td>-1.0</td>\n",
              "      <td>-1.0</td>\n",
              "      <td>-1.0</td>\n",
              "      <td>1.0</td>\n",
              "      <td>2.0</td>\n",
              "      <td>0.0</td>\n",
              "      <td>4.0</td>\n",
              "      <td>1</td>\n",
              "      <td>1</td>\n",
              "      <td>1</td>\n",
              "      <td>1</td>\n",
              "      <td>1</td>\n",
              "      <td>4.0</td>\n",
              "      <td>0</td>\n",
              "      <td>0</td>\n",
              "      <td>0</td>\n",
              "      <td>0</td>\n",
              "      <td>0</td>\n",
              "      <td>0</td>\n",
              "      <td>0</td>\n",
              "      <td>0</td>\n",
              "      <td>1</td>\n",
              "      <td>0</td>\n",
              "      <td>0</td>\n",
              "      <td>0</td>\n",
              "      <td>0</td>\n",
              "      <td>0</td>\n",
              "      <td>55.0</td>\n",
              "      <td>55.0</td>\n",
              "      <td>6.0</td>\n",
              "      <td>0.118</td>\n",
              "      <td>1</td>\n",
              "      <td>0</td>\n",
              "      <td>0</td>\n",
              "      <td>0</td>\n",
              "      <td>0</td>\n",
              "      <td>1</td>\n",
              "      <td>0</td>\n",
              "      <td>0</td>\n",
              "      <td>0</td>\n",
              "      <td>0</td>\n",
              "      <td>0</td>\n",
              "      <td>0</td>\n",
              "      <td>0</td>\n",
              "      <td>0</td>\n",
              "      <td>0</td>\n",
              "      <td>0</td>\n",
              "      <td>0</td>\n",
              "      <td>0</td>\n",
              "      <td>1</td>\n",
              "      <td>0</td>\n",
              "      <td>0</td>\n",
              "      <td>1</td>\n",
              "      <td>0</td>\n",
              "      <td>1</td>\n",
              "      <td>0</td>\n",
              "      <td>0</td>\n",
              "      <td>0</td>\n",
              "      <td>0</td>\n",
              "      <td>1</td>\n",
              "      <td>0</td>\n",
              "      <td>0</td>\n",
              "      <td>0</td>\n",
              "      <td>0</td>\n",
              "      <td>1</td>\n",
              "      <td>0</td>\n",
              "      <td>0</td>\n",
              "      <td>0</td>\n",
              "      <td>0</td>\n",
              "      <td>0</td>\n",
              "      <td>0</td>\n",
              "      <td>1</td>\n",
              "      <td>1</td>\n",
              "      <td>0</td>\n",
              "      <td>0</td>\n",
              "      <td>0</td>\n",
              "    </tr>\n",
              "    <tr>\n",
              "      <th>47945</th>\n",
              "      <td>35.5</td>\n",
              "      <td>0.0</td>\n",
              "      <td>-1.0</td>\n",
              "      <td>-1.0</td>\n",
              "      <td>-1.0</td>\n",
              "      <td>-1.0</td>\n",
              "      <td>-1.0</td>\n",
              "      <td>6.0</td>\n",
              "      <td>3.0</td>\n",
              "      <td>0.0</td>\n",
              "      <td>2.0</td>\n",
              "      <td>1</td>\n",
              "      <td>1</td>\n",
              "      <td>1</td>\n",
              "      <td>1</td>\n",
              "      <td>0</td>\n",
              "      <td>4.0</td>\n",
              "      <td>0</td>\n",
              "      <td>0</td>\n",
              "      <td>1</td>\n",
              "      <td>0</td>\n",
              "      <td>0</td>\n",
              "      <td>0</td>\n",
              "      <td>0</td>\n",
              "      <td>0</td>\n",
              "      <td>1</td>\n",
              "      <td>0</td>\n",
              "      <td>0</td>\n",
              "      <td>0</td>\n",
              "      <td>0</td>\n",
              "      <td>0</td>\n",
              "      <td>25.0</td>\n",
              "      <td>5.0</td>\n",
              "      <td>6.0</td>\n",
              "      <td>0.559</td>\n",
              "      <td>1</td>\n",
              "      <td>0</td>\n",
              "      <td>0</td>\n",
              "      <td>0</td>\n",
              "      <td>0</td>\n",
              "      <td>0</td>\n",
              "      <td>0</td>\n",
              "      <td>1</td>\n",
              "      <td>0</td>\n",
              "      <td>0</td>\n",
              "      <td>0</td>\n",
              "      <td>0</td>\n",
              "      <td>0</td>\n",
              "      <td>0</td>\n",
              "      <td>0</td>\n",
              "      <td>0</td>\n",
              "      <td>0</td>\n",
              "      <td>0</td>\n",
              "      <td>1</td>\n",
              "      <td>0</td>\n",
              "      <td>0</td>\n",
              "      <td>1</td>\n",
              "      <td>0</td>\n",
              "      <td>1</td>\n",
              "      <td>0</td>\n",
              "      <td>0</td>\n",
              "      <td>0</td>\n",
              "      <td>0</td>\n",
              "      <td>0</td>\n",
              "      <td>0</td>\n",
              "      <td>0</td>\n",
              "      <td>1</td>\n",
              "      <td>0</td>\n",
              "      <td>1</td>\n",
              "      <td>0</td>\n",
              "      <td>0</td>\n",
              "      <td>0</td>\n",
              "      <td>0</td>\n",
              "      <td>0</td>\n",
              "      <td>0</td>\n",
              "      <td>0</td>\n",
              "      <td>0</td>\n",
              "      <td>0</td>\n",
              "      <td>0</td>\n",
              "      <td>0</td>\n",
              "    </tr>\n",
              "  </tbody>\n",
              "</table>\n",
              "</div>"
            ],
            "text/plain": [
              "        bmi  alcohol  ...  working_travel critical  working_travel non critical\n",
              "ID                    ...                                                      \n",
              "47938  25.2      2.0  ...                        0                            0\n",
              "47939  23.2     -1.0  ...                        0                            0\n",
              "47940  32.8     11.0  ...                        0                            0\n",
              "47941  37.8      1.0  ...                        0                            0\n",
              "47945  35.5      0.0  ...                        0                            0\n",
              "\n",
              "[5 rows x 80 columns]"
            ]
          },
          "metadata": {
            "tags": []
          },
          "execution_count": 23
        }
      ]
    },
    {
      "cell_type": "code",
      "metadata": {
        "id": "ZQyZHIWZvUdT",
        "outputId": "005a75c4-8b33-41ba-c9cb-ebe560ea32e5",
        "colab": {
          "base_uri": "https://localhost:8080/",
          "height": 338
        }
      },
      "source": [
        "df.describe()"
      ],
      "execution_count": null,
      "outputs": [
        {
          "output_type": "execute_result",
          "data": {
            "text/html": [
              "<div>\n",
              "<style scoped>\n",
              "    .dataframe tbody tr th:only-of-type {\n",
              "        vertical-align: middle;\n",
              "    }\n",
              "\n",
              "    .dataframe tbody tr th {\n",
              "        vertical-align: top;\n",
              "    }\n",
              "\n",
              "    .dataframe thead th {\n",
              "        text-align: right;\n",
              "    }\n",
              "</style>\n",
              "<table border=\"1\" class=\"dataframe\">\n",
              "  <thead>\n",
              "    <tr style=\"text-align: right;\">\n",
              "      <th></th>\n",
              "      <th>bmi</th>\n",
              "      <th>alcohol</th>\n",
              "      <th>cannabis</th>\n",
              "      <th>amphetamines</th>\n",
              "      <th>cocaine</th>\n",
              "      <th>lsd</th>\n",
              "      <th>mdma</th>\n",
              "      <th>contacts_count</th>\n",
              "      <th>house_count</th>\n",
              "      <th>public_transport_count</th>\n",
              "      <th>worried</th>\n",
              "      <th>rate_reducing_risk_single_social_distancing</th>\n",
              "      <th>rate_reducing_risk_single_washing_hands</th>\n",
              "      <th>rate_reducing_risk_house_social_distancing</th>\n",
              "      <th>rate_reducing_risk_house_washing_hands</th>\n",
              "      <th>rate_reducing_risk_single_sanitizer</th>\n",
              "      <th>rate_reducing_mask</th>\n",
              "      <th>covid19_symptoms</th>\n",
              "      <th>covid19_contact</th>\n",
              "      <th>asthma</th>\n",
              "      <th>kidney_disease</th>\n",
              "      <th>liver_disease</th>\n",
              "      <th>compromised_immune</th>\n",
              "      <th>heart_disease</th>\n",
              "      <th>lung_disease</th>\n",
              "      <th>diabetes</th>\n",
              "      <th>hiv_positive</th>\n",
              "      <th>hypertension</th>\n",
              "      <th>other_chronic</th>\n",
              "      <th>nursing_home</th>\n",
              "      <th>health_worker</th>\n",
              "      <th>opinion_infection</th>\n",
              "      <th>opinion_mortality</th>\n",
              "      <th>risk_infection</th>\n",
              "      <th>risk_mortality</th>\n",
              "      <th>sex_male</th>\n",
              "      <th>sex_other</th>\n",
              "      <th>age_100_110</th>\n",
              "      <th>age_10_20</th>\n",
              "      <th>age_20_30</th>\n",
              "      <th>age_30_40</th>\n",
              "      <th>age_40_50</th>\n",
              "      <th>age_50_60</th>\n",
              "      <th>age_60_70</th>\n",
              "      <th>age_70_80</th>\n",
              "      <th>age_80_90</th>\n",
              "      <th>age_90_100</th>\n",
              "      <th>blood_type_abp</th>\n",
              "      <th>blood_type_an</th>\n",
              "      <th>blood_type_ap</th>\n",
              "      <th>blood_type_bn</th>\n",
              "      <th>blood_type_bp</th>\n",
              "      <th>blood_type_on</th>\n",
              "      <th>blood_type_op</th>\n",
              "      <th>blood_type_unknown</th>\n",
              "      <th>insurance_no</th>\n",
              "      <th>insurance_yes</th>\n",
              "      <th>income_gov</th>\n",
              "      <th>income_high</th>\n",
              "      <th>income_low</th>\n",
              "      <th>income_med</th>\n",
              "      <th>race_black</th>\n",
              "      <th>race_blank</th>\n",
              "      <th>race_hispanic</th>\n",
              "      <th>race_mixed</th>\n",
              "      <th>race_other</th>\n",
              "      <th>race_white</th>\n",
              "      <th>immigrant_immigrant</th>\n",
              "      <th>immigrant_native</th>\n",
              "      <th>smoking_quit0</th>\n",
              "      <th>smoking_quit10</th>\n",
              "      <th>smoking_quit5</th>\n",
              "      <th>smoking_vape</th>\n",
              "      <th>smoking_yesheavy</th>\n",
              "      <th>smoking_yeslight</th>\n",
              "      <th>smoking_yesmedium</th>\n",
              "      <th>working_never</th>\n",
              "      <th>working_stopped</th>\n",
              "      <th>working_travel critical</th>\n",
              "      <th>working_travel non critical</th>\n",
              "    </tr>\n",
              "  </thead>\n",
              "  <tbody>\n",
              "    <tr>\n",
              "      <th>count</th>\n",
              "      <td>41155.000000</td>\n",
              "      <td>41155.000000</td>\n",
              "      <td>41155.000000</td>\n",
              "      <td>41155.000000</td>\n",
              "      <td>41155.000000</td>\n",
              "      <td>41155.000000</td>\n",
              "      <td>41155.000000</td>\n",
              "      <td>41155.000000</td>\n",
              "      <td>41155.000000</td>\n",
              "      <td>41155.000000</td>\n",
              "      <td>41155.000000</td>\n",
              "      <td>41155.000000</td>\n",
              "      <td>41155.00000</td>\n",
              "      <td>41155.000000</td>\n",
              "      <td>41155.000000</td>\n",
              "      <td>41155.000000</td>\n",
              "      <td>41155.000000</td>\n",
              "      <td>41155.000000</td>\n",
              "      <td>41155.000000</td>\n",
              "      <td>41155.000000</td>\n",
              "      <td>41155.000000</td>\n",
              "      <td>41155.000000</td>\n",
              "      <td>41155.000000</td>\n",
              "      <td>41155.000000</td>\n",
              "      <td>41155.000000</td>\n",
              "      <td>41155.000000</td>\n",
              "      <td>41155.000000</td>\n",
              "      <td>41155.000000</td>\n",
              "      <td>41155.000000</td>\n",
              "      <td>41155.000000</td>\n",
              "      <td>41155.000000</td>\n",
              "      <td>41155.000000</td>\n",
              "      <td>41155.000000</td>\n",
              "      <td>41155.000000</td>\n",
              "      <td>41155.000000</td>\n",
              "      <td>41155.000000</td>\n",
              "      <td>41155.000000</td>\n",
              "      <td>41155.000000</td>\n",
              "      <td>41155.000000</td>\n",
              "      <td>41155.000000</td>\n",
              "      <td>41155.000000</td>\n",
              "      <td>41155.000000</td>\n",
              "      <td>41155.000000</td>\n",
              "      <td>41155.000000</td>\n",
              "      <td>41155.000000</td>\n",
              "      <td>41155.000000</td>\n",
              "      <td>41155.000000</td>\n",
              "      <td>41155.000000</td>\n",
              "      <td>41155.000000</td>\n",
              "      <td>41155.000000</td>\n",
              "      <td>41155.000000</td>\n",
              "      <td>41155.000000</td>\n",
              "      <td>41155.000000</td>\n",
              "      <td>41155.000000</td>\n",
              "      <td>41155.000000</td>\n",
              "      <td>41155.000000</td>\n",
              "      <td>41155.000000</td>\n",
              "      <td>41155.000000</td>\n",
              "      <td>41155.000000</td>\n",
              "      <td>41155.000000</td>\n",
              "      <td>41155.000000</td>\n",
              "      <td>41155.000000</td>\n",
              "      <td>41155.000000</td>\n",
              "      <td>41155.000000</td>\n",
              "      <td>41155.000000</td>\n",
              "      <td>41155.000000</td>\n",
              "      <td>41155.000000</td>\n",
              "      <td>41155.000000</td>\n",
              "      <td>41155.000000</td>\n",
              "      <td>41155.000000</td>\n",
              "      <td>41155.000000</td>\n",
              "      <td>41155.000000</td>\n",
              "      <td>41155.000000</td>\n",
              "      <td>41155.000000</td>\n",
              "      <td>41155.000000</td>\n",
              "      <td>41155.000000</td>\n",
              "      <td>41155.000000</td>\n",
              "      <td>41155.000000</td>\n",
              "      <td>41155.000000</td>\n",
              "      <td>41155.000000</td>\n",
              "    </tr>\n",
              "    <tr>\n",
              "      <th>mean</th>\n",
              "      <td>28.593955</td>\n",
              "      <td>3.362605</td>\n",
              "      <td>4.666019</td>\n",
              "      <td>-0.716171</td>\n",
              "      <td>-0.703948</td>\n",
              "      <td>-0.789673</td>\n",
              "      <td>-0.792881</td>\n",
              "      <td>7.171061</td>\n",
              "      <td>2.976528</td>\n",
              "      <td>0.200680</td>\n",
              "      <td>3.465144</td>\n",
              "      <td>0.998372</td>\n",
              "      <td>1.06874</td>\n",
              "      <td>0.825781</td>\n",
              "      <td>0.891556</td>\n",
              "      <td>0.457636</td>\n",
              "      <td>3.587535</td>\n",
              "      <td>0.018661</td>\n",
              "      <td>0.044320</td>\n",
              "      <td>0.146349</td>\n",
              "      <td>0.003693</td>\n",
              "      <td>0.006682</td>\n",
              "      <td>0.057660</td>\n",
              "      <td>0.014652</td>\n",
              "      <td>0.016985</td>\n",
              "      <td>0.052727</td>\n",
              "      <td>0.005370</td>\n",
              "      <td>0.133447</td>\n",
              "      <td>0.075519</td>\n",
              "      <td>0.002211</td>\n",
              "      <td>0.070295</td>\n",
              "      <td>33.385858</td>\n",
              "      <td>19.841696</td>\n",
              "      <td>13.107592</td>\n",
              "      <td>0.366113</td>\n",
              "      <td>0.443907</td>\n",
              "      <td>0.006050</td>\n",
              "      <td>0.000121</td>\n",
              "      <td>0.029571</td>\n",
              "      <td>0.198542</td>\n",
              "      <td>0.303025</td>\n",
              "      <td>0.228939</td>\n",
              "      <td>0.135439</td>\n",
              "      <td>0.077269</td>\n",
              "      <td>0.023278</td>\n",
              "      <td>0.002017</td>\n",
              "      <td>0.000316</td>\n",
              "      <td>0.032341</td>\n",
              "      <td>0.045851</td>\n",
              "      <td>0.200680</td>\n",
              "      <td>0.017179</td>\n",
              "      <td>0.065508</td>\n",
              "      <td>0.081861</td>\n",
              "      <td>0.236958</td>\n",
              "      <td>0.311092</td>\n",
              "      <td>0.192881</td>\n",
              "      <td>0.742364</td>\n",
              "      <td>0.025343</td>\n",
              "      <td>0.283635</td>\n",
              "      <td>0.140469</td>\n",
              "      <td>0.519742</td>\n",
              "      <td>0.017616</td>\n",
              "      <td>0.045001</td>\n",
              "      <td>0.059191</td>\n",
              "      <td>0.047309</td>\n",
              "      <td>0.010327</td>\n",
              "      <td>0.789868</td>\n",
              "      <td>0.079553</td>\n",
              "      <td>0.914737</td>\n",
              "      <td>0.064439</td>\n",
              "      <td>0.085943</td>\n",
              "      <td>0.080379</td>\n",
              "      <td>0.068837</td>\n",
              "      <td>0.014506</td>\n",
              "      <td>0.056445</td>\n",
              "      <td>0.065800</td>\n",
              "      <td>0.264658</td>\n",
              "      <td>0.359033</td>\n",
              "      <td>0.170915</td>\n",
              "      <td>0.101810</td>\n",
              "    </tr>\n",
              "    <tr>\n",
              "      <th>std</th>\n",
              "      <td>7.407103</td>\n",
              "      <td>4.349344</td>\n",
              "      <td>9.956418</td>\n",
              "      <td>1.880716</td>\n",
              "      <td>1.190722</td>\n",
              "      <td>0.604197</td>\n",
              "      <td>0.595877</td>\n",
              "      <td>6.346282</td>\n",
              "      <td>1.499747</td>\n",
              "      <td>1.244003</td>\n",
              "      <td>0.853352</td>\n",
              "      <td>0.653380</td>\n",
              "      <td>0.61423</td>\n",
              "      <td>0.748374</td>\n",
              "      <td>0.697454</td>\n",
              "      <td>1.039658</td>\n",
              "      <td>1.157993</td>\n",
              "      <td>0.135327</td>\n",
              "      <td>0.205808</td>\n",
              "      <td>0.353460</td>\n",
              "      <td>0.060661</td>\n",
              "      <td>0.081471</td>\n",
              "      <td>0.233102</td>\n",
              "      <td>0.120157</td>\n",
              "      <td>0.129215</td>\n",
              "      <td>0.223492</td>\n",
              "      <td>0.073084</td>\n",
              "      <td>0.340061</td>\n",
              "      <td>0.264231</td>\n",
              "      <td>0.046971</td>\n",
              "      <td>0.255647</td>\n",
              "      <td>23.156779</td>\n",
              "      <td>21.357809</td>\n",
              "      <td>16.977553</td>\n",
              "      <td>0.880807</td>\n",
              "      <td>0.496850</td>\n",
              "      <td>0.077549</td>\n",
              "      <td>0.011022</td>\n",
              "      <td>0.169403</td>\n",
              "      <td>0.398907</td>\n",
              "      <td>0.459572</td>\n",
              "      <td>0.420155</td>\n",
              "      <td>0.342196</td>\n",
              "      <td>0.267021</td>\n",
              "      <td>0.150786</td>\n",
              "      <td>0.044864</td>\n",
              "      <td>0.017770</td>\n",
              "      <td>0.176907</td>\n",
              "      <td>0.209165</td>\n",
              "      <td>0.400514</td>\n",
              "      <td>0.129939</td>\n",
              "      <td>0.247424</td>\n",
              "      <td>0.274157</td>\n",
              "      <td>0.425221</td>\n",
              "      <td>0.462946</td>\n",
              "      <td>0.394565</td>\n",
              "      <td>0.437338</td>\n",
              "      <td>0.157167</td>\n",
              "      <td>0.450767</td>\n",
              "      <td>0.347477</td>\n",
              "      <td>0.499616</td>\n",
              "      <td>0.131554</td>\n",
              "      <td>0.207308</td>\n",
              "      <td>0.235984</td>\n",
              "      <td>0.212301</td>\n",
              "      <td>0.101096</td>\n",
              "      <td>0.407407</td>\n",
              "      <td>0.270603</td>\n",
              "      <td>0.279276</td>\n",
              "      <td>0.245537</td>\n",
              "      <td>0.280284</td>\n",
              "      <td>0.271882</td>\n",
              "      <td>0.253180</td>\n",
              "      <td>0.119566</td>\n",
              "      <td>0.230782</td>\n",
              "      <td>0.247935</td>\n",
              "      <td>0.441156</td>\n",
              "      <td>0.479723</td>\n",
              "      <td>0.376439</td>\n",
              "      <td>0.302402</td>\n",
              "    </tr>\n",
              "    <tr>\n",
              "      <th>min</th>\n",
              "      <td>10.500000</td>\n",
              "      <td>-1.000000</td>\n",
              "      <td>-2.000000</td>\n",
              "      <td>-2.000000</td>\n",
              "      <td>-2.000000</td>\n",
              "      <td>-2.000000</td>\n",
              "      <td>-2.000000</td>\n",
              "      <td>0.000000</td>\n",
              "      <td>0.000000</td>\n",
              "      <td>0.000000</td>\n",
              "      <td>1.000000</td>\n",
              "      <td>-2.000000</td>\n",
              "      <td>-2.00000</td>\n",
              "      <td>-2.000000</td>\n",
              "      <td>-2.000000</td>\n",
              "      <td>-2.000000</td>\n",
              "      <td>1.000000</td>\n",
              "      <td>0.000000</td>\n",
              "      <td>0.000000</td>\n",
              "      <td>0.000000</td>\n",
              "      <td>0.000000</td>\n",
              "      <td>0.000000</td>\n",
              "      <td>0.000000</td>\n",
              "      <td>0.000000</td>\n",
              "      <td>0.000000</td>\n",
              "      <td>0.000000</td>\n",
              "      <td>0.000000</td>\n",
              "      <td>0.000000</td>\n",
              "      <td>0.000000</td>\n",
              "      <td>0.000000</td>\n",
              "      <td>0.000000</td>\n",
              "      <td>5.000000</td>\n",
              "      <td>5.000000</td>\n",
              "      <td>5.000000</td>\n",
              "      <td>0.050000</td>\n",
              "      <td>0.000000</td>\n",
              "      <td>0.000000</td>\n",
              "      <td>0.000000</td>\n",
              "      <td>0.000000</td>\n",
              "      <td>0.000000</td>\n",
              "      <td>0.000000</td>\n",
              "      <td>0.000000</td>\n",
              "      <td>0.000000</td>\n",
              "      <td>0.000000</td>\n",
              "      <td>0.000000</td>\n",
              "      <td>0.000000</td>\n",
              "      <td>0.000000</td>\n",
              "      <td>0.000000</td>\n",
              "      <td>0.000000</td>\n",
              "      <td>0.000000</td>\n",
              "      <td>0.000000</td>\n",
              "      <td>0.000000</td>\n",
              "      <td>0.000000</td>\n",
              "      <td>0.000000</td>\n",
              "      <td>0.000000</td>\n",
              "      <td>0.000000</td>\n",
              "      <td>0.000000</td>\n",
              "      <td>0.000000</td>\n",
              "      <td>0.000000</td>\n",
              "      <td>0.000000</td>\n",
              "      <td>0.000000</td>\n",
              "      <td>0.000000</td>\n",
              "      <td>0.000000</td>\n",
              "      <td>0.000000</td>\n",
              "      <td>0.000000</td>\n",
              "      <td>0.000000</td>\n",
              "      <td>0.000000</td>\n",
              "      <td>0.000000</td>\n",
              "      <td>0.000000</td>\n",
              "      <td>0.000000</td>\n",
              "      <td>0.000000</td>\n",
              "      <td>0.000000</td>\n",
              "      <td>0.000000</td>\n",
              "      <td>0.000000</td>\n",
              "      <td>0.000000</td>\n",
              "      <td>0.000000</td>\n",
              "      <td>0.000000</td>\n",
              "      <td>0.000000</td>\n",
              "      <td>0.000000</td>\n",
              "      <td>0.000000</td>\n",
              "    </tr>\n",
              "    <tr>\n",
              "      <th>25%</th>\n",
              "      <td>23.500000</td>\n",
              "      <td>0.000000</td>\n",
              "      <td>-1.000000</td>\n",
              "      <td>-1.000000</td>\n",
              "      <td>-1.000000</td>\n",
              "      <td>-1.000000</td>\n",
              "      <td>-1.000000</td>\n",
              "      <td>3.000000</td>\n",
              "      <td>2.000000</td>\n",
              "      <td>0.000000</td>\n",
              "      <td>3.000000</td>\n",
              "      <td>1.000000</td>\n",
              "      <td>1.00000</td>\n",
              "      <td>0.000000</td>\n",
              "      <td>1.000000</td>\n",
              "      <td>0.000000</td>\n",
              "      <td>3.000000</td>\n",
              "      <td>0.000000</td>\n",
              "      <td>0.000000</td>\n",
              "      <td>0.000000</td>\n",
              "      <td>0.000000</td>\n",
              "      <td>0.000000</td>\n",
              "      <td>0.000000</td>\n",
              "      <td>0.000000</td>\n",
              "      <td>0.000000</td>\n",
              "      <td>0.000000</td>\n",
              "      <td>0.000000</td>\n",
              "      <td>0.000000</td>\n",
              "      <td>0.000000</td>\n",
              "      <td>0.000000</td>\n",
              "      <td>0.000000</td>\n",
              "      <td>15.000000</td>\n",
              "      <td>5.000000</td>\n",
              "      <td>5.000000</td>\n",
              "      <td>0.050000</td>\n",
              "      <td>0.000000</td>\n",
              "      <td>0.000000</td>\n",
              "      <td>0.000000</td>\n",
              "      <td>0.000000</td>\n",
              "      <td>0.000000</td>\n",
              "      <td>0.000000</td>\n",
              "      <td>0.000000</td>\n",
              "      <td>0.000000</td>\n",
              "      <td>0.000000</td>\n",
              "      <td>0.000000</td>\n",
              "      <td>0.000000</td>\n",
              "      <td>0.000000</td>\n",
              "      <td>0.000000</td>\n",
              "      <td>0.000000</td>\n",
              "      <td>0.000000</td>\n",
              "      <td>0.000000</td>\n",
              "      <td>0.000000</td>\n",
              "      <td>0.000000</td>\n",
              "      <td>0.000000</td>\n",
              "      <td>0.000000</td>\n",
              "      <td>0.000000</td>\n",
              "      <td>0.000000</td>\n",
              "      <td>0.000000</td>\n",
              "      <td>0.000000</td>\n",
              "      <td>0.000000</td>\n",
              "      <td>0.000000</td>\n",
              "      <td>0.000000</td>\n",
              "      <td>0.000000</td>\n",
              "      <td>0.000000</td>\n",
              "      <td>0.000000</td>\n",
              "      <td>0.000000</td>\n",
              "      <td>1.000000</td>\n",
              "      <td>0.000000</td>\n",
              "      <td>1.000000</td>\n",
              "      <td>0.000000</td>\n",
              "      <td>0.000000</td>\n",
              "      <td>0.000000</td>\n",
              "      <td>0.000000</td>\n",
              "      <td>0.000000</td>\n",
              "      <td>0.000000</td>\n",
              "      <td>0.000000</td>\n",
              "      <td>0.000000</td>\n",
              "      <td>0.000000</td>\n",
              "      <td>0.000000</td>\n",
              "      <td>0.000000</td>\n",
              "    </tr>\n",
              "    <tr>\n",
              "      <th>50%</th>\n",
              "      <td>27.000000</td>\n",
              "      <td>2.000000</td>\n",
              "      <td>0.000000</td>\n",
              "      <td>-1.000000</td>\n",
              "      <td>-1.000000</td>\n",
              "      <td>-1.000000</td>\n",
              "      <td>-1.000000</td>\n",
              "      <td>5.000000</td>\n",
              "      <td>3.000000</td>\n",
              "      <td>0.000000</td>\n",
              "      <td>4.000000</td>\n",
              "      <td>1.000000</td>\n",
              "      <td>1.00000</td>\n",
              "      <td>1.000000</td>\n",
              "      <td>1.000000</td>\n",
              "      <td>1.000000</td>\n",
              "      <td>4.000000</td>\n",
              "      <td>0.000000</td>\n",
              "      <td>0.000000</td>\n",
              "      <td>0.000000</td>\n",
              "      <td>0.000000</td>\n",
              "      <td>0.000000</td>\n",
              "      <td>0.000000</td>\n",
              "      <td>0.000000</td>\n",
              "      <td>0.000000</td>\n",
              "      <td>0.000000</td>\n",
              "      <td>0.000000</td>\n",
              "      <td>0.000000</td>\n",
              "      <td>0.000000</td>\n",
              "      <td>0.000000</td>\n",
              "      <td>0.000000</td>\n",
              "      <td>25.000000</td>\n",
              "      <td>5.000000</td>\n",
              "      <td>5.000000</td>\n",
              "      <td>0.088000</td>\n",
              "      <td>0.000000</td>\n",
              "      <td>0.000000</td>\n",
              "      <td>0.000000</td>\n",
              "      <td>0.000000</td>\n",
              "      <td>0.000000</td>\n",
              "      <td>0.000000</td>\n",
              "      <td>0.000000</td>\n",
              "      <td>0.000000</td>\n",
              "      <td>0.000000</td>\n",
              "      <td>0.000000</td>\n",
              "      <td>0.000000</td>\n",
              "      <td>0.000000</td>\n",
              "      <td>0.000000</td>\n",
              "      <td>0.000000</td>\n",
              "      <td>0.000000</td>\n",
              "      <td>0.000000</td>\n",
              "      <td>0.000000</td>\n",
              "      <td>0.000000</td>\n",
              "      <td>0.000000</td>\n",
              "      <td>0.000000</td>\n",
              "      <td>0.000000</td>\n",
              "      <td>1.000000</td>\n",
              "      <td>0.000000</td>\n",
              "      <td>0.000000</td>\n",
              "      <td>0.000000</td>\n",
              "      <td>1.000000</td>\n",
              "      <td>0.000000</td>\n",
              "      <td>0.000000</td>\n",
              "      <td>0.000000</td>\n",
              "      <td>0.000000</td>\n",
              "      <td>0.000000</td>\n",
              "      <td>1.000000</td>\n",
              "      <td>0.000000</td>\n",
              "      <td>1.000000</td>\n",
              "      <td>0.000000</td>\n",
              "      <td>0.000000</td>\n",
              "      <td>0.000000</td>\n",
              "      <td>0.000000</td>\n",
              "      <td>0.000000</td>\n",
              "      <td>0.000000</td>\n",
              "      <td>0.000000</td>\n",
              "      <td>0.000000</td>\n",
              "      <td>0.000000</td>\n",
              "      <td>0.000000</td>\n",
              "      <td>0.000000</td>\n",
              "    </tr>\n",
              "    <tr>\n",
              "      <th>75%</th>\n",
              "      <td>32.000000</td>\n",
              "      <td>5.000000</td>\n",
              "      <td>3.000000</td>\n",
              "      <td>-1.000000</td>\n",
              "      <td>-1.000000</td>\n",
              "      <td>-1.000000</td>\n",
              "      <td>-1.000000</td>\n",
              "      <td>10.000000</td>\n",
              "      <td>4.000000</td>\n",
              "      <td>0.000000</td>\n",
              "      <td>4.000000</td>\n",
              "      <td>1.000000</td>\n",
              "      <td>1.00000</td>\n",
              "      <td>1.000000</td>\n",
              "      <td>1.000000</td>\n",
              "      <td>1.000000</td>\n",
              "      <td>4.000000</td>\n",
              "      <td>0.000000</td>\n",
              "      <td>0.000000</td>\n",
              "      <td>0.000000</td>\n",
              "      <td>0.000000</td>\n",
              "      <td>0.000000</td>\n",
              "      <td>0.000000</td>\n",
              "      <td>0.000000</td>\n",
              "      <td>0.000000</td>\n",
              "      <td>0.000000</td>\n",
              "      <td>0.000000</td>\n",
              "      <td>0.000000</td>\n",
              "      <td>0.000000</td>\n",
              "      <td>0.000000</td>\n",
              "      <td>0.000000</td>\n",
              "      <td>45.000000</td>\n",
              "      <td>25.000000</td>\n",
              "      <td>13.000000</td>\n",
              "      <td>0.447000</td>\n",
              "      <td>1.000000</td>\n",
              "      <td>0.000000</td>\n",
              "      <td>0.000000</td>\n",
              "      <td>0.000000</td>\n",
              "      <td>0.000000</td>\n",
              "      <td>1.000000</td>\n",
              "      <td>0.000000</td>\n",
              "      <td>0.000000</td>\n",
              "      <td>0.000000</td>\n",
              "      <td>0.000000</td>\n",
              "      <td>0.000000</td>\n",
              "      <td>0.000000</td>\n",
              "      <td>0.000000</td>\n",
              "      <td>0.000000</td>\n",
              "      <td>0.000000</td>\n",
              "      <td>0.000000</td>\n",
              "      <td>0.000000</td>\n",
              "      <td>0.000000</td>\n",
              "      <td>0.000000</td>\n",
              "      <td>1.000000</td>\n",
              "      <td>0.000000</td>\n",
              "      <td>1.000000</td>\n",
              "      <td>0.000000</td>\n",
              "      <td>1.000000</td>\n",
              "      <td>0.000000</td>\n",
              "      <td>1.000000</td>\n",
              "      <td>0.000000</td>\n",
              "      <td>0.000000</td>\n",
              "      <td>0.000000</td>\n",
              "      <td>0.000000</td>\n",
              "      <td>0.000000</td>\n",
              "      <td>1.000000</td>\n",
              "      <td>0.000000</td>\n",
              "      <td>1.000000</td>\n",
              "      <td>0.000000</td>\n",
              "      <td>0.000000</td>\n",
              "      <td>0.000000</td>\n",
              "      <td>0.000000</td>\n",
              "      <td>0.000000</td>\n",
              "      <td>0.000000</td>\n",
              "      <td>0.000000</td>\n",
              "      <td>1.000000</td>\n",
              "      <td>1.000000</td>\n",
              "      <td>0.000000</td>\n",
              "      <td>0.000000</td>\n",
              "    </tr>\n",
              "    <tr>\n",
              "      <th>max</th>\n",
              "      <td>91.900000</td>\n",
              "      <td>14.000000</td>\n",
              "      <td>28.000000</td>\n",
              "      <td>28.000000</td>\n",
              "      <td>28.000000</td>\n",
              "      <td>27.000000</td>\n",
              "      <td>27.000000</td>\n",
              "      <td>21.000000</td>\n",
              "      <td>11.000000</td>\n",
              "      <td>15.000000</td>\n",
              "      <td>5.000000</td>\n",
              "      <td>2.000000</td>\n",
              "      <td>2.00000</td>\n",
              "      <td>2.000000</td>\n",
              "      <td>2.000000</td>\n",
              "      <td>2.000000</td>\n",
              "      <td>5.000000</td>\n",
              "      <td>1.000000</td>\n",
              "      <td>1.000000</td>\n",
              "      <td>1.000000</td>\n",
              "      <td>1.000000</td>\n",
              "      <td>1.000000</td>\n",
              "      <td>1.000000</td>\n",
              "      <td>1.000000</td>\n",
              "      <td>1.000000</td>\n",
              "      <td>1.000000</td>\n",
              "      <td>1.000000</td>\n",
              "      <td>1.000000</td>\n",
              "      <td>1.000000</td>\n",
              "      <td>1.000000</td>\n",
              "      <td>1.000000</td>\n",
              "      <td>95.000000</td>\n",
              "      <td>95.000000</td>\n",
              "      <td>100.000000</td>\n",
              "      <td>75.000000</td>\n",
              "      <td>1.000000</td>\n",
              "      <td>1.000000</td>\n",
              "      <td>1.000000</td>\n",
              "      <td>1.000000</td>\n",
              "      <td>1.000000</td>\n",
              "      <td>1.000000</td>\n",
              "      <td>1.000000</td>\n",
              "      <td>1.000000</td>\n",
              "      <td>1.000000</td>\n",
              "      <td>1.000000</td>\n",
              "      <td>1.000000</td>\n",
              "      <td>1.000000</td>\n",
              "      <td>1.000000</td>\n",
              "      <td>1.000000</td>\n",
              "      <td>1.000000</td>\n",
              "      <td>1.000000</td>\n",
              "      <td>1.000000</td>\n",
              "      <td>1.000000</td>\n",
              "      <td>1.000000</td>\n",
              "      <td>1.000000</td>\n",
              "      <td>1.000000</td>\n",
              "      <td>1.000000</td>\n",
              "      <td>1.000000</td>\n",
              "      <td>1.000000</td>\n",
              "      <td>1.000000</td>\n",
              "      <td>1.000000</td>\n",
              "      <td>1.000000</td>\n",
              "      <td>1.000000</td>\n",
              "      <td>1.000000</td>\n",
              "      <td>1.000000</td>\n",
              "      <td>1.000000</td>\n",
              "      <td>1.000000</td>\n",
              "      <td>1.000000</td>\n",
              "      <td>1.000000</td>\n",
              "      <td>1.000000</td>\n",
              "      <td>1.000000</td>\n",
              "      <td>1.000000</td>\n",
              "      <td>1.000000</td>\n",
              "      <td>1.000000</td>\n",
              "      <td>1.000000</td>\n",
              "      <td>1.000000</td>\n",
              "      <td>1.000000</td>\n",
              "      <td>1.000000</td>\n",
              "      <td>1.000000</td>\n",
              "      <td>1.000000</td>\n",
              "    </tr>\n",
              "  </tbody>\n",
              "</table>\n",
              "</div>"
            ],
            "text/plain": [
              "                bmi  ...  working_travel non critical\n",
              "count  41155.000000  ...                 41155.000000\n",
              "mean      28.593955  ...                     0.101810\n",
              "std        7.407103  ...                     0.302402\n",
              "min       10.500000  ...                     0.000000\n",
              "25%       23.500000  ...                     0.000000\n",
              "50%       27.000000  ...                     0.000000\n",
              "75%       32.000000  ...                     0.000000\n",
              "max       91.900000  ...                     1.000000\n",
              "\n",
              "[8 rows x 80 columns]"
            ]
          },
          "metadata": {
            "tags": []
          },
          "execution_count": 24
        }
      ]
    },
    {
      "cell_type": "code",
      "metadata": {
        "id": "80lzUowVkVMe",
        "outputId": "12964ebd-589c-40f0-ad11-b0885ad412d5",
        "colab": {
          "base_uri": "https://localhost:8080/"
        }
      },
      "source": [
        "pd.set_option('display.max_columns', None)\n",
        "pd.set_option('display.max_rows', None)\n",
        "df.columns.tolist()"
      ],
      "execution_count": null,
      "outputs": [
        {
          "output_type": "execute_result",
          "data": {
            "text/plain": [
              "['bmi',\n",
              " 'alcohol',\n",
              " 'cannabis',\n",
              " 'amphetamines',\n",
              " 'cocaine',\n",
              " 'lsd',\n",
              " 'mdma',\n",
              " 'contacts_count',\n",
              " 'house_count',\n",
              " 'public_transport_count',\n",
              " 'worried',\n",
              " 'rate_reducing_risk_single_social_distancing',\n",
              " 'rate_reducing_risk_single_washing_hands',\n",
              " 'rate_reducing_risk_house_social_distancing',\n",
              " 'rate_reducing_risk_house_washing_hands',\n",
              " 'rate_reducing_risk_single_sanitizer',\n",
              " 'rate_reducing_mask',\n",
              " 'covid19_symptoms',\n",
              " 'covid19_contact',\n",
              " 'asthma',\n",
              " 'kidney_disease',\n",
              " 'liver_disease',\n",
              " 'compromised_immune',\n",
              " 'heart_disease',\n",
              " 'lung_disease',\n",
              " 'diabetes',\n",
              " 'hiv_positive',\n",
              " 'hypertension',\n",
              " 'other_chronic',\n",
              " 'nursing_home',\n",
              " 'health_worker',\n",
              " 'opinion_infection',\n",
              " 'opinion_mortality',\n",
              " 'risk_infection',\n",
              " 'risk_mortality',\n",
              " 'sex_male',\n",
              " 'sex_other',\n",
              " 'age_100_110',\n",
              " 'age_10_20',\n",
              " 'age_20_30',\n",
              " 'age_30_40',\n",
              " 'age_40_50',\n",
              " 'age_50_60',\n",
              " 'age_60_70',\n",
              " 'age_70_80',\n",
              " 'age_80_90',\n",
              " 'age_90_100',\n",
              " 'blood_type_abp',\n",
              " 'blood_type_an',\n",
              " 'blood_type_ap',\n",
              " 'blood_type_bn',\n",
              " 'blood_type_bp',\n",
              " 'blood_type_on',\n",
              " 'blood_type_op',\n",
              " 'blood_type_unknown',\n",
              " 'insurance_no',\n",
              " 'insurance_yes',\n",
              " 'income_gov',\n",
              " 'income_high',\n",
              " 'income_low',\n",
              " 'income_med',\n",
              " 'race_black',\n",
              " 'race_blank',\n",
              " 'race_hispanic',\n",
              " 'race_mixed',\n",
              " 'race_other',\n",
              " 'race_white',\n",
              " 'immigrant_immigrant',\n",
              " 'immigrant_native',\n",
              " 'smoking_quit0',\n",
              " 'smoking_quit10',\n",
              " 'smoking_quit5',\n",
              " 'smoking_vape',\n",
              " 'smoking_yesheavy',\n",
              " 'smoking_yeslight',\n",
              " 'smoking_yesmedium',\n",
              " 'working_never',\n",
              " 'working_stopped',\n",
              " 'working_travel critical',\n",
              " 'working_travel non critical']"
            ]
          },
          "metadata": {
            "tags": []
          },
          "execution_count": 25
        }
      ]
    },
    {
      "cell_type": "code",
      "metadata": {
        "id": "hfoDPUVVjMiM",
        "outputId": "bc4fc33a-64a0-4608-95d6-9c72b05cba45",
        "colab": {
          "base_uri": "https://localhost:8080/",
          "height": 1000
        }
      },
      "source": [
        "corr = df.corr()\n",
        "plt.figure(figsize=(20,20))\n",
        "ax = sns.heatmap(\n",
        "    corr, \n",
        "    vmin=-1, vmax=1, center=0,\n",
        "    cmap=sns.diverging_palette(20, 220, n=200),\n",
        "    square=True\n",
        ")\n",
        "ax.set_xticklabels(\n",
        "    ax.get_xticklabels(),\n",
        "    rotation=45,\n",
        "    horizontalalignment='right'\n",
        ")"
      ],
      "execution_count": null,
      "outputs": [
        {
          "output_type": "execute_result",
          "data": {
            "text/plain": [
              "[Text(0.5, 0, 'bmi'),\n",
              " Text(1.5, 0, 'alcohol'),\n",
              " Text(2.5, 0, 'cannabis'),\n",
              " Text(3.5, 0, 'amphetamines'),\n",
              " Text(4.5, 0, 'cocaine'),\n",
              " Text(5.5, 0, 'lsd'),\n",
              " Text(6.5, 0, 'mdma'),\n",
              " Text(7.5, 0, 'contacts_count'),\n",
              " Text(8.5, 0, 'house_count'),\n",
              " Text(9.5, 0, 'public_transport_count'),\n",
              " Text(10.5, 0, 'worried'),\n",
              " Text(11.5, 0, 'rate_reducing_risk_single_social_distancing'),\n",
              " Text(12.5, 0, 'rate_reducing_risk_single_washing_hands'),\n",
              " Text(13.5, 0, 'rate_reducing_risk_house_social_distancing'),\n",
              " Text(14.5, 0, 'rate_reducing_risk_house_washing_hands'),\n",
              " Text(15.5, 0, 'rate_reducing_risk_single_sanitizer'),\n",
              " Text(16.5, 0, 'rate_reducing_mask'),\n",
              " Text(17.5, 0, 'covid19_symptoms'),\n",
              " Text(18.5, 0, 'covid19_contact'),\n",
              " Text(19.5, 0, 'asthma'),\n",
              " Text(20.5, 0, 'kidney_disease'),\n",
              " Text(21.5, 0, 'liver_disease'),\n",
              " Text(22.5, 0, 'compromised_immune'),\n",
              " Text(23.5, 0, 'heart_disease'),\n",
              " Text(24.5, 0, 'lung_disease'),\n",
              " Text(25.5, 0, 'diabetes'),\n",
              " Text(26.5, 0, 'hiv_positive'),\n",
              " Text(27.5, 0, 'hypertension'),\n",
              " Text(28.5, 0, 'other_chronic'),\n",
              " Text(29.5, 0, 'nursing_home'),\n",
              " Text(30.5, 0, 'health_worker'),\n",
              " Text(31.5, 0, 'opinion_infection'),\n",
              " Text(32.5, 0, 'opinion_mortality'),\n",
              " Text(33.5, 0, 'risk_infection'),\n",
              " Text(34.5, 0, 'risk_mortality'),\n",
              " Text(35.5, 0, 'sex_male'),\n",
              " Text(36.5, 0, 'sex_other'),\n",
              " Text(37.5, 0, 'age_100_110'),\n",
              " Text(38.5, 0, 'age_10_20'),\n",
              " Text(39.5, 0, 'age_20_30'),\n",
              " Text(40.5, 0, 'age_30_40'),\n",
              " Text(41.5, 0, 'age_40_50'),\n",
              " Text(42.5, 0, 'age_50_60'),\n",
              " Text(43.5, 0, 'age_60_70'),\n",
              " Text(44.5, 0, 'age_70_80'),\n",
              " Text(45.5, 0, 'age_80_90'),\n",
              " Text(46.5, 0, 'age_90_100'),\n",
              " Text(47.5, 0, 'blood_type_abp'),\n",
              " Text(48.5, 0, 'blood_type_an'),\n",
              " Text(49.5, 0, 'blood_type_ap'),\n",
              " Text(50.5, 0, 'blood_type_bn'),\n",
              " Text(51.5, 0, 'blood_type_bp'),\n",
              " Text(52.5, 0, 'blood_type_on'),\n",
              " Text(53.5, 0, 'blood_type_op'),\n",
              " Text(54.5, 0, 'blood_type_unknown'),\n",
              " Text(55.5, 0, 'insurance_no'),\n",
              " Text(56.5, 0, 'insurance_yes'),\n",
              " Text(57.5, 0, 'income_gov'),\n",
              " Text(58.5, 0, 'income_high'),\n",
              " Text(59.5, 0, 'income_low'),\n",
              " Text(60.5, 0, 'income_med'),\n",
              " Text(61.5, 0, 'race_black'),\n",
              " Text(62.5, 0, 'race_blank'),\n",
              " Text(63.5, 0, 'race_hispanic'),\n",
              " Text(64.5, 0, 'race_mixed'),\n",
              " Text(65.5, 0, 'race_other'),\n",
              " Text(66.5, 0, 'race_white'),\n",
              " Text(67.5, 0, 'immigrant_immigrant'),\n",
              " Text(68.5, 0, 'immigrant_native'),\n",
              " Text(69.5, 0, 'smoking_quit0'),\n",
              " Text(70.5, 0, 'smoking_quit10'),\n",
              " Text(71.5, 0, 'smoking_quit5'),\n",
              " Text(72.5, 0, 'smoking_vape'),\n",
              " Text(73.5, 0, 'smoking_yesheavy'),\n",
              " Text(74.5, 0, 'smoking_yeslight'),\n",
              " Text(75.5, 0, 'smoking_yesmedium'),\n",
              " Text(76.5, 0, 'working_never'),\n",
              " Text(77.5, 0, 'working_stopped'),\n",
              " Text(78.5, 0, 'working_travel critical'),\n",
              " Text(79.5, 0, 'working_travel non critical')]"
            ]
          },
          "metadata": {
            "tags": []
          },
          "execution_count": 26
        },
        {
          "output_type": "display_data",
          "data": {
            "image/png": "[encoded data removed]",
            "text/plain": [
              "<Figure size 1440x1440 with 2 Axes>"
            ]
          },
          "metadata": {
            "tags": [],
            "needs_background": "light"
          }
        }
      ]
    },
    {
      "cell_type": "code",
      "metadata": {
        "id": "8V_h4rGbIcET",
        "outputId": "0ce7c33c-f410-45b5-a4a8-ec9b6b6db177",
        "colab": {
          "base_uri": "https://localhost:8080/"
        }
      },
      "source": [
        "corr['risk_infection'].sort_values(ascending=False)"
      ],
      "execution_count": null,
      "outputs": [
        {
          "output_type": "execute_result",
          "data": {
            "text/plain": [
              "risk_infection                                 1.000000\n",
              "covid19_contact                                0.662996\n",
              "health_worker                                  0.530407\n",
              "covid19_symptoms                               0.510146\n",
              "working_travel critical                        0.439393\n",
              "contacts_count                                 0.357054\n",
              "opinion_infection                              0.206951\n",
              "public_transport_count                         0.188528\n",
              "nursing_home                                   0.157233\n",
              "working_travel non critical                    0.106558\n",
              "heart_disease                                  0.082024\n",
              "house_count                                    0.071523\n",
              "liver_disease                                  0.068450\n",
              "rate_reducing_risk_single_sanitizer            0.063733\n",
              "age_20_30                                      0.061934\n",
              "kidney_disease                                 0.061831\n",
              "mdma                                           0.055119\n",
              "amphetamines                                   0.048572\n",
              "age_90_100                                     0.043863\n",
              "smoking_yesheavy                               0.042959\n",
              "lsd                                            0.041947\n",
              "cocaine                                        0.041834\n",
              "smoking_yesmedium                              0.034582\n",
              "diabetes                                       0.031979\n",
              "lung_disease                                   0.031588\n",
              "income_low                                     0.031407\n",
              "race_mixed                                     0.030967\n",
              "race_black                                     0.030876\n",
              "insurance_no                                   0.029882\n",
              "age_30_40                                      0.027565\n",
              "smoking_vape                                   0.026152\n",
              "age_100_110                                    0.024862\n",
              "asthma                                         0.021064\n",
              "rate_reducing_mask                             0.019144\n",
              "race_blank                                     0.018114\n",
              "other_chronic                                  0.015581\n",
              "race_hispanic                                  0.015313\n",
              "smoking_yeslight                               0.015126\n",
              "smoking_quit0                                  0.014815\n",
              "blood_type_bp                                  0.014131\n",
              "blood_type_ap                                  0.013863\n",
              "age_10_20                                      0.013223\n",
              "race_other                                     0.012547\n",
              "risk_mortality                                 0.012495\n",
              "age_80_90                                      0.012253\n",
              "blood_type_abp                                 0.012118\n",
              "cannabis                                       0.011998\n",
              "bmi                                            0.010962\n",
              "compromised_immune                             0.008471\n",
              "income_med                                     0.008309\n",
              "immigrant_native                               0.006829\n",
              "hypertension                                   0.005851\n",
              "hiv_positive                                   0.005507\n",
              "blood_type_bn                                  0.002940\n",
              "blood_type_on                                  0.002482\n",
              "income_gov                                     0.001309\n",
              "sex_other                                     -0.000421\n",
              "blood_type_op                                 -0.001654\n",
              "opinion_mortality                             -0.003766\n",
              "immigrant_immigrant                           -0.006417\n",
              "blood_type_an                                 -0.007199\n",
              "sex_male                                      -0.007532\n",
              "smoking_quit5                                 -0.011697\n",
              "worried                                       -0.012136\n",
              "alcohol                                       -0.019386\n",
              "blood_type_unknown                            -0.021303\n",
              "age_40_50                                     -0.023180\n",
              "rate_reducing_risk_single_washing_hands       -0.025539\n",
              "age_50_60                                     -0.031150\n",
              "insurance_yes                                 -0.031791\n",
              "smoking_quit10                                -0.033715\n",
              "income_high                                   -0.034272\n",
              "age_70_80                                     -0.041072\n",
              "rate_reducing_risk_house_washing_hands        -0.049369\n",
              "race_white                                    -0.053365\n",
              "age_60_70                                     -0.054502\n",
              "rate_reducing_risk_house_social_distancing    -0.083279\n",
              "rate_reducing_risk_single_social_distancing   -0.098487\n",
              "working_never                                 -0.159317\n",
              "working_stopped                               -0.204335\n",
              "Name: risk_infection, dtype: float64"
            ]
          },
          "metadata": {
            "tags": []
          },
          "execution_count": 27
        }
      ]
    },
    {
      "cell_type": "markdown",
      "metadata": {
        "id": "JNl3ClDPLI5E"
      },
      "source": [
        "From the correlation values, we can see that there is varying extent to which the independent variables are correlated with the target. Lower correlation means weak linear relationship but there may be a strong non-linear relationship so, we can’t pass any judgement at this level."
      ]
    },
    {
      "cell_type": "code",
      "metadata": {
        "id": "67FTT7sSyvyw"
      },
      "source": [
        "df['ID'] = range(1, len(df) + 1)"
      ],
      "execution_count": null,
      "outputs": []
    },
    {
      "cell_type": "markdown",
      "metadata": {
        "id": "MEXWoqnZLfaE"
      },
      "source": [
        "After dropping rows with null values we have to do reindexing of rows"
      ]
    },
    {
      "cell_type": "code",
      "metadata": {
        "id": "Avv04txlyxbU"
      },
      "source": [
        "df.index = df['ID']"
      ],
      "execution_count": null,
      "outputs": []
    },
    {
      "cell_type": "code",
      "metadata": {
        "id": "h2r9JZYezg7F"
      },
      "source": [
        "df = df.drop(['ID'], axis=1)"
      ],
      "execution_count": null,
      "outputs": []
    },
    {
      "cell_type": "code",
      "metadata": {
        "id": "2O96gO-tWP3u",
        "outputId": "7fc3e9a1-e91f-48b5-d2c7-8452d47486b5",
        "colab": {
          "base_uri": "https://localhost:8080/",
          "height": 275
        }
      },
      "source": [
        "df.tail()"
      ],
      "execution_count": null,
      "outputs": [
        {
          "output_type": "execute_result",
          "data": {
            "text/html": [
              "<div>\n",
              "<style scoped>\n",
              "    .dataframe tbody tr th:only-of-type {\n",
              "        vertical-align: middle;\n",
              "    }\n",
              "\n",
              "    .dataframe tbody tr th {\n",
              "        vertical-align: top;\n",
              "    }\n",
              "\n",
              "    .dataframe thead th {\n",
              "        text-align: right;\n",
              "    }\n",
              "</style>\n",
              "<table border=\"1\" class=\"dataframe\">\n",
              "  <thead>\n",
              "    <tr style=\"text-align: right;\">\n",
              "      <th></th>\n",
              "      <th>bmi</th>\n",
              "      <th>alcohol</th>\n",
              "      <th>cannabis</th>\n",
              "      <th>amphetamines</th>\n",
              "      <th>cocaine</th>\n",
              "      <th>lsd</th>\n",
              "      <th>mdma</th>\n",
              "      <th>contacts_count</th>\n",
              "      <th>house_count</th>\n",
              "      <th>public_transport_count</th>\n",
              "      <th>worried</th>\n",
              "      <th>rate_reducing_risk_single_social_distancing</th>\n",
              "      <th>rate_reducing_risk_single_washing_hands</th>\n",
              "      <th>rate_reducing_risk_house_social_distancing</th>\n",
              "      <th>rate_reducing_risk_house_washing_hands</th>\n",
              "      <th>rate_reducing_risk_single_sanitizer</th>\n",
              "      <th>rate_reducing_mask</th>\n",
              "      <th>covid19_symptoms</th>\n",
              "      <th>covid19_contact</th>\n",
              "      <th>asthma</th>\n",
              "      <th>kidney_disease</th>\n",
              "      <th>liver_disease</th>\n",
              "      <th>compromised_immune</th>\n",
              "      <th>heart_disease</th>\n",
              "      <th>lung_disease</th>\n",
              "      <th>diabetes</th>\n",
              "      <th>hiv_positive</th>\n",
              "      <th>hypertension</th>\n",
              "      <th>other_chronic</th>\n",
              "      <th>nursing_home</th>\n",
              "      <th>health_worker</th>\n",
              "      <th>opinion_infection</th>\n",
              "      <th>opinion_mortality</th>\n",
              "      <th>risk_infection</th>\n",
              "      <th>risk_mortality</th>\n",
              "      <th>sex_male</th>\n",
              "      <th>sex_other</th>\n",
              "      <th>age_100_110</th>\n",
              "      <th>age_10_20</th>\n",
              "      <th>age_20_30</th>\n",
              "      <th>age_30_40</th>\n",
              "      <th>age_40_50</th>\n",
              "      <th>age_50_60</th>\n",
              "      <th>age_60_70</th>\n",
              "      <th>age_70_80</th>\n",
              "      <th>age_80_90</th>\n",
              "      <th>age_90_100</th>\n",
              "      <th>blood_type_abp</th>\n",
              "      <th>blood_type_an</th>\n",
              "      <th>blood_type_ap</th>\n",
              "      <th>blood_type_bn</th>\n",
              "      <th>blood_type_bp</th>\n",
              "      <th>blood_type_on</th>\n",
              "      <th>blood_type_op</th>\n",
              "      <th>blood_type_unknown</th>\n",
              "      <th>insurance_no</th>\n",
              "      <th>insurance_yes</th>\n",
              "      <th>income_gov</th>\n",
              "      <th>income_high</th>\n",
              "      <th>income_low</th>\n",
              "      <th>income_med</th>\n",
              "      <th>race_black</th>\n",
              "      <th>race_blank</th>\n",
              "      <th>race_hispanic</th>\n",
              "      <th>race_mixed</th>\n",
              "      <th>race_other</th>\n",
              "      <th>race_white</th>\n",
              "      <th>immigrant_immigrant</th>\n",
              "      <th>immigrant_native</th>\n",
              "      <th>smoking_quit0</th>\n",
              "      <th>smoking_quit10</th>\n",
              "      <th>smoking_quit5</th>\n",
              "      <th>smoking_vape</th>\n",
              "      <th>smoking_yesheavy</th>\n",
              "      <th>smoking_yeslight</th>\n",
              "      <th>smoking_yesmedium</th>\n",
              "      <th>working_never</th>\n",
              "      <th>working_stopped</th>\n",
              "      <th>working_travel critical</th>\n",
              "      <th>working_travel non critical</th>\n",
              "    </tr>\n",
              "    <tr>\n",
              "      <th>ID</th>\n",
              "      <th></th>\n",
              "      <th></th>\n",
              "      <th></th>\n",
              "      <th></th>\n",
              "      <th></th>\n",
              "      <th></th>\n",
              "      <th></th>\n",
              "      <th></th>\n",
              "      <th></th>\n",
              "      <th></th>\n",
              "      <th></th>\n",
              "      <th></th>\n",
              "      <th></th>\n",
              "      <th></th>\n",
              "      <th></th>\n",
              "      <th></th>\n",
              "      <th></th>\n",
              "      <th></th>\n",
              "      <th></th>\n",
              "      <th></th>\n",
              "      <th></th>\n",
              "      <th></th>\n",
              "      <th></th>\n",
              "      <th></th>\n",
              "      <th></th>\n",
              "      <th></th>\n",
              "      <th></th>\n",
              "      <th></th>\n",
              "      <th></th>\n",
              "      <th></th>\n",
              "      <th></th>\n",
              "      <th></th>\n",
              "      <th></th>\n",
              "      <th></th>\n",
              "      <th></th>\n",
              "      <th></th>\n",
              "      <th></th>\n",
              "      <th></th>\n",
              "      <th></th>\n",
              "      <th></th>\n",
              "      <th></th>\n",
              "      <th></th>\n",
              "      <th></th>\n",
              "      <th></th>\n",
              "      <th></th>\n",
              "      <th></th>\n",
              "      <th></th>\n",
              "      <th></th>\n",
              "      <th></th>\n",
              "      <th></th>\n",
              "      <th></th>\n",
              "      <th></th>\n",
              "      <th></th>\n",
              "      <th></th>\n",
              "      <th></th>\n",
              "      <th></th>\n",
              "      <th></th>\n",
              "      <th></th>\n",
              "      <th></th>\n",
              "      <th></th>\n",
              "      <th></th>\n",
              "      <th></th>\n",
              "      <th></th>\n",
              "      <th></th>\n",
              "      <th></th>\n",
              "      <th></th>\n",
              "      <th></th>\n",
              "      <th></th>\n",
              "      <th></th>\n",
              "      <th></th>\n",
              "      <th></th>\n",
              "      <th></th>\n",
              "      <th></th>\n",
              "      <th></th>\n",
              "      <th></th>\n",
              "      <th></th>\n",
              "      <th></th>\n",
              "      <th></th>\n",
              "      <th></th>\n",
              "      <th></th>\n",
              "    </tr>\n",
              "  </thead>\n",
              "  <tbody>\n",
              "    <tr>\n",
              "      <th>41151</th>\n",
              "      <td>42.2</td>\n",
              "      <td>2.0</td>\n",
              "      <td>2.0</td>\n",
              "      <td>-1.0</td>\n",
              "      <td>-1.0</td>\n",
              "      <td>-1.0</td>\n",
              "      <td>-1.0</td>\n",
              "      <td>10.0</td>\n",
              "      <td>3.0</td>\n",
              "      <td>0.0</td>\n",
              "      <td>4.0</td>\n",
              "      <td>-1</td>\n",
              "      <td>1</td>\n",
              "      <td>1</td>\n",
              "      <td>1</td>\n",
              "      <td>0</td>\n",
              "      <td>4.0</td>\n",
              "      <td>0</td>\n",
              "      <td>0</td>\n",
              "      <td>1</td>\n",
              "      <td>0</td>\n",
              "      <td>0</td>\n",
              "      <td>0</td>\n",
              "      <td>0</td>\n",
              "      <td>0</td>\n",
              "      <td>0</td>\n",
              "      <td>0</td>\n",
              "      <td>0</td>\n",
              "      <td>0</td>\n",
              "      <td>0</td>\n",
              "      <td>0</td>\n",
              "      <td>35.0</td>\n",
              "      <td>55.0</td>\n",
              "      <td>5.0</td>\n",
              "      <td>0.116</td>\n",
              "      <td>1</td>\n",
              "      <td>0</td>\n",
              "      <td>0</td>\n",
              "      <td>0</td>\n",
              "      <td>1</td>\n",
              "      <td>0</td>\n",
              "      <td>0</td>\n",
              "      <td>0</td>\n",
              "      <td>0</td>\n",
              "      <td>0</td>\n",
              "      <td>0</td>\n",
              "      <td>0</td>\n",
              "      <td>0</td>\n",
              "      <td>0</td>\n",
              "      <td>0</td>\n",
              "      <td>0</td>\n",
              "      <td>0</td>\n",
              "      <td>0</td>\n",
              "      <td>0</td>\n",
              "      <td>1</td>\n",
              "      <td>0</td>\n",
              "      <td>1</td>\n",
              "      <td>0</td>\n",
              "      <td>0</td>\n",
              "      <td>0</td>\n",
              "      <td>1</td>\n",
              "      <td>0</td>\n",
              "      <td>0</td>\n",
              "      <td>1</td>\n",
              "      <td>0</td>\n",
              "      <td>0</td>\n",
              "      <td>0</td>\n",
              "      <td>0</td>\n",
              "      <td>1</td>\n",
              "      <td>0</td>\n",
              "      <td>0</td>\n",
              "      <td>0</td>\n",
              "      <td>0</td>\n",
              "      <td>0</td>\n",
              "      <td>0</td>\n",
              "      <td>0</td>\n",
              "      <td>0</td>\n",
              "      <td>0</td>\n",
              "      <td>0</td>\n",
              "      <td>0</td>\n",
              "    </tr>\n",
              "    <tr>\n",
              "      <th>41152</th>\n",
              "      <td>27.7</td>\n",
              "      <td>1.0</td>\n",
              "      <td>27.0</td>\n",
              "      <td>-1.0</td>\n",
              "      <td>-1.0</td>\n",
              "      <td>-1.0</td>\n",
              "      <td>-1.0</td>\n",
              "      <td>0.0</td>\n",
              "      <td>1.0</td>\n",
              "      <td>0.0</td>\n",
              "      <td>4.0</td>\n",
              "      <td>1</td>\n",
              "      <td>1</td>\n",
              "      <td>1</td>\n",
              "      <td>1</td>\n",
              "      <td>1</td>\n",
              "      <td>4.0</td>\n",
              "      <td>0</td>\n",
              "      <td>0</td>\n",
              "      <td>0</td>\n",
              "      <td>0</td>\n",
              "      <td>0</td>\n",
              "      <td>0</td>\n",
              "      <td>0</td>\n",
              "      <td>0</td>\n",
              "      <td>0</td>\n",
              "      <td>0</td>\n",
              "      <td>0</td>\n",
              "      <td>0</td>\n",
              "      <td>0</td>\n",
              "      <td>0</td>\n",
              "      <td>45.0</td>\n",
              "      <td>25.0</td>\n",
              "      <td>13.0</td>\n",
              "      <td>0.050</td>\n",
              "      <td>0</td>\n",
              "      <td>0</td>\n",
              "      <td>0</td>\n",
              "      <td>0</td>\n",
              "      <td>1</td>\n",
              "      <td>0</td>\n",
              "      <td>0</td>\n",
              "      <td>0</td>\n",
              "      <td>0</td>\n",
              "      <td>0</td>\n",
              "      <td>0</td>\n",
              "      <td>0</td>\n",
              "      <td>0</td>\n",
              "      <td>0</td>\n",
              "      <td>0</td>\n",
              "      <td>0</td>\n",
              "      <td>0</td>\n",
              "      <td>0</td>\n",
              "      <td>0</td>\n",
              "      <td>1</td>\n",
              "      <td>0</td>\n",
              "      <td>1</td>\n",
              "      <td>0</td>\n",
              "      <td>0</td>\n",
              "      <td>1</td>\n",
              "      <td>0</td>\n",
              "      <td>0</td>\n",
              "      <td>0</td>\n",
              "      <td>0</td>\n",
              "      <td>0</td>\n",
              "      <td>0</td>\n",
              "      <td>1</td>\n",
              "      <td>0</td>\n",
              "      <td>1</td>\n",
              "      <td>0</td>\n",
              "      <td>0</td>\n",
              "      <td>1</td>\n",
              "      <td>0</td>\n",
              "      <td>0</td>\n",
              "      <td>0</td>\n",
              "      <td>0</td>\n",
              "      <td>0</td>\n",
              "      <td>0</td>\n",
              "      <td>0</td>\n",
              "      <td>1</td>\n",
              "    </tr>\n",
              "    <tr>\n",
              "      <th>41153</th>\n",
              "      <td>42.2</td>\n",
              "      <td>0.0</td>\n",
              "      <td>28.0</td>\n",
              "      <td>-1.0</td>\n",
              "      <td>0.0</td>\n",
              "      <td>0.0</td>\n",
              "      <td>0.0</td>\n",
              "      <td>2.0</td>\n",
              "      <td>3.0</td>\n",
              "      <td>0.0</td>\n",
              "      <td>4.0</td>\n",
              "      <td>2</td>\n",
              "      <td>2</td>\n",
              "      <td>2</td>\n",
              "      <td>2</td>\n",
              "      <td>2</td>\n",
              "      <td>5.0</td>\n",
              "      <td>0</td>\n",
              "      <td>0</td>\n",
              "      <td>1</td>\n",
              "      <td>0</td>\n",
              "      <td>0</td>\n",
              "      <td>0</td>\n",
              "      <td>0</td>\n",
              "      <td>0</td>\n",
              "      <td>0</td>\n",
              "      <td>0</td>\n",
              "      <td>0</td>\n",
              "      <td>0</td>\n",
              "      <td>0</td>\n",
              "      <td>0</td>\n",
              "      <td>65.0</td>\n",
              "      <td>25.0</td>\n",
              "      <td>5.0</td>\n",
              "      <td>0.056</td>\n",
              "      <td>0</td>\n",
              "      <td>0</td>\n",
              "      <td>0</td>\n",
              "      <td>0</td>\n",
              "      <td>1</td>\n",
              "      <td>0</td>\n",
              "      <td>0</td>\n",
              "      <td>0</td>\n",
              "      <td>0</td>\n",
              "      <td>0</td>\n",
              "      <td>0</td>\n",
              "      <td>0</td>\n",
              "      <td>0</td>\n",
              "      <td>0</td>\n",
              "      <td>0</td>\n",
              "      <td>0</td>\n",
              "      <td>0</td>\n",
              "      <td>0</td>\n",
              "      <td>1</td>\n",
              "      <td>0</td>\n",
              "      <td>1</td>\n",
              "      <td>0</td>\n",
              "      <td>0</td>\n",
              "      <td>1</td>\n",
              "      <td>0</td>\n",
              "      <td>0</td>\n",
              "      <td>0</td>\n",
              "      <td>0</td>\n",
              "      <td>0</td>\n",
              "      <td>0</td>\n",
              "      <td>0</td>\n",
              "      <td>1</td>\n",
              "      <td>0</td>\n",
              "      <td>1</td>\n",
              "      <td>0</td>\n",
              "      <td>0</td>\n",
              "      <td>0</td>\n",
              "      <td>0</td>\n",
              "      <td>0</td>\n",
              "      <td>1</td>\n",
              "      <td>0</td>\n",
              "      <td>1</td>\n",
              "      <td>0</td>\n",
              "      <td>0</td>\n",
              "      <td>0</td>\n",
              "    </tr>\n",
              "    <tr>\n",
              "      <th>41154</th>\n",
              "      <td>23.9</td>\n",
              "      <td>12.0</td>\n",
              "      <td>12.0</td>\n",
              "      <td>-1.0</td>\n",
              "      <td>-1.0</td>\n",
              "      <td>-1.0</td>\n",
              "      <td>-1.0</td>\n",
              "      <td>18.0</td>\n",
              "      <td>3.0</td>\n",
              "      <td>0.0</td>\n",
              "      <td>2.0</td>\n",
              "      <td>0</td>\n",
              "      <td>1</td>\n",
              "      <td>0</td>\n",
              "      <td>1</td>\n",
              "      <td>0</td>\n",
              "      <td>3.0</td>\n",
              "      <td>0</td>\n",
              "      <td>0</td>\n",
              "      <td>0</td>\n",
              "      <td>0</td>\n",
              "      <td>0</td>\n",
              "      <td>0</td>\n",
              "      <td>0</td>\n",
              "      <td>0</td>\n",
              "      <td>0</td>\n",
              "      <td>0</td>\n",
              "      <td>0</td>\n",
              "      <td>0</td>\n",
              "      <td>0</td>\n",
              "      <td>0</td>\n",
              "      <td>5.0</td>\n",
              "      <td>5.0</td>\n",
              "      <td>13.0</td>\n",
              "      <td>0.964</td>\n",
              "      <td>1</td>\n",
              "      <td>0</td>\n",
              "      <td>0</td>\n",
              "      <td>0</td>\n",
              "      <td>0</td>\n",
              "      <td>0</td>\n",
              "      <td>0</td>\n",
              "      <td>0</td>\n",
              "      <td>1</td>\n",
              "      <td>0</td>\n",
              "      <td>0</td>\n",
              "      <td>0</td>\n",
              "      <td>0</td>\n",
              "      <td>0</td>\n",
              "      <td>0</td>\n",
              "      <td>0</td>\n",
              "      <td>0</td>\n",
              "      <td>0</td>\n",
              "      <td>1</td>\n",
              "      <td>0</td>\n",
              "      <td>0</td>\n",
              "      <td>1</td>\n",
              "      <td>0</td>\n",
              "      <td>1</td>\n",
              "      <td>0</td>\n",
              "      <td>0</td>\n",
              "      <td>0</td>\n",
              "      <td>0</td>\n",
              "      <td>0</td>\n",
              "      <td>0</td>\n",
              "      <td>0</td>\n",
              "      <td>1</td>\n",
              "      <td>0</td>\n",
              "      <td>1</td>\n",
              "      <td>0</td>\n",
              "      <td>0</td>\n",
              "      <td>0</td>\n",
              "      <td>0</td>\n",
              "      <td>0</td>\n",
              "      <td>1</td>\n",
              "      <td>0</td>\n",
              "      <td>0</td>\n",
              "      <td>0</td>\n",
              "      <td>0</td>\n",
              "      <td>1</td>\n",
              "    </tr>\n",
              "    <tr>\n",
              "      <th>41155</th>\n",
              "      <td>27.5</td>\n",
              "      <td>8.0</td>\n",
              "      <td>13.0</td>\n",
              "      <td>-1.0</td>\n",
              "      <td>-1.0</td>\n",
              "      <td>-1.0</td>\n",
              "      <td>-1.0</td>\n",
              "      <td>12.0</td>\n",
              "      <td>2.0</td>\n",
              "      <td>0.0</td>\n",
              "      <td>4.0</td>\n",
              "      <td>0</td>\n",
              "      <td>1</td>\n",
              "      <td>1</td>\n",
              "      <td>1</td>\n",
              "      <td>2</td>\n",
              "      <td>4.0</td>\n",
              "      <td>0</td>\n",
              "      <td>0</td>\n",
              "      <td>0</td>\n",
              "      <td>0</td>\n",
              "      <td>0</td>\n",
              "      <td>0</td>\n",
              "      <td>0</td>\n",
              "      <td>0</td>\n",
              "      <td>0</td>\n",
              "      <td>0</td>\n",
              "      <td>0</td>\n",
              "      <td>0</td>\n",
              "      <td>0</td>\n",
              "      <td>0</td>\n",
              "      <td>55.0</td>\n",
              "      <td>5.0</td>\n",
              "      <td>13.0</td>\n",
              "      <td>0.050</td>\n",
              "      <td>0</td>\n",
              "      <td>0</td>\n",
              "      <td>0</td>\n",
              "      <td>0</td>\n",
              "      <td>1</td>\n",
              "      <td>0</td>\n",
              "      <td>0</td>\n",
              "      <td>0</td>\n",
              "      <td>0</td>\n",
              "      <td>0</td>\n",
              "      <td>0</td>\n",
              "      <td>0</td>\n",
              "      <td>0</td>\n",
              "      <td>0</td>\n",
              "      <td>0</td>\n",
              "      <td>0</td>\n",
              "      <td>0</td>\n",
              "      <td>0</td>\n",
              "      <td>0</td>\n",
              "      <td>1</td>\n",
              "      <td>0</td>\n",
              "      <td>1</td>\n",
              "      <td>0</td>\n",
              "      <td>0</td>\n",
              "      <td>1</td>\n",
              "      <td>0</td>\n",
              "      <td>0</td>\n",
              "      <td>0</td>\n",
              "      <td>0</td>\n",
              "      <td>0</td>\n",
              "      <td>0</td>\n",
              "      <td>1</td>\n",
              "      <td>0</td>\n",
              "      <td>1</td>\n",
              "      <td>0</td>\n",
              "      <td>0</td>\n",
              "      <td>0</td>\n",
              "      <td>0</td>\n",
              "      <td>0</td>\n",
              "      <td>0</td>\n",
              "      <td>0</td>\n",
              "      <td>0</td>\n",
              "      <td>0</td>\n",
              "      <td>0</td>\n",
              "      <td>1</td>\n",
              "    </tr>\n",
              "  </tbody>\n",
              "</table>\n",
              "</div>"
            ],
            "text/plain": [
              "        bmi  alcohol  cannabis  amphetamines  cocaine  lsd  mdma  \\\n",
              "ID                                                                 \n",
              "41151  42.2      2.0       2.0          -1.0     -1.0 -1.0  -1.0   \n",
              "41152  27.7      1.0      27.0          -1.0     -1.0 -1.0  -1.0   \n",
              "41153  42.2      0.0      28.0          -1.0      0.0  0.0   0.0   \n",
              "41154  23.9     12.0      12.0          -1.0     -1.0 -1.0  -1.0   \n",
              "41155  27.5      8.0      13.0          -1.0     -1.0 -1.0  -1.0   \n",
              "\n",
              "       contacts_count  house_count  public_transport_count  worried  \\\n",
              "ID                                                                    \n",
              "41151            10.0          3.0                     0.0      4.0   \n",
              "41152             0.0          1.0                     0.0      4.0   \n",
              "41153             2.0          3.0                     0.0      4.0   \n",
              "41154            18.0          3.0                     0.0      2.0   \n",
              "41155            12.0          2.0                     0.0      4.0   \n",
              "\n",
              "       rate_reducing_risk_single_social_distancing  \\\n",
              "ID                                                   \n",
              "41151                                           -1   \n",
              "41152                                            1   \n",
              "41153                                            2   \n",
              "41154                                            0   \n",
              "41155                                            0   \n",
              "\n",
              "       rate_reducing_risk_single_washing_hands  \\\n",
              "ID                                               \n",
              "41151                                        1   \n",
              "41152                                        1   \n",
              "41153                                        2   \n",
              "41154                                        1   \n",
              "41155                                        1   \n",
              "\n",
              "       rate_reducing_risk_house_social_distancing  \\\n",
              "ID                                                  \n",
              "41151                                           1   \n",
              "41152                                           1   \n",
              "41153                                           2   \n",
              "41154                                           0   \n",
              "41155                                           1   \n",
              "\n",
              "       rate_reducing_risk_house_washing_hands  \\\n",
              "ID                                              \n",
              "41151                                       1   \n",
              "41152                                       1   \n",
              "41153                                       2   \n",
              "41154                                       1   \n",
              "41155                                       1   \n",
              "\n",
              "       rate_reducing_risk_single_sanitizer  rate_reducing_mask  \\\n",
              "ID                                                               \n",
              "41151                                    0                 4.0   \n",
              "41152                                    1                 4.0   \n",
              "41153                                    2                 5.0   \n",
              "41154                                    0                 3.0   \n",
              "41155                                    2                 4.0   \n",
              "\n",
              "       covid19_symptoms  covid19_contact  asthma  kidney_disease  \\\n",
              "ID                                                                 \n",
              "41151                 0                0       1               0   \n",
              "41152                 0                0       0               0   \n",
              "41153                 0                0       1               0   \n",
              "41154                 0                0       0               0   \n",
              "41155                 0                0       0               0   \n",
              "\n",
              "       liver_disease  compromised_immune  heart_disease  lung_disease  \\\n",
              "ID                                                                      \n",
              "41151              0                   0              0             0   \n",
              "41152              0                   0              0             0   \n",
              "41153              0                   0              0             0   \n",
              "41154              0                   0              0             0   \n",
              "41155              0                   0              0             0   \n",
              "\n",
              "       diabetes  hiv_positive  hypertension  other_chronic  nursing_home  \\\n",
              "ID                                                                         \n",
              "41151         0             0             0              0             0   \n",
              "41152         0             0             0              0             0   \n",
              "41153         0             0             0              0             0   \n",
              "41154         0             0             0              0             0   \n",
              "41155         0             0             0              0             0   \n",
              "\n",
              "       health_worker  opinion_infection  opinion_mortality  risk_infection  \\\n",
              "ID                                                                           \n",
              "41151              0               35.0               55.0             5.0   \n",
              "41152              0               45.0               25.0            13.0   \n",
              "41153              0               65.0               25.0             5.0   \n",
              "41154              0                5.0                5.0            13.0   \n",
              "41155              0               55.0                5.0            13.0   \n",
              "\n",
              "       risk_mortality  sex_male  sex_other  age_100_110  age_10_20  age_20_30  \\\n",
              "ID                                                                              \n",
              "41151           0.116         1          0            0          0          1   \n",
              "41152           0.050         0          0            0          0          1   \n",
              "41153           0.056         0          0            0          0          1   \n",
              "41154           0.964         1          0            0          0          0   \n",
              "41155           0.050         0          0            0          0          1   \n",
              "\n",
              "       age_30_40  age_40_50  age_50_60  age_60_70  age_70_80  age_80_90  \\\n",
              "ID                                                                        \n",
              "41151          0          0          0          0          0          0   \n",
              "41152          0          0          0          0          0          0   \n",
              "41153          0          0          0          0          0          0   \n",
              "41154          0          0          0          1          0          0   \n",
              "41155          0          0          0          0          0          0   \n",
              "\n",
              "       age_90_100  blood_type_abp  blood_type_an  blood_type_ap  \\\n",
              "ID                                                                \n",
              "41151           0               0              0              0   \n",
              "41152           0               0              0              0   \n",
              "41153           0               0              0              0   \n",
              "41154           0               0              0              0   \n",
              "41155           0               0              0              0   \n",
              "\n",
              "       blood_type_bn  blood_type_bp  blood_type_on  blood_type_op  \\\n",
              "ID                                                                  \n",
              "41151              0              0              0              0   \n",
              "41152              0              0              0              0   \n",
              "41153              0              0              0              1   \n",
              "41154              0              0              0              1   \n",
              "41155              0              0              0              0   \n",
              "\n",
              "       blood_type_unknown  insurance_no  insurance_yes  income_gov  \\\n",
              "ID                                                                   \n",
              "41151                   1             0              1           0   \n",
              "41152                   1             0              1           0   \n",
              "41153                   0             1              0           0   \n",
              "41154                   0             0              1           0   \n",
              "41155                   1             0              1           0   \n",
              "\n",
              "       income_high  income_low  income_med  race_black  race_blank  \\\n",
              "ID                                                                   \n",
              "41151            0           0           1           0           0   \n",
              "41152            0           1           0           0           0   \n",
              "41153            1           0           0           0           0   \n",
              "41154            1           0           0           0           0   \n",
              "41155            0           1           0           0           0   \n",
              "\n",
              "       race_hispanic  race_mixed  race_other  race_white  immigrant_immigrant  \\\n",
              "ID                                                                              \n",
              "41151              1           0           0           0                    0   \n",
              "41152              0           0           0           1                    0   \n",
              "41153              0           0           0           1                    0   \n",
              "41154              0           0           0           1                    0   \n",
              "41155              0           0           0           1                    0   \n",
              "\n",
              "       immigrant_native  smoking_quit0  smoking_quit10  smoking_quit5  \\\n",
              "ID                                                                      \n",
              "41151                 1              0               0              0   \n",
              "41152                 1              0               0              1   \n",
              "41153                 1              0               0              0   \n",
              "41154                 1              0               0              0   \n",
              "41155                 1              0               0              0   \n",
              "\n",
              "       smoking_vape  smoking_yesheavy  smoking_yeslight  smoking_yesmedium  \\\n",
              "ID                                                                           \n",
              "41151             0                 0                 0                  0   \n",
              "41152             0                 0                 0                  0   \n",
              "41153             0                 0                 1                  0   \n",
              "41154             0                 0                 1                  0   \n",
              "41155             0                 0                 0                  0   \n",
              "\n",
              "       working_never  working_stopped  working_travel critical  \\\n",
              "ID                                                               \n",
              "41151              0                0                        0   \n",
              "41152              0                0                        0   \n",
              "41153              1                0                        0   \n",
              "41154              0                0                        0   \n",
              "41155              0                0                        0   \n",
              "\n",
              "       working_travel non critical  \n",
              "ID                                  \n",
              "41151                            0  \n",
              "41152                            1  \n",
              "41153                            0  \n",
              "41154                            1  \n",
              "41155                            1  "
            ]
          },
          "metadata": {
            "tags": []
          },
          "execution_count": 31
        }
      ]
    },
    {
      "cell_type": "markdown",
      "metadata": {
        "id": "TGUmDaclLt8r"
      },
      "source": [
        "Setting risk_infection as target variable y"
      ]
    },
    {
      "cell_type": "code",
      "metadata": {
        "id": "kiLnJ-sAjQ8E"
      },
      "source": [
        "X = df.drop(['risk_infection'], axis = 1)\n",
        "y = df['risk_infection']"
      ],
      "execution_count": null,
      "outputs": []
    },
    {
      "cell_type": "markdown",
      "metadata": {
        "id": "0d0O9E3hL71y"
      },
      "source": [
        "Train-test split with 30% test data"
      ]
    },
    {
      "cell_type": "code",
      "metadata": {
        "id": "Omc78yPOjfkx"
      },
      "source": [
        "from sklearn.model_selection import train_test_split\n",
        "X_train, X_test, y_train, y_test = train_test_split(X,y,random_state=0, test_size=0.3)"
      ],
      "execution_count": null,
      "outputs": []
    },
    {
      "cell_type": "code",
      "metadata": {
        "id": "d5vzj5Wxjvgo"
      },
      "source": [
        "from sklearn.linear_model import LinearRegression\n",
        "import xgboost as xgb\n",
        "from sklearn.ensemble import AdaBoostRegressor\n",
        "from sklearn.tree import DecisionTreeRegressor\n",
        "from sklearn.ensemble import RandomForestRegressor\n",
        "from sklearn.neighbors import KNeighborsRegressor\n",
        "from sklearn.svm import SVR\n",
        "from sklearn import model_selection\n",
        "from sklearn.metrics import mean_squared_error, r2_score\n",
        "from sklearn.model_selection import GridSearchCV\n",
        "import warnings\n",
        "warnings.filterwarnings('ignore')\n"
      ],
      "execution_count": null,
      "outputs": []
    },
    {
      "cell_type": "markdown",
      "metadata": {
        "id": "pguqBjBUozIB"
      },
      "source": [
        "**Selecting the features for linear regression**\n",
        "\n",
        "With backward elimination, deselect features that have p_values > 0.05 which is interpreted as a failure to explain the change in the target other than chance. The following code returns only the selected features with p_values < 0.05."
      ]
    },
    {
      "cell_type": "code",
      "metadata": {
        "id": "4OgZTVs3jyGp",
        "outputId": "a38d5a87-30ef-480b-d99e-35d24ea3fd8a",
        "colab": {
          "base_uri": "https://localhost:8080/"
        }
      },
      "source": [
        "# Linear Regression\n",
        "X1 = sm.add_constant(X_train)\n",
        "ols = sm.OLS(y_train,X1)\n",
        "lr = ols.fit()\n",
        "\n",
        "selected_features = list(X.columns)\n",
        "pmax = 1\n",
        "while (len(selected_features)>0):\n",
        "    p= []\n",
        "    X_1 = X[selected_features]\n",
        "    X_1 = sm.add_constant(X_1)\n",
        "    model = sm.OLS(y,X_1).fit()\n",
        "    p = pd.Series(model.pvalues.values[1:],index = selected_features)      \n",
        "    pmax = max(p)\n",
        "    feature_with_p_max = p.idxmax()\n",
        "    if(pmax>0.05):\n",
        "        selected_features.remove(feature_with_p_max)\n",
        "    else:\n",
        "        break  \n",
        "        \n",
        "print('The selected features are :', selected_features)"
      ],
      "execution_count": null,
      "outputs": [
        {
          "output_type": "stream",
          "text": [
            "The selected features are : ['bmi', 'cannabis', 'amphetamines', 'lsd', 'house_count', 'public_transport_count', 'rate_reducing_risk_house_social_distancing', 'rate_reducing_risk_house_washing_hands', 'rate_reducing_mask', 'covid19_symptoms', 'covid19_contact', 'kidney_disease', 'liver_disease', 'heart_disease', 'lung_disease', 'diabetes', 'nursing_home', 'health_worker', 'opinion_infection', 'opinion_mortality', 'risk_mortality', 'sex_male', 'age_10_20', 'age_20_30', 'age_30_40', 'age_50_60', 'age_60_70', 'age_80_90', 'age_90_100', 'blood_type_ap', 'blood_type_bp', 'insurance_yes', 'income_low', 'race_blank', 'race_hispanic', 'race_mixed', 'race_other', 'race_white', 'smoking_yesheavy', 'smoking_yeslight', 'working_travel critical', 'working_travel non critical']\n"
          ],
          "name": "stdout"
        }
      ]
    },
    {
      "cell_type": "code",
      "metadata": {
        "id": "aOQNEUyTnpKt",
        "outputId": "7045cc4b-317b-41d5-9fbf-2ec2dfa90dad",
        "colab": {
          "base_uri": "https://localhost:8080/"
        }
      },
      "source": [
        "print(model.pvalues)"
      ],
      "execution_count": null,
      "outputs": [
        {
          "output_type": "stream",
          "text": [
            "const                                         3.133229e-105\n",
            "bmi                                            1.291895e-02\n",
            "cannabis                                       1.386698e-02\n",
            "amphetamines                                   3.397303e-05\n",
            "lsd                                            5.280891e-07\n",
            "house_count                                    2.140660e-68\n",
            "public_transport_count                         0.000000e+00\n",
            "rate_reducing_risk_house_social_distancing     1.141459e-03\n",
            "rate_reducing_risk_house_washing_hands         2.324026e-02\n",
            "rate_reducing_mask                             2.804496e-02\n",
            "covid19_symptoms                               0.000000e+00\n",
            "covid19_contact                                0.000000e+00\n",
            "kidney_disease                                 2.866702e-85\n",
            "liver_disease                                 2.080111e-122\n",
            "heart_disease                                  0.000000e+00\n",
            "lung_disease                                   3.833513e-20\n",
            "diabetes                                       3.614481e-71\n",
            "nursing_home                                   0.000000e+00\n",
            "health_worker                                  0.000000e+00\n",
            "opinion_infection                              7.239192e-15\n",
            "opinion_mortality                              2.128809e-04\n",
            "risk_mortality                                 7.466884e-03\n",
            "sex_male                                       3.112162e-03\n",
            "age_10_20                                      4.477629e-03\n",
            "age_20_30                                      3.773242e-04\n",
            "age_30_40                                      1.069186e-02\n",
            "age_50_60                                      6.812476e-03\n",
            "age_60_70                                      2.676173e-02\n",
            "age_80_90                                      1.668344e-02\n",
            "age_90_100                                     3.009100e-05\n",
            "blood_type_ap                                  1.577195e-02\n",
            "blood_type_bp                                  1.885200e-02\n",
            "insurance_yes                                  1.056837e-05\n",
            "income_low                                     3.348521e-02\n",
            "race_blank                                     2.454391e-05\n",
            "race_hispanic                                  8.789541e-04\n",
            "race_mixed                                     2.457050e-05\n",
            "race_other                                     3.789064e-02\n",
            "race_white                                     1.086832e-13\n",
            "smoking_yesheavy                               2.212792e-04\n",
            "smoking_yeslight                               1.326153e-02\n",
            "working_travel critical                        0.000000e+00\n",
            "working_travel non critical                    0.000000e+00\n",
            "dtype: float64\n"
          ],
          "name": "stdout"
        }
      ]
    },
    {
      "cell_type": "markdown",
      "metadata": {
        "id": "E9xzWueRN2Hf"
      },
      "source": [
        "### Hyperparameter Tuning using GridsearchCV(Cross validations)"
      ]
    },
    {
      "cell_type": "code",
      "metadata": {
        "id": "SgzZ2crmj1Uy",
        "outputId": "7bfa80df-ee41-46c6-b889-3689818b1eae",
        "colab": {
          "base_uri": "https://localhost:8080/"
        }
      },
      "source": [
        "# Decision Tree\n",
        "tuned_parameters = [{'max_depth': [1,2,3,4,5,10, 15, 20, 25, 50, 100,200]}]\n",
        "MSE_dt = ['mean_squared_error(y_test,y_pred4)']\n",
        "for value in MSE_dt:\n",
        "    regressor_dt = GridSearchCV(DecisionTreeRegressor(), tuned_parameters, cv=4)\n",
        "    regressor_dt.fit(X_train, y_train)\n",
        "    y_true, y_pred4 = y_test, regressor_dt.predict(X_test)\n",
        "    \n",
        "print('The optimum max_depth for Decision Tree is: ', regressor_dt.best_params_ )"
      ],
      "execution_count": null,
      "outputs": [
        {
          "output_type": "stream",
          "text": [
            "The optimum max_depth for Decision Tree is:  {'max_depth': 10}\n"
          ],
          "name": "stdout"
        }
      ]
    },
    {
      "cell_type": "code",
      "metadata": {
        "id": "rNrT0lOony14",
        "outputId": "7197a9cb-7492-40c2-de34-a3c275dd294b",
        "colab": {
          "base_uri": "https://localhost:8080/"
        }
      },
      "source": [
        "# Random Forests \n",
        "tuned_parameters = [{'max_depth': [5,10, 15, 20, 50, 70], 'n_estimators': [10, 25, 50, 100,150, 200, 250]}]\n",
        "\n",
        "MSE_rf = ['mean_squared_error(y_test, y_pred5)']\n",
        "for value in MSE_rf:\n",
        "    regr_rf = GridSearchCV(RandomForestRegressor(), tuned_parameters, cv=4)\n",
        "    regr_rf.fit(X_train, y_train)\n",
        "    y_true, y_pred5 = y_test, regr_rf.predict(X_test)\n",
        "    \n",
        "print('The best hyper-parameters for Random Forests are: ',regr_rf.best_params_)"
      ],
      "execution_count": null,
      "outputs": [
        {
          "output_type": "stream",
          "text": [
            "The best hyper-parameters for Random Forests are:  {'max_depth': 10, 'n_estimators': 200}\n"
          ],
          "name": "stdout"
        }
      ]
    },
    {
      "cell_type": "markdown",
      "metadata": {
        "id": "dCyVJsm9yLm3"
      },
      "source": [
        "When we have features with values at different scales, it is very important to standardize them to the same range so that the algorithm does not weigh greater values, higher and consider smaller values as the lower values, regardless of the unit of the values. This is crucial for distance-based algorithms such as KNN, SVM, Linear Regression, etc. \n",
        "\n",
        "We choose RobustScaler for scaling as it is based on percentiles and hence not easily influenced by outliers."
      ]
    },
    {
      "cell_type": "code",
      "metadata": {
        "id": "mvflGI85ScKr"
      },
      "source": [
        "scaler = preprocessing.RobustScaler() # Features Scaling is required for distance-based algorithms\n",
        "X_train_scaled = scaler.fit_transform(X_train)\n",
        "X_test_scaled = scaler.fit_transform(X_test)"
      ],
      "execution_count": null,
      "outputs": []
    },
    {
      "cell_type": "code",
      "metadata": {
        "id": "eaJmdlZcn3ck",
        "outputId": "fefe55ed-d65a-49a8-851c-c9225265dfa1",
        "colab": {
          "base_uri": "https://localhost:8080/"
        }
      },
      "source": [
        "# KNN\n",
        "tuned_parameters = [{'n_neighbors': [1,2,3,4,5,10,15,20], 'p': [1,2]}]\n",
        "\n",
        "MSE_knn = ['mean_squared_error(y_test,y_pred)']\n",
        "for i in MSE_knn:\n",
        "    model = GridSearchCV(KNeighborsRegressor(), tuned_parameters, cv=4)\n",
        "    model.fit(X_train_scaled, y_train)\n",
        "    y_true, y_pred6 = y_test, model.predict(X_test_scaled)\n",
        "    \n",
        "print('The best hyper-parameters for KNN are: ', model.best_params_)"
      ],
      "execution_count": null,
      "outputs": [
        {
          "output_type": "stream",
          "text": [
            "The best hyper-parameters for KNN are:  {'n_neighbors': 10, 'p': 1}\n"
          ],
          "name": "stdout"
        }
      ]
    },
    {
      "cell_type": "markdown",
      "metadata": {
        "id": "Hh6PFiERXGqQ"
      },
      "source": [
        "I tried to do hyperparameter tuning for SVM model but since SVM has more hyperparameters than others and also more computationally intensive so I couldn't do hyperparameter tuning and performance of model was also poor."
      ]
    },
    {
      "cell_type": "code",
      "metadata": {
        "id": "1FokRsFtn5wG"
      },
      "source": [
        "# SVM\n",
        "# tuned_parameters = [{'kernel': ['linear', 'rbf', 'poly'], 'C':[1, 2, 3, 5, 6, 7, 10], 'gamma': [0.0001, 0.001, 0.01, 0.1, 1]}]\n",
        "\n",
        "# MSE_svm = ['mean_squared_error(y_test,y_pred7)']\n",
        "# for value in MSE_svm:\n",
        "#     svr_regr = GridSearchCV(SVR(), tuned_parameters, cv=4)\n",
        "#     svr_regr.fit(X_train_scaled, y_train)\n",
        "#     y_true, y_pred7 = y_test, svr_regr.predict(X_test_scaled)\n",
        "    \n",
        "# print('The best hyper-parameters for SVR are: ', svr_regr.best_params_)"
      ],
      "execution_count": null,
      "outputs": []
    },
    {
      "cell_type": "code",
      "metadata": {
        "id": "uCXZtgi6kPhT",
        "outputId": "fc68d32e-ff2d-407f-cde5-c07d556b3948",
        "colab": {
          "base_uri": "https://localhost:8080/"
        }
      },
      "source": [
        "# XGboost\n",
        "tuned_parameters = [{'max_depth': [5,10, 15, 20, 25, 30],'learning_rate':[0.001, 0.01, 0.1, 0.5], 'n_estimators': [100,150,200, 250, 300]}]\n",
        "MSE_xgb = ['mean_squared_error(y_test,y_pred2)']\n",
        "for value in MSE_xgb:\n",
        "    regr = GridSearchCV(xgb.XGBRegressor(silent = True), tuned_parameters, cv=4)\n",
        "    regr.fit(X_train, y_train)\n",
        "    y_true, y_pred2 = y_test, regr.predict(X_test)\n",
        "    \n",
        "print('The best hyper-parameters for XGBBoost are: ',regr.best_params_)"
      ],
      "execution_count": null,
      "outputs": [
        {
          "output_type": "stream",
          "text": [
            "The best hyper-parameters for XGBBoost are:  {'learning_rate': 0.1, 'max_depth': 5, 'n_estimators': 100}\n"
          ],
          "name": "stdout"
        }
      ]
    },
    {
      "cell_type": "code",
      "metadata": {
        "id": "am7spDJZntvR",
        "outputId": "a91ee8d3-2db3-40be-9ada-0f8b62d38616",
        "colab": {
          "base_uri": "https://localhost:8080/"
        }
      },
      "source": [
        "# AdaBoost\n",
        "tuned_parameters = [{'learning_rate': [0.1,1,2,3,4,5], 'n_estimators': [100,200,300, 400, 500]}]\n",
        "MSE_ada = ['mean_squared_error(y_test,y_pred3)']\n",
        "for value in MSE_ada:\n",
        "    adaregr = GridSearchCV(AdaBoostRegressor(), tuned_parameters, cv=4)\n",
        "    adaregr.fit(X_train, y_train)\n",
        "    y_true, y_pred3 = y_test, adaregr.predict(X_test)\n",
        "    \n",
        "print('The best hyper-parameters for AdaBoost are: ', adaregr.best_params_ )"
      ],
      "execution_count": null,
      "outputs": [
        {
          "output_type": "stream",
          "text": [
            "The best hyper-parameters for AdaBoost are:  {'learning_rate': 0.1, 'n_estimators': 500}\n"
          ],
          "name": "stdout"
        }
      ]
    },
    {
      "cell_type": "markdown",
      "metadata": {
        "id": "O1oSIuY0SL0j"
      },
      "source": [
        "## Training and evaluating the models"
      ]
    },
    {
      "cell_type": "code",
      "metadata": {
        "id": "BFaHUHikn8Hv",
        "outputId": "3eb68d4d-7f8f-4401-94a2-3e04e5a7cf2c",
        "colab": {
          "base_uri": "https://localhost:8080/"
        }
      },
      "source": [
        "# Linear Regression\n",
        "regressor = LinearRegression()\n",
        "regressor.fit(X_train_scaled, y_train)\n",
        "\n",
        "# Decision Tree\n",
        "regressor_dt = DecisionTreeRegressor(random_state=0, max_depth = 10)\n",
        "regressor_dt.fit(X_train,y_train)\n",
        "\n",
        "# Random Forests\n",
        "regr_rf = RandomForestRegressor(max_depth=10, random_state=0,\n",
        "                             n_estimators=200)\n",
        "regr_rf.fit(X_train, y_train)\n",
        "\n",
        "# KNN\n",
        "neigh = KNeighborsRegressor(n_neighbors = 10, metric = 'minkowski', p = 1)\n",
        "neigh.fit(X_train_scaled, y_train)\n",
        "\n",
        "# XGBoost\n",
        "regr = xgb.XGBRegressor(learning_rate=0.1, max_depth=5, n_estimators=100, random_state = 0, silent = True)\n",
        "regr.fit(X_train, y_train)\n",
        "\n",
        "# AdaBoost\n",
        "adaregr = AdaBoostRegressor(random_state=0, learning_rate = 0.1, n_estimators=500)\n",
        "adaregr.fit(X_train, y_train)\n"
      ],
      "execution_count": null,
      "outputs": [
        {
          "output_type": "execute_result",
          "data": {
            "text/plain": [
              "AdaBoostRegressor(base_estimator=None, learning_rate=0.1, loss='linear',\n",
              "                  n_estimators=500, random_state=0)"
            ]
          },
          "metadata": {
            "tags": []
          },
          "execution_count": 48
        }
      ]
    },
    {
      "cell_type": "code",
      "metadata": {
        "id": "-roE_X86n_iv"
      },
      "source": [
        "y_pred1 = regressor.predict(X_test_scaled)    # Linear regression\n",
        "y_pred2 = regressor_dt.predict(X_test)        # Decision Tree\n",
        "y_pred3 = regr_rf.predict(X_test)             # Random Forests\n",
        "y_pred4 = neigh.predict(X_test_scaled)        # KNN\n",
        "y_pred5 = regr.predict(X_test)                # XGBoost\n",
        "y_pred6 = adaregr.predict(X_test)             # AdaBoost"
      ],
      "execution_count": null,
      "outputs": []
    },
    {
      "cell_type": "code",
      "metadata": {
        "id": "q-SjYCbRoCe0",
        "outputId": "566f940a-f4e4-42d6-8c2e-b1d0603bd376",
        "colab": {
          "base_uri": "https://localhost:8080/"
        }
      },
      "source": [
        "print('The R^2 value for Linear Regression is        :', round((r2_score(y_test,y_pred1)), 3))\n",
        "print('The R^2 value for Decision Tree Regressor is  :', round((r2_score(y_test,y_pred2)), 3))\n",
        "print('The R^2 value for Random Forests Regressor is :', round((r2_score(y_test,y_pred3)), 3))\n",
        "print('The R^2 value for KNN Regressor is            :', round((r2_score(y_test,y_pred4)), 3))\n",
        "print('The R^2 value for XGBoost Regressor is        :', round((r2_score(y_test,y_pred5)), 3))\n",
        "print('The R^2 value for AdaBoost Regressor is       :', round((r2_score(y_test,y_pred6)), 3))"
      ],
      "execution_count": null,
      "outputs": [
        {
          "output_type": "stream",
          "text": [
            "The R^2 value for Linear Regression is        : 0.885\n",
            "The R^2 value for Decision Tree Regressor is  : 0.92\n",
            "The R^2 value for Random Forests Regressor is : 0.93\n",
            "The R^2 value for KNN Regressor is            : 0.35\n",
            "The R^2 value for XGBoost Regressor is        : 0.933\n",
            "The R^2 value for AdaBoost Regressor is       : 0.663\n"
          ],
          "name": "stdout"
        }
      ]
    },
    {
      "cell_type": "code",
      "metadata": {
        "id": "7x1IyHyDoH30",
        "outputId": "b2a77a59-7125-4a0e-afbd-6c71704c91b3",
        "colab": {
          "base_uri": "https://localhost:8080/"
        }
      },
      "source": [
        "print('The Adj R2 value for Linear Regression is        :', round((1 - (1-r2_score(y_test,y_pred1))*(len(y)-1)/(len(y)-X.shape[1]-1)),3))\n",
        "print('The Adj R2 value for Decision Tree Regressor is  :', round((1 - (1-r2_score(y_test,y_pred2))*(len(y)-1)/(len(y)-X.shape[1]-1)),3))\n",
        "print('The Adj R2 value for Random Forests Regressor is :', round((1 - (1-r2_score(y_test,y_pred3))*(len(y)-1)/(len(y)-X.shape[1]-1)),3))\n",
        "print('The Adj R2 value for KNN Regressor is            :', round((1 - (1-r2_score(y_test,y_pred4))*(len(y)-1)/(len(y)-X.shape[1]-1)),3))\n",
        "print('The Adj R2 value for XGBoost Regressor is        :', round((1 - (1-r2_score(y_test,y_pred5))*(len(y)-1)/(len(y)-X.shape[1]-1)),3))\n",
        "print('The Adj R2 value for AdaBoost Regressor is       :', round((1 - (1-r2_score(y_test,y_pred6))*(len(y)-1)/(len(y)-X.shape[1]-1)),3))"
      ],
      "execution_count": null,
      "outputs": [
        {
          "output_type": "stream",
          "text": [
            "The Adj R2 value for Linear Regression is        : 0.885\n",
            "The Adj R2 value for Decision Tree Regressor is  : 0.92\n",
            "The Adj R2 value for Random Forests Regressor is : 0.93\n",
            "The Adj R2 value for KNN Regressor is            : 0.349\n",
            "The Adj R2 value for XGBoost Regressor is        : 0.932\n",
            "The Adj R2 value for AdaBoost Regressor is       : 0.663\n"
          ],
          "name": "stdout"
        }
      ]
    },
    {
      "cell_type": "code",
      "metadata": {
        "id": "mk-FAZhboKXl"
      },
      "source": [
        "MSE_lr  = mean_squared_error(y_test,y_pred1)\n",
        "MSE_dt  = mean_squared_error(y_test,y_pred2)\n",
        "MSE_rf  = mean_squared_error(y_test,y_pred3)\n",
        "MSE_knn = mean_squared_error(y_test,y_pred4)\n",
        "MSE_xgb = mean_squared_error(y_test,y_pred5)\n",
        "MSE_ada = mean_squared_error(y_test,y_pred6)"
      ],
      "execution_count": null,
      "outputs": []
    },
    {
      "cell_type": "code",
      "metadata": {
        "id": "-GkR962NoM8o",
        "outputId": "ff7e0637-b858-47b6-9561-b15d125483d6",
        "colab": {
          "base_uri": "https://localhost:8080/"
        }
      },
      "source": [
        "print('The RMSE value for Linear Regression is        :', round(np.sqrt(MSE_lr)));\n",
        "print('The RMSE value for Decision Tree Regressor is  :', round(np.sqrt(MSE_dt)));\n",
        "print('The RMSE value for Random Forests Regressor is :', round(np.sqrt(MSE_rf)));\n",
        "print('The RMSE value for KNN Regressor is            :', round(np.sqrt(MSE_knn)));\n",
        "print('The RMSE value for XGBoost Regressor is        :', round(np.sqrt(MSE_xgb)));\n",
        "print('The RMSE value for AdaBoost Regressor is       :', round(np.sqrt(MSE_ada)));"
      ],
      "execution_count": null,
      "outputs": [
        {
          "output_type": "stream",
          "text": [
            "The RMSE value for Linear Regression is        : 6.0\n",
            "The RMSE value for Decision Tree Regressor is  : 5.0\n",
            "The RMSE value for Random Forests Regressor is : 5.0\n",
            "The RMSE value for KNN Regressor is            : 14.0\n",
            "The RMSE value for XGBoost Regressor is        : 4.0\n",
            "The RMSE value for AdaBoost Regressor is       : 10.0\n"
          ],
          "name": "stdout"
        }
      ]
    },
    {
      "cell_type": "code",
      "metadata": {
        "id": "S4t59ZF-HChN",
        "outputId": "32ca046a-9496-4ed1-bb40-4e743e2dff60",
        "colab": {
          "base_uri": "https://localhost:8080/",
          "height": 398
        }
      },
      "source": [
        "# prepare configuration for cross validation test harness\n",
        "seed = 7\n",
        "# prepare models\n",
        "models = []\n",
        "models.append(('DT', regressor_dt))\n",
        "models.append(('XGB', regr))\n",
        "models.append(('ADA', adaregr))\n",
        "models.append(('RF', regr_rf))\n",
        "\n",
        "scaled_models = []\n",
        "scaled_models.append(('LR', regressor))\n",
        "scaled_models.append(('KNN', neigh))\n",
        "\n",
        "# evaluate each model in turn\n",
        "results = []\n",
        "names = []\n",
        "for name, model in models:\n",
        "\tkfold = model_selection.KFold(n_splits=10, random_state=seed)\n",
        "\tcv_results = model_selection.cross_val_score(model, X_test, y_test, cv=kfold)\n",
        "\tresults.append(cv_results)\n",
        "\tnames.append(name)\n",
        "\tmsg = \"%s: %f (%f)\" % (name, cv_results.mean(), cv_results.std())\n",
        "\tprint(msg)\n",
        "\n",
        "for name, model in scaled_models:\n",
        "\tkfold = model_selection.KFold(n_splits=10, random_state=seed)\n",
        "\tcv_results = model_selection.cross_val_score(model, X_test_scaled, y_test, cv=kfold)\n",
        "\tresults.append(cv_results)\n",
        "\tnames.append(name)\n",
        "\tmsg1 = \"%s: %f (%f)\" % (name, cv_results.mean(), cv_results.std())\n",
        "\tprint(msg1)\n",
        "# boxplot algorithm comparison\n",
        "fig = plt.figure()\n",
        "fig.suptitle('Model Comparison')\n",
        "ax = fig.add_subplot(111)\n",
        "plt.boxplot(results)\n",
        "ax.set_xticklabels(names)\n",
        "plt.show()"
      ],
      "execution_count": 64,
      "outputs": [
        {
          "output_type": "stream",
          "text": [
            "DT: 0.918228 (0.040159)\n",
            "XGB: 0.930013 (0.040738)\n",
            "ADA: 0.342305 (0.165354)\n",
            "RF: 0.927163 (0.040646)\n",
            "LR: 0.883194 (0.032461)\n",
            "KNN: 0.329658 (0.040847)\n"
          ],
          "name": "stdout"
        },
        {
          "output_type": "display_data",
          "data": {
            "image/png": "[encoded data removed]",
            "text/plain": [
              "<Figure size 432x288 with 1 Axes>"
            ]
          },
          "metadata": {
            "tags": [],
            "needs_background": "light"
          }
        }
      ]
    },
    {
      "cell_type": "markdown",
      "metadata": {
        "id": "74NTPpQxqhjx"
      },
      "source": [
        "Calculating statistical significance XGBoost and Random Forest using 5 by 2 CV using MLxtend package"
      ]
    },
    {
      "cell_type": "code",
      "metadata": {
        "id": "daR5mD87olJE",
        "outputId": "8818bcf4-5d94-4918-96e8-67c0798b29c1",
        "colab": {
          "base_uri": "https://localhost:8080/"
        }
      },
      "source": [
        "from mlxtend.evaluate import paired_ttest_5x2cv\n",
        "\n",
        "t, p = paired_ttest_5x2cv(estimator1=regr,\n",
        "                              estimator2=regr_rf,\n",
        "                              X=X_test, y=y_test,scoring='r2', \n",
        "                              random_seed=1)\n",
        "\n",
        "# summarize\n",
        "print(f'The P-value is = {p:.3f}')\n",
        "print(f'The t-statistics is = {t:.3f}')\n",
        "# interpret the result\n",
        "if p <= 0.05:\n",
        "    print('Since p<0.05, We can reject the null-hypothesis that both models perform equally well on this dataset. We may conclude that the two algorithms are significantly different.')\n",
        "else:\n",
        "    print('Since p>0.05, we cannot reject the null hypothesis and may conclude that the performance of the two algorithms is not significantly different.')\n"
      ],
      "execution_count": 71,
      "outputs": [
        {
          "output_type": "stream",
          "text": [
            "The P-value is = 0.587\n",
            "The t-statistics is = 0.581\n",
            "Since p>0.05, we cannot reject the null hypothesis and may conclude that the performance of the two algorithms is not significantly different.\n"
          ],
          "name": "stdout"
        }
      ]
    },
    {
      "cell_type": "markdown",
      "metadata": {
        "id": "hu91a4BXl6Gh"
      },
      "source": [
        "Therefore, performance of XGBoost and Random forest is not statistical significant and we can use any of both models\n",
        "\n",
        "**So, on the basis of Adj-R^2, RMSE and k-fold test we can conclude that we can select XGBoost Model for predicting Covid-19 risk infection.**"
      ]
    }
  ]
}